{
 "cells": [
  {
   "cell_type": "markdown",
   "metadata": {
    "lang": "en"
   },
   "source": [
    "# Determining the cost of cars"
   ]
  },
  {
   "cell_type": "markdown",
   "metadata": {
    "lang": "en"
   },
   "source": [
    "The service for selling used cars “Not a Bit, Not a Paint” is developing an application to attract new customers. Here you can quickly find out the market value of your car. Historical data is at your disposal: technical characteristics, configurations and prices of cars. You need to build a model to determine the cost.\n",
    "\n",
    "The following are important to the customer:\n",
    "\n",
    "- quality of prediction;\n",
    "- prediction speed;\n",
    "- learning time."
   ]
  },
  {
   "cell_type": "markdown",
   "metadata": {},
   "source": [
    "P.s initially the project was executed in Russian, and only then it was translated into English using an auto-translator, so errors or untranslated sections are possible."
   ]
  },
  {
   "cell_type": "markdown",
   "metadata": {
    "lang": "en"
   },
   "source": [
    "## Data preparation"
   ]
  },
  {
   "cell_type": "code",
   "execution_count": 2,
   "metadata": {},
   "outputs": [],
   "source": [
    "import pandas as pd\n",
    "import numpy as np\n",
    "import matplotlib.pyplot as plt\n",
    "import seaborn as sns\n",
    "import time\n",
    "sns.set_palette(sns.blend_palette(['blue', 'red'],2))\n",
    "\n",
    "from scipy.stats import f_oneway, chi2_contingency\n",
    "\n",
    "from sklearn.preprocessing import StandardScaler\n",
    "from sklearn.model_selection import train_test_split\n",
    "from sklearn.preprocessing import OneHotEncoder\n",
    "from category_encoders.binary import BinaryEncoder\n",
    "from sklearn.model_selection import GridSearchCV\n",
    "from lightgbm import LGBMRegressor\n",
    "from catboost import CatBoostRegressor\n",
    "from sklearn.linear_model import LinearRegression\n",
    "from sklearn.ensemble import RandomForestRegressor\n",
    "from sklearn.neighbors import KNeighborsRegressor\n",
    "from sklearn.metrics import mean_squared_error\n",
    "\n",
    "from math import sqrt\n",
    "\n",
    "import warnings\n",
    "warnings.filterwarnings('ignore')"
   ]
  },
  {
   "cell_type": "markdown",
   "metadata": {
    "lang": "en"
   },
   "source": [
    "### First look"
   ]
  },
  {
   "cell_type": "code",
   "execution_count": 3,
   "metadata": {},
   "outputs": [],
   "source": [
    "data = pd.read_csv('/datasets/autos.csv')"
   ]
  },
  {
   "cell_type": "code",
   "execution_count": 4,
   "metadata": {},
   "outputs": [
    {
     "data": {
      "text/html": [
       "<div>\n",
       "<style scoped>\n",
       "    .dataframe tbody tr th:only-of-type {\n",
       "        vertical-align: middle;\n",
       "    }\n",
       "\n",
       "    .dataframe tbody tr th {\n",
       "        vertical-align: top;\n",
       "    }\n",
       "\n",
       "    .dataframe thead th {\n",
       "        text-align: right;\n",
       "    }\n",
       "</style>\n",
       "<table border=\"1\" class=\"dataframe\">\n",
       "  <thead>\n",
       "    <tr style=\"text-align: right;\">\n",
       "      <th></th>\n",
       "      <th>DateCrawled</th>\n",
       "      <th>Price</th>\n",
       "      <th>VehicleType</th>\n",
       "      <th>RegistrationYear</th>\n",
       "      <th>Gearbox</th>\n",
       "      <th>Power</th>\n",
       "      <th>Model</th>\n",
       "      <th>Kilometer</th>\n",
       "      <th>RegistrationMonth</th>\n",
       "      <th>FuelType</th>\n",
       "      <th>Brand</th>\n",
       "      <th>Repaired</th>\n",
       "      <th>DateCreated</th>\n",
       "      <th>NumberOfPictures</th>\n",
       "      <th>PostalCode</th>\n",
       "      <th>LastSeen</th>\n",
       "    </tr>\n",
       "  </thead>\n",
       "  <tbody>\n",
       "    <tr>\n",
       "      <th>0</th>\n",
       "      <td>2016-03-24 11:52:17</td>\n",
       "      <td>480</td>\n",
       "      <td>NaN</td>\n",
       "      <td>1993</td>\n",
       "      <td>manual</td>\n",
       "      <td>0</td>\n",
       "      <td>golf</td>\n",
       "      <td>150000</td>\n",
       "      <td>0</td>\n",
       "      <td>petrol</td>\n",
       "      <td>volkswagen</td>\n",
       "      <td>NaN</td>\n",
       "      <td>2016-03-24 00:00:00</td>\n",
       "      <td>0</td>\n",
       "      <td>70435</td>\n",
       "      <td>2016-04-07 03:16:57</td>\n",
       "    </tr>\n",
       "    <tr>\n",
       "      <th>1</th>\n",
       "      <td>2016-03-24 10:58:45</td>\n",
       "      <td>18300</td>\n",
       "      <td>coupe</td>\n",
       "      <td>2011</td>\n",
       "      <td>manual</td>\n",
       "      <td>190</td>\n",
       "      <td>NaN</td>\n",
       "      <td>125000</td>\n",
       "      <td>5</td>\n",
       "      <td>gasoline</td>\n",
       "      <td>audi</td>\n",
       "      <td>yes</td>\n",
       "      <td>2016-03-24 00:00:00</td>\n",
       "      <td>0</td>\n",
       "      <td>66954</td>\n",
       "      <td>2016-04-07 01:46:50</td>\n",
       "    </tr>\n",
       "    <tr>\n",
       "      <th>2</th>\n",
       "      <td>2016-03-14 12:52:21</td>\n",
       "      <td>9800</td>\n",
       "      <td>suv</td>\n",
       "      <td>2004</td>\n",
       "      <td>auto</td>\n",
       "      <td>163</td>\n",
       "      <td>grand</td>\n",
       "      <td>125000</td>\n",
       "      <td>8</td>\n",
       "      <td>gasoline</td>\n",
       "      <td>jeep</td>\n",
       "      <td>NaN</td>\n",
       "      <td>2016-03-14 00:00:00</td>\n",
       "      <td>0</td>\n",
       "      <td>90480</td>\n",
       "      <td>2016-04-05 12:47:46</td>\n",
       "    </tr>\n",
       "    <tr>\n",
       "      <th>3</th>\n",
       "      <td>2016-03-17 16:54:04</td>\n",
       "      <td>1500</td>\n",
       "      <td>small</td>\n",
       "      <td>2001</td>\n",
       "      <td>manual</td>\n",
       "      <td>75</td>\n",
       "      <td>golf</td>\n",
       "      <td>150000</td>\n",
       "      <td>6</td>\n",
       "      <td>petrol</td>\n",
       "      <td>volkswagen</td>\n",
       "      <td>no</td>\n",
       "      <td>2016-03-17 00:00:00</td>\n",
       "      <td>0</td>\n",
       "      <td>91074</td>\n",
       "      <td>2016-03-17 17:40:17</td>\n",
       "    </tr>\n",
       "    <tr>\n",
       "      <th>4</th>\n",
       "      <td>2016-03-31 17:25:20</td>\n",
       "      <td>3600</td>\n",
       "      <td>small</td>\n",
       "      <td>2008</td>\n",
       "      <td>manual</td>\n",
       "      <td>69</td>\n",
       "      <td>fabia</td>\n",
       "      <td>90000</td>\n",
       "      <td>7</td>\n",
       "      <td>gasoline</td>\n",
       "      <td>skoda</td>\n",
       "      <td>no</td>\n",
       "      <td>2016-03-31 00:00:00</td>\n",
       "      <td>0</td>\n",
       "      <td>60437</td>\n",
       "      <td>2016-04-06 10:17:21</td>\n",
       "    </tr>\n",
       "  </tbody>\n",
       "</table>\n",
       "</div>"
      ],
      "text/plain": [
       "           DateCrawled  Price VehicleType  RegistrationYear Gearbox  Power  \\\n",
       "0  2016-03-24 11:52:17    480         NaN              1993  manual      0   \n",
       "1  2016-03-24 10:58:45  18300       coupe              2011  manual    190   \n",
       "2  2016-03-14 12:52:21   9800         suv              2004    auto    163   \n",
       "3  2016-03-17 16:54:04   1500       small              2001  manual     75   \n",
       "4  2016-03-31 17:25:20   3600       small              2008  manual     69   \n",
       "\n",
       "   Model  Kilometer  RegistrationMonth  FuelType       Brand Repaired  \\\n",
       "0   golf     150000                  0    petrol  volkswagen      NaN   \n",
       "1    NaN     125000                  5  gasoline        audi      yes   \n",
       "2  grand     125000                  8  gasoline        jeep      NaN   \n",
       "3   golf     150000                  6    petrol  volkswagen       no   \n",
       "4  fabia      90000                  7  gasoline       skoda       no   \n",
       "\n",
       "           DateCreated  NumberOfPictures  PostalCode             LastSeen  \n",
       "0  2016-03-24 00:00:00                 0       70435  2016-04-07 03:16:57  \n",
       "1  2016-03-24 00:00:00                 0       66954  2016-04-07 01:46:50  \n",
       "2  2016-03-14 00:00:00                 0       90480  2016-04-05 12:47:46  \n",
       "3  2016-03-17 00:00:00                 0       91074  2016-03-17 17:40:17  \n",
       "4  2016-03-31 00:00:00                 0       60437  2016-04-06 10:17:21  "
      ]
     },
     "execution_count": 4,
     "metadata": {},
     "output_type": "execute_result"
    }
   ],
   "source": [
    "data.head()"
   ]
  },
  {
   "cell_type": "markdown",
   "metadata": {
    "lang": "en"
   },
   "source": [
    "DateCrawled — date the profile was downloaded from the database\n",
    "\n",
    "VehicleType - car body type\n",
    "\n",
    "RegistrationYear—year of vehicle registration\n",
    "\n",
    "Gearbox - gearbox type\n",
    "\n",
    "Power - power (hp)\n",
    "\n",
    "Model - car model\n",
    "\n",
    "Kilometer - mileage (km)\n",
    "\n",
    "RegistrationMonth — month of vehicle registration\n",
    "\n",
    "FuelType - fuel type\n",
    "\n",
    "Brand - car brand\n",
    "\n",
    "Repaired - whether the car was repaired or not\n",
    "\n",
    "DateCreated — date of creation of the questionnaire\n",
    "\n",
    "NumberOfPictures — number of photos of the car\n",
    "\n",
    "PostalCode — postal code of the profile owner (user)\n",
    "\n",
    "LastSeen - date of last user activity\n",
    "\n",
    "Price - price (euros)"
   ]
  },
  {
   "cell_type": "code",
   "execution_count": 5,
   "metadata": {},
   "outputs": [
    {
     "name": "stdout",
     "output_type": "stream",
     "text": [
      "<class 'pandas.core.frame.DataFrame'>\n",
      "RangeIndex: 354369 entries, 0 to 354368\n",
      "Data columns (total 16 columns):\n",
      " #   Column             Non-Null Count   Dtype \n",
      "---  ------             --------------   ----- \n",
      " 0   DateCrawled        354369 non-null  object\n",
      " 1   Price              354369 non-null  int64 \n",
      " 2   VehicleType        316879 non-null  object\n",
      " 3   RegistrationYear   354369 non-null  int64 \n",
      " 4   Gearbox            334536 non-null  object\n",
      " 5   Power              354369 non-null  int64 \n",
      " 6   Model              334664 non-null  object\n",
      " 7   Kilometer          354369 non-null  int64 \n",
      " 8   RegistrationMonth  354369 non-null  int64 \n",
      " 9   FuelType           321474 non-null  object\n",
      " 10  Brand              354369 non-null  object\n",
      " 11  Repaired           283215 non-null  object\n",
      " 12  DateCreated        354369 non-null  object\n",
      " 13  NumberOfPictures   354369 non-null  int64 \n",
      " 14  PostalCode         354369 non-null  int64 \n",
      " 15  LastSeen           354369 non-null  object\n",
      "dtypes: int64(7), object(9)\n",
      "memory usage: 43.3+ MB\n"
     ]
    }
   ],
   "source": [
    "data.info()"
   ]
  },
  {
   "cell_type": "code",
   "execution_count": 6,
   "metadata": {},
   "outputs": [
    {
     "data": {
      "text/plain": [
       "VehicleType    10.58\n",
       "Gearbox         5.60\n",
       "Model           5.56\n",
       "FuelType        9.28\n",
       "Repaired       20.08\n",
       "dtype: float64"
      ]
     },
     "execution_count": 6,
     "metadata": {},
     "output_type": "execute_result"
    }
   ],
   "source": [
    "(data.isna().sum()*100/data.shape[0]).round(2).loc[(data.isna().sum()*100/data.shape[0]).round(2) > 0]"
   ]
  },
  {
   "cell_type": "code",
   "execution_count": 7,
   "metadata": {},
   "outputs": [
    {
     "data": {
      "text/plain": [
       "4"
      ]
     },
     "execution_count": 7,
     "metadata": {},
     "output_type": "execute_result"
    }
   ],
   "source": [
    "data.duplicated().sum()"
   ]
  },
  {
   "cell_type": "markdown",
   "metadata": {
    "lang": "en"
   },
   "source": [
    "After a quick look at the data, we have the following:\n",
    "\n",
    "1. There are obvious duplicates, we delete them (4 in total)\n",
    "\n",
    "2. There are gaps (up to 20%), we will process them.\n",
    "\n",
    "3. There are unnecessary columns (the date the ad was uploaded, the month the car was registered, the postal code of the owner of the profile, the number of photos of the car, the date of the last user activity, the date the profile was created)."
   ]
  },
  {
   "cell_type": "markdown",
   "metadata": {
    "lang": "en"
   },
   "source": [
    "### Remove duplicates"
   ]
  },
  {
   "cell_type": "code",
   "execution_count": 8,
   "metadata": {},
   "outputs": [],
   "source": [
    "data = data.drop_duplicates().reset_index(drop = True)"
   ]
  },
  {
   "cell_type": "code",
   "execution_count": 9,
   "metadata": {},
   "outputs": [
    {
     "data": {
      "text/plain": [
       "0"
      ]
     },
     "execution_count": 9,
     "metadata": {},
     "output_type": "execute_result"
    }
   ],
   "source": [
    "data.duplicated().sum()"
   ]
  },
  {
   "cell_type": "markdown",
   "metadata": {
    "lang": "en"
   },
   "source": [
    "### Process the gaps"
   ]
  },
  {
   "cell_type": "code",
   "execution_count": 10,
   "metadata": {},
   "outputs": [
    {
     "data": {
      "text/plain": [
       "VehicleType    10.58\n",
       "Gearbox         5.60\n",
       "Model           5.56\n",
       "FuelType        9.28\n",
       "Repaired       20.08\n",
       "dtype: float64"
      ]
     },
     "execution_count": 10,
     "metadata": {},
     "output_type": "execute_result"
    }
   ],
   "source": [
    "(data.isna().sum()*100/data.shape[0]).round(2).loc[(data.isna().sum()*100/data.shape[0]).round(2) > 0]"
   ]
  },
  {
   "cell_type": "markdown",
   "metadata": {
    "lang": "en"
   },
   "source": [
    "1. Let's start with Model. Since this attribute is the most difficult to restore, we will indicate Model = 'other' for gaps, because most likely they appeared due to the fact that the form did not have the required model when creating the questionnaire.\n",
    "\n",
    "2. VehicleType. Let's fill in the gaps with the values ​​of the same models, if any. If not, then 'other'\n",
    "\n",
    "3. FuelType. Similarly (we take the same model), but we will also compare it in terms of power (the same model can have both gasoline and diesel, but their power is definitely different)\n",
    "\n",
    "4. Gearbox. Let's fill in the gaps with the values ​​of the same models, if any. If not, then 'other'.\n",
    "\n",
    "5. Repaired. Let's look at the correlation with mileage"
   ]
  },
  {
   "cell_type": "markdown",
   "metadata": {},
   "source": [
    "#### Model"
   ]
  },
  {
   "cell_type": "code",
   "execution_count": 11,
   "metadata": {},
   "outputs": [],
   "source": [
    "data['Model'] = data['Model'].fillna('other')"
   ]
  },
  {
   "cell_type": "code",
   "execution_count": 12,
   "metadata": {},
   "outputs": [
    {
     "data": {
      "text/plain": [
       "VehicleType    10.58\n",
       "Gearbox         5.60\n",
       "FuelType        9.28\n",
       "Repaired       20.08\n",
       "dtype: float64"
      ]
     },
     "execution_count": 12,
     "metadata": {},
     "output_type": "execute_result"
    }
   ],
   "source": [
    "(data.isna().sum()*100/data.shape[0]).round(2).loc[(data.isna().sum()*100/data.shape[0]).round(2) > 0]"
   ]
  },
  {
   "cell_type": "markdown",
   "metadata": {},
   "source": [
    "#### VehicleType"
   ]
  },
  {
   "cell_type": "code",
   "execution_count": 13,
   "metadata": {},
   "outputs": [
    {
     "data": {
      "text/plain": [
       "0"
      ]
     },
     "execution_count": 13,
     "metadata": {},
     "output_type": "execute_result"
    }
   ],
   "source": [
    "data[\"VehicleType\"] = data.groupby([\"Brand\", \"Model\"])[\"VehicleType\"].transform(lambda x: x.fillna(x.mode().iat[0]) if len(x.mode()) > 0 else x)\n",
    "data[\"VehicleType\"].fillna(\"other\", inplace=True)\n",
    "data[\"VehicleType\"].isna().sum()"
   ]
  },
  {
   "cell_type": "code",
   "execution_count": 14,
   "metadata": {},
   "outputs": [
    {
     "data": {
      "text/plain": [
       "sedan          106568\n",
       "small           92106\n",
       "wagon           69204\n",
       "bus             32916\n",
       "convertible     20458\n",
       "coupe           17160\n",
       "suv             12662\n",
       "other            3291\n",
       "Name: VehicleType, dtype: int64"
      ]
     },
     "execution_count": 14,
     "metadata": {},
     "output_type": "execute_result"
    }
   ],
   "source": [
    "data[\"VehicleType\"].value_counts()"
   ]
  },
  {
   "cell_type": "code",
   "execution_count": 15,
   "metadata": {},
   "outputs": [
    {
     "data": {
      "text/plain": [
       "Gearbox      5.60\n",
       "FuelType     9.28\n",
       "Repaired    20.08\n",
       "dtype: float64"
      ]
     },
     "execution_count": 15,
     "metadata": {},
     "output_type": "execute_result"
    }
   ],
   "source": [
    "(data.isna().sum()*100/data.shape[0]).round(2).loc[(data.isna().sum()*100/data.shape[0]).round(2) > 0]"
   ]
  },
  {
   "cell_type": "markdown",
   "metadata": {},
   "source": [
    "#### FuelType"
   ]
  },
  {
   "cell_type": "code",
   "execution_count": 16,
   "metadata": {},
   "outputs": [
    {
     "data": {
      "text/plain": [
       "0"
      ]
     },
     "execution_count": 16,
     "metadata": {},
     "output_type": "execute_result"
    }
   ],
   "source": [
    "data[\"FuelType\"] = data.groupby([\"Brand\", \"Model\", \"Power\"])[\"FuelType\"].transform(lambda x: x.fillna(x.mode().iat[0]) if len(x.mode()) > 0 else x)\n",
    "data[\"FuelType\"].fillna(\"other\", inplace=True)\n",
    "data[\"FuelType\"].isna().sum()"
   ]
  },
  {
   "cell_type": "code",
   "execution_count": 17,
   "metadata": {},
   "outputs": [
    {
     "data": {
      "text/plain": [
       "petrol      243129\n",
       "gasoline    104068\n",
       "lpg           5342\n",
       "other          907\n",
       "cng            579\n",
       "hybrid         243\n",
       "electric        97\n",
       "Name: FuelType, dtype: int64"
      ]
     },
     "execution_count": 17,
     "metadata": {},
     "output_type": "execute_result"
    }
   ],
   "source": [
    "data[\"FuelType\"].value_counts()"
   ]
  },
  {
   "cell_type": "code",
   "execution_count": 18,
   "metadata": {},
   "outputs": [
    {
     "data": {
      "text/plain": [
       "Gearbox      5.60\n",
       "Repaired    20.08\n",
       "dtype: float64"
      ]
     },
     "execution_count": 18,
     "metadata": {},
     "output_type": "execute_result"
    }
   ],
   "source": [
    "(data.isna().sum()*100/data.shape[0]).round(2).loc[(data.isna().sum()*100/data.shape[0]).round(2) > 0]"
   ]
  },
  {
   "cell_type": "markdown",
   "metadata": {},
   "source": [
    "#### Gearbox"
   ]
  },
  {
   "cell_type": "code",
   "execution_count": 19,
   "metadata": {},
   "outputs": [
    {
     "data": {
      "text/plain": [
       "0"
      ]
     },
     "execution_count": 19,
     "metadata": {},
     "output_type": "execute_result"
    }
   ],
   "source": [
    "data[\"Gearbox\"] = data.groupby([\"Brand\", \"Model\"])[\"Gearbox\"].transform(lambda x: x.fillna(x.mode().iat[0]) if len(x.mode()) > 0 else x)\n",
    "data[\"Gearbox\"].fillna(\"other\", inplace=True)\n",
    "data[\"Gearbox\"].isna().sum()"
   ]
  },
  {
   "cell_type": "code",
   "execution_count": 20,
   "metadata": {},
   "outputs": [
    {
     "data": {
      "text/plain": [
       "manual    285804\n",
       "auto       68561\n",
       "Name: Gearbox, dtype: int64"
      ]
     },
     "execution_count": 20,
     "metadata": {},
     "output_type": "execute_result"
    }
   ],
   "source": [
    "data[\"Gearbox\"].value_counts()"
   ]
  },
  {
   "cell_type": "code",
   "execution_count": 21,
   "metadata": {},
   "outputs": [
    {
     "data": {
      "text/plain": [
       "Repaired    20.08\n",
       "dtype: float64"
      ]
     },
     "execution_count": 21,
     "metadata": {},
     "output_type": "execute_result"
    }
   ],
   "source": [
    "(data.isna().sum()*100/data.shape[0]).round(2).loc[(data.isna().sum()*100/data.shape[0]).round(2) > 0]"
   ]
  },
  {
   "cell_type": "markdown",
   "metadata": {},
   "source": [
    "#### Repaired"
   ]
  },
  {
   "cell_type": "code",
   "execution_count": 22,
   "metadata": {},
   "outputs": [],
   "source": [
    "rapaired = data.loc[data['Repaired'].isna() == False]"
   ]
  },
  {
   "cell_type": "code",
   "execution_count": 23,
   "metadata": {},
   "outputs": [
    {
     "data": {
      "text/plain": [
       "array(['yes', 'no'], dtype=object)"
      ]
     },
     "execution_count": 23,
     "metadata": {},
     "output_type": "execute_result"
    }
   ],
   "source": [
    "rapaired['Repaired'].unique()"
   ]
  },
  {
   "cell_type": "code",
   "execution_count": 24,
   "metadata": {},
   "outputs": [],
   "source": [
    "rapaired[\"Repaired\"] = rapaired[\"Repaired\"].replace({\"yes\": 1, \"no\": 0})"
   ]
  },
  {
   "cell_type": "code",
   "execution_count": 25,
   "metadata": {},
   "outputs": [
    {
     "name": "stdout",
     "output_type": "stream",
     "text": [
      "Cramer's V: 0.11633596845837464\n"
     ]
    }
   ],
   "source": [
    "crosstab = pd.crosstab(rapaired[\"Repaired\"], rapaired[\"Kilometer\"])\n",
    "chi2, p_value, _, _ = chi2_contingency(crosstab)\n",
    "n = min(crosstab.shape)\n",
    "cramer_v = (chi2 / (rapaired.shape[0] * (n - 1))) ** 0.5\n",
    "print(\"Cramer's V:\", cramer_v)"
   ]
  },
  {
   "cell_type": "markdown",
   "metadata": {
    "lang": "en"
   },
   "source": [
    "Unlucky. Cramer's correlation coefficient is close to 0, which suggests that with increasing mileage there are not necessarily more cars being repaired.\n",
    "\n",
    "Then we will replace the gaps with the fashion of the price group of a particular car, if there is something to compare with, otherwise 'other'"
   ]
  },
  {
   "cell_type": "code",
   "execution_count": 26,
   "metadata": {},
   "outputs": [],
   "source": [
    "def pricegroup(brand, model, price):\n",
    "    return (price - min_p[brand, model])//step[brand, model]"
   ]
  },
  {
   "cell_type": "code",
   "execution_count": 27,
   "metadata": {},
   "outputs": [],
   "source": [
    "def repaired(brand, model, price_group):\n",
    "        return mode_repaired[brand, model, price_group] if mode_repaired[brand, model, price_group] in ['yes', 'no'] else 'other'"
   ]
  },
  {
   "cell_type": "code",
   "execution_count": 28,
   "metadata": {},
   "outputs": [
    {
     "name": "stdout",
     "output_type": "stream",
     "text": [
      "CPU times: user 19.5 s, sys: 132 ms, total: 19.6 s\n",
      "Wall time: 19.6 s\n"
     ]
    }
   ],
   "source": [
    "%%time\n",
    "max_p = data.groupby(['Brand', 'Model']).Price.max()\n",
    "min_p = data.groupby(['Brand', 'Model']).Price.min()\n",
    "\n",
    "step = (max_p - min_p)/4\n",
    "\n",
    "data['price_group'] = data.apply(lambda row: pricegroup(row['Brand'], row['Model'], row['Price']), axis=1)\n",
    "\n",
    "grouped_data = data.groupby(['Brand', 'Model', 'price_group'])\n",
    "mode_repaired = grouped_data['Repaired'].apply(lambda x: (x.mode().iat[0]) if len(x.mode()) > 0 else np.nan)\n",
    "\n",
    "data.loc[data['Repaired'].isna(), 'Repaired'] = data.loc[data['Repaired'].isna()].apply(lambda row: repaired(row['Brand'], row['Model'], row['price_group']), axis=1)\n",
    "\n",
    "data['Repaired'] = data['Repaired'].fillna('other')\n",
    "\n",
    "data = data.drop('price_group', axis =1)"
   ]
  },
  {
   "cell_type": "code",
   "execution_count": 29,
   "metadata": {},
   "outputs": [
    {
     "data": {
      "text/plain": [
       "no       318188\n",
       "yes       36132\n",
       "other        45\n",
       "Name: Repaired, dtype: int64"
      ]
     },
     "execution_count": 29,
     "metadata": {},
     "output_type": "execute_result"
    }
   ],
   "source": [
    "data[\"Repaired\"].value_counts()"
   ]
  },
  {
   "cell_type": "code",
   "execution_count": 30,
   "metadata": {},
   "outputs": [
    {
     "data": {
      "text/plain": [
       "Series([], dtype: float64)"
      ]
     },
     "execution_count": 30,
     "metadata": {},
     "output_type": "execute_result"
    }
   ],
   "source": [
    "(data.isna().sum()*100/data.shape[0]).round(2).loc[(data.isna().sum()*100/data.shape[0]).round(2) > 0]"
   ]
  },
  {
   "cell_type": "markdown",
   "metadata": {
    "lang": "en"
   },
   "source": [
    "No more passes"
   ]
  },
  {
   "cell_type": "markdown",
   "metadata": {
    "lang": "en"
   },
   "source": [
    "### Extra columns"
   ]
  },
  {
   "cell_type": "code",
   "execution_count": 31,
   "metadata": {},
   "outputs": [
    {
     "data": {
      "text/plain": [
       "Index(['DateCrawled', 'Price', 'VehicleType', 'RegistrationYear', 'Gearbox',\n",
       "       'Power', 'Model', 'Kilometer', 'RegistrationMonth', 'FuelType', 'Brand',\n",
       "       'Repaired', 'DateCreated', 'NumberOfPictures', 'PostalCode',\n",
       "       'LastSeen'],\n",
       "      dtype='object')"
      ]
     },
     "execution_count": 31,
     "metadata": {},
     "output_type": "execute_result"
    }
   ],
   "source": [
    "data.columns"
   ]
  },
  {
   "cell_type": "code",
   "execution_count": 32,
   "metadata": {},
   "outputs": [],
   "source": [
    "data = data.drop(['DateCrawled', 'RegistrationMonth', 'NumberOfPictures', 'LastSeen', 'PostalCode', 'DateCreated'], axis=1)"
   ]
  },
  {
   "cell_type": "code",
   "execution_count": 33,
   "metadata": {},
   "outputs": [
    {
     "data": {
      "text/html": [
       "<div>\n",
       "<style scoped>\n",
       "    .dataframe tbody tr th:only-of-type {\n",
       "        vertical-align: middle;\n",
       "    }\n",
       "\n",
       "    .dataframe tbody tr th {\n",
       "        vertical-align: top;\n",
       "    }\n",
       "\n",
       "    .dataframe thead th {\n",
       "        text-align: right;\n",
       "    }\n",
       "</style>\n",
       "<table border=\"1\" class=\"dataframe\">\n",
       "  <thead>\n",
       "    <tr style=\"text-align: right;\">\n",
       "      <th></th>\n",
       "      <th>Price</th>\n",
       "      <th>VehicleType</th>\n",
       "      <th>RegistrationYear</th>\n",
       "      <th>Gearbox</th>\n",
       "      <th>Power</th>\n",
       "      <th>Model</th>\n",
       "      <th>Kilometer</th>\n",
       "      <th>FuelType</th>\n",
       "      <th>Brand</th>\n",
       "      <th>Repaired</th>\n",
       "    </tr>\n",
       "  </thead>\n",
       "  <tbody>\n",
       "    <tr>\n",
       "      <th>0</th>\n",
       "      <td>480</td>\n",
       "      <td>sedan</td>\n",
       "      <td>1993</td>\n",
       "      <td>manual</td>\n",
       "      <td>0</td>\n",
       "      <td>golf</td>\n",
       "      <td>150000</td>\n",
       "      <td>petrol</td>\n",
       "      <td>volkswagen</td>\n",
       "      <td>no</td>\n",
       "    </tr>\n",
       "    <tr>\n",
       "      <th>1</th>\n",
       "      <td>18300</td>\n",
       "      <td>coupe</td>\n",
       "      <td>2011</td>\n",
       "      <td>manual</td>\n",
       "      <td>190</td>\n",
       "      <td>other</td>\n",
       "      <td>125000</td>\n",
       "      <td>gasoline</td>\n",
       "      <td>audi</td>\n",
       "      <td>yes</td>\n",
       "    </tr>\n",
       "    <tr>\n",
       "      <th>2</th>\n",
       "      <td>9800</td>\n",
       "      <td>suv</td>\n",
       "      <td>2004</td>\n",
       "      <td>auto</td>\n",
       "      <td>163</td>\n",
       "      <td>grand</td>\n",
       "      <td>125000</td>\n",
       "      <td>gasoline</td>\n",
       "      <td>jeep</td>\n",
       "      <td>no</td>\n",
       "    </tr>\n",
       "  </tbody>\n",
       "</table>\n",
       "</div>"
      ],
      "text/plain": [
       "   Price VehicleType  RegistrationYear Gearbox  Power  Model  Kilometer  \\\n",
       "0    480       sedan              1993  manual      0   golf     150000   \n",
       "1  18300       coupe              2011  manual    190  other     125000   \n",
       "2   9800         suv              2004    auto    163  grand     125000   \n",
       "\n",
       "   FuelType       Brand Repaired  \n",
       "0    petrol  volkswagen       no  \n",
       "1  gasoline        audi      yes  \n",
       "2  gasoline        jeep       no  "
      ]
     },
     "execution_count": 33,
     "metadata": {},
     "output_type": "execute_result"
    }
   ],
   "source": [
    "data.head(3)"
   ]
  },
  {
   "cell_type": "markdown",
   "metadata": {
    "lang": "en"
   },
   "source": [
    "### Preprocessing"
   ]
  },
  {
   "cell_type": "code",
   "execution_count": 34,
   "metadata": {},
   "outputs": [
    {
     "data": {
      "image/png": "[encoded data removed]",
      "text/plain": [
       "<Figure size 1080x1080 with 4 Axes>"
      ]
     },
     "metadata": {
      "needs_background": "light"
     },
     "output_type": "display_data"
    }
   ],
   "source": [
    "data.hist(figsize=(15,15));"
   ]
  },
  {
   "cell_type": "markdown",
   "metadata": {
    "lang": "en"
   },
   "source": [
    "We can see a very large number of outliers in all columns. Let's see how much of all data they occupy.\n",
    "\n",
    "We will understand the following as outliers:\n",
    "\n",
    "1. For the Price column - all values ​​are outside [Q25% - 1.5IQR, Q75% + 1.5IQR]\n",
    "\n",
    "2. For the RegistrationYear column - all values ​​are outside [Q25% - 1.5IQR, 2019]\n",
    "\n",
    "3. For Power - all values ​​are outside (0, 1500]\n",
    "\n",
    "4. For Kilometer - all values ​​are outside [0, Q75% + 1.5IQR]"
   ]
  },
  {
   "cell_type": "code",
   "execution_count": 35,
   "metadata": {},
   "outputs": [
    {
     "name": "stdout",
     "output_type": "stream",
     "text": [
      "Выбросы составляют 17.712% от общего объема\n"
     ]
    }
   ],
   "source": [
    "des = data.describe()\n",
    "\n",
    "#price\n",
    "Q25 = data.Price.quantile(0.25)\n",
    "Q75 = data.Price.quantile(0.75)\n",
    "IQR = Q75 - Q25\n",
    "lower_price = Q25 - 1.5*IQR\n",
    "upper_price = Q75 + 1.5*IQR\n",
    "price = data.query('Price >= @upper_price or Price <= @lower_price').index.tolist()\n",
    "\n",
    "#RegistrationYear\n",
    "lower_year = data.RegistrationYear.quantile(0.25) - 1.5*(data.RegistrationYear.quantile(0.75) - data.RegistrationYear.quantile(0.25))\n",
    "year = data.query('RegistrationYear >= 2020 or RegistrationYear <= @lower_year').index.tolist()\n",
    "\n",
    "#Power\n",
    "lower_power = 0 #data.Power.quantile(0.25) - 2*(data.Power.quantile(0.75) - data.Power.quantile(0.25))\n",
    "power =  data.query('Power >= 1000 or Power <= @lower_power').index.tolist()\n",
    "                                                                            \n",
    "#Kilometer\n",
    "upper_km = data.Kilometer.quantile(0.75) + 1.5*(data.Kilometer.quantile(0.75) - data.Kilometer.quantile(0.25))\n",
    "km = data.query('Kilometer < 0 or Kilometer >= @upper_km').index.tolist()       \n",
    "                                                                                \n",
    "indexes = pd.Series(price + year + power + km).unique()\n",
    "print(f'Выбросы составляют {round(len(indexes)*100/data.shape[0], ndigits=3)}% от общего объема'  )                                                                        "
   ]
  },
  {
   "cell_type": "markdown",
   "metadata": {
    "lang": "en"
   },
   "source": [
    "17.712% is too much. Let's try to figure out the anomalies in Power, there are the most of them (Power = 0 is about 10% of the data)"
   ]
  },
  {
   "cell_type": "code",
   "execution_count": 36,
   "metadata": {},
   "outputs": [],
   "source": [
    "def power_f(brand, model, fuel):\n",
    "        return mode_power[brand, model, fuel] if mode_power[brand, model, fuel]>0 else 0\n",
    "\n",
    "grouped_data_fuel = data.groupby(['Brand', 'Model', 'FuelType'])\n",
    "mode_power = grouped_data_fuel['Power'].apply(lambda x: (x.mode().iat[0]) if len(x.mode()) > 0 else np.nan)\n",
    "\n",
    "data.loc[data['Power']==0, 'Power'] = data.loc[data['Power']==0].apply(lambda row: power_f(row['Brand'], row['Model'], row['FuelType']), axis=1)"
   ]
  },
  {
   "cell_type": "code",
   "execution_count": 37,
   "metadata": {
    "lang": "ru"
   },
   "outputs": [
    {
     "name": "stdout",
     "output_type": "stream",
     "text": [
      "Выбросы составляют 9.408% от общего объема\n"
     ]
    }
   ],
   "source": [
    "power =  data.query('Power >= 1000 or Power <= @lower_power').index.tolist()\n",
    "indexes = pd.Series(price + year + power + km).unique()\n",
    "print(f'Выбросы составляют {round(len(indexes)*100/data.shape[0], ndigits=3)}% от общего объема'  ) "
   ]
  },
  {
   "cell_type": "markdown",
   "metadata": {
    "lang": "en"
   },
   "source": [
    "Great, this volume can be discarded"
   ]
  },
  {
   "cell_type": "code",
   "execution_count": 38,
   "metadata": {},
   "outputs": [],
   "source": [
    "data = data.drop(indexes).reset_index(drop=True)"
   ]
  },
  {
   "cell_type": "code",
   "execution_count": 39,
   "metadata": {},
   "outputs": [
    {
     "data": {
      "image/png": "[encoded data removed]",
      "text/plain": [
       "<Figure size 1080x1080 with 4 Axes>"
      ]
     },
     "metadata": {
      "needs_background": "light"
     },
     "output_type": "display_data"
    }
   ],
   "source": [
    "data.hist(figsize=(15,15));"
   ]
  },
  {
   "cell_type": "markdown",
   "metadata": {
    "lang": "en"
   },
   "source": [
    "### Data type"
   ]
  },
  {
   "cell_type": "code",
   "execution_count": 40,
   "metadata": {},
   "outputs": [
    {
     "name": "stdout",
     "output_type": "stream",
     "text": [
      "<class 'pandas.core.frame.DataFrame'>\n",
      "RangeIndex: 321027 entries, 0 to 321026\n",
      "Data columns (total 10 columns):\n",
      " #   Column            Non-Null Count   Dtype \n",
      "---  ------            --------------   ----- \n",
      " 0   Price             321027 non-null  int64 \n",
      " 1   VehicleType       321027 non-null  object\n",
      " 2   RegistrationYear  321027 non-null  int64 \n",
      " 3   Gearbox           321027 non-null  object\n",
      " 4   Power             321027 non-null  int64 \n",
      " 5   Model             321027 non-null  object\n",
      " 6   Kilometer         321027 non-null  int64 \n",
      " 7   FuelType          321027 non-null  object\n",
      " 8   Brand             321027 non-null  object\n",
      " 9   Repaired          321027 non-null  object\n",
      "dtypes: int64(4), object(6)\n",
      "memory usage: 24.5+ MB\n"
     ]
    }
   ],
   "source": [
    "data.info()"
   ]
  },
  {
   "cell_type": "markdown",
   "metadata": {
    "lang": "en"
   },
   "source": [
    "Gearbox will be replaced by 0 and 1"
   ]
  },
  {
   "cell_type": "code",
   "execution_count": 41,
   "metadata": {},
   "outputs": [
    {
     "data": {
      "text/plain": [
       "array(['manual', 'auto'], dtype=object)"
      ]
     },
     "execution_count": 41,
     "metadata": {},
     "output_type": "execute_result"
    }
   ],
   "source": [
    "data[\"Gearbox\"].unique()"
   ]
  },
  {
   "cell_type": "code",
   "execution_count": 42,
   "metadata": {},
   "outputs": [],
   "source": [
    "data[\"Gearbox\"] = data[\"Gearbox\"].replace({\"auto\": 1, \"manual\": 0})"
   ]
  },
  {
   "cell_type": "markdown",
   "metadata": {
    "lang": "en"
   },
   "source": [
    "### Preprocessing conclusion"
   ]
  },
  {
   "cell_type": "markdown",
   "metadata": {
    "lang": "en"
   },
   "source": [
    "Work done:\n",
    "\n",
    "1. Removed obvious duplicates\n",
    "\n",
    "2. Filled in all the gaps with group fashion\n",
    "\n",
    "3. We discarded the columns with information about the questionnaire itself; we don’t need them\n",
    "\n",
    "4. Processed anomalies, got rid of 0 in Power, discarded about 9% of the data\n",
    "\n",
    "5. Converted Gearbox to a numeric type\n",
    "\n",
    "Now we are ready to move on to model training"
   ]
  },
  {
   "cell_type": "markdown",
   "metadata": {
    "lang": "en"
   },
   "source": [
    "## Model training"
   ]
  },
  {
   "cell_type": "markdown",
   "metadata": {
    "lang": "en"
   },
   "source": [
    "Let's take a few more important steps:\n",
    "\n",
    "1. Let's split the data into train and test\n",
    "\n",
    "2. Let's do OHE\n",
    "\n",
    "3. Let's do BinaryEncoding\n",
    "\n",
    "3. Let's scale the data"
   ]
  },
  {
   "cell_type": "markdown",
   "metadata": {
    "lang": "en"
   },
   "source": [
    "### Preparation"
   ]
  },
  {
   "cell_type": "markdown",
   "metadata": {
    "lang": "en"
   },
   "source": [
    "#### Breakdown into train and test"
   ]
  },
  {
   "cell_type": "code",
   "execution_count": 43,
   "metadata": {},
   "outputs": [
    {
     "name": "stdout",
     "output_type": "stream",
     "text": [
      "240770 80257\n"
     ]
    }
   ],
   "source": [
    "features = data.drop('Price', axis=1)\n",
    "target = data.Price\n",
    "\n",
    "features_train, features_test, target_train, target_test = train_test_split(features, target, test_size=0.25, random_state=12345)\n",
    "print(len(features_train), len(features_test))"
   ]
  },
  {
   "cell_type": "code",
   "execution_count": 44,
   "metadata": {},
   "outputs": [
    {
     "data": {
      "text/html": [
       "<div>\n",
       "<style scoped>\n",
       "    .dataframe tbody tr th:only-of-type {\n",
       "        vertical-align: middle;\n",
       "    }\n",
       "\n",
       "    .dataframe tbody tr th {\n",
       "        vertical-align: top;\n",
       "    }\n",
       "\n",
       "    .dataframe thead th {\n",
       "        text-align: right;\n",
       "    }\n",
       "</style>\n",
       "<table border=\"1\" class=\"dataframe\">\n",
       "  <thead>\n",
       "    <tr style=\"text-align: right;\">\n",
       "      <th></th>\n",
       "      <th>VehicleType</th>\n",
       "      <th>RegistrationYear</th>\n",
       "      <th>Gearbox</th>\n",
       "      <th>Power</th>\n",
       "      <th>Model</th>\n",
       "      <th>Kilometer</th>\n",
       "      <th>FuelType</th>\n",
       "      <th>Brand</th>\n",
       "      <th>Repaired</th>\n",
       "    </tr>\n",
       "  </thead>\n",
       "  <tbody>\n",
       "    <tr>\n",
       "      <th>79940</th>\n",
       "      <td>small</td>\n",
       "      <td>2001</td>\n",
       "      <td>0</td>\n",
       "      <td>75</td>\n",
       "      <td>polo</td>\n",
       "      <td>150000</td>\n",
       "      <td>gasoline</td>\n",
       "      <td>volkswagen</td>\n",
       "      <td>no</td>\n",
       "    </tr>\n",
       "    <tr>\n",
       "      <th>39634</th>\n",
       "      <td>wagon</td>\n",
       "      <td>2000</td>\n",
       "      <td>0</td>\n",
       "      <td>155</td>\n",
       "      <td>156</td>\n",
       "      <td>150000</td>\n",
       "      <td>petrol</td>\n",
       "      <td>alfa_romeo</td>\n",
       "      <td>no</td>\n",
       "    </tr>\n",
       "    <tr>\n",
       "      <th>310839</th>\n",
       "      <td>convertible</td>\n",
       "      <td>1998</td>\n",
       "      <td>0</td>\n",
       "      <td>116</td>\n",
       "      <td>z_reihe</td>\n",
       "      <td>150000</td>\n",
       "      <td>petrol</td>\n",
       "      <td>bmw</td>\n",
       "      <td>no</td>\n",
       "    </tr>\n",
       "    <tr>\n",
       "      <th>252141</th>\n",
       "      <td>sedan</td>\n",
       "      <td>1990</td>\n",
       "      <td>0</td>\n",
       "      <td>69</td>\n",
       "      <td>golf</td>\n",
       "      <td>150000</td>\n",
       "      <td>petrol</td>\n",
       "      <td>volkswagen</td>\n",
       "      <td>no</td>\n",
       "    </tr>\n",
       "    <tr>\n",
       "      <th>27656</th>\n",
       "      <td>sedan</td>\n",
       "      <td>2018</td>\n",
       "      <td>0</td>\n",
       "      <td>122</td>\n",
       "      <td>golf</td>\n",
       "      <td>90000</td>\n",
       "      <td>petrol</td>\n",
       "      <td>volkswagen</td>\n",
       "      <td>no</td>\n",
       "    </tr>\n",
       "  </tbody>\n",
       "</table>\n",
       "</div>"
      ],
      "text/plain": [
       "        VehicleType  RegistrationYear  Gearbox  Power    Model  Kilometer  \\\n",
       "79940         small              2001        0     75     polo     150000   \n",
       "39634         wagon              2000        0    155      156     150000   \n",
       "310839  convertible              1998        0    116  z_reihe     150000   \n",
       "252141        sedan              1990        0     69     golf     150000   \n",
       "27656         sedan              2018        0    122     golf      90000   \n",
       "\n",
       "        FuelType       Brand Repaired  \n",
       "79940   gasoline  volkswagen       no  \n",
       "39634     petrol  alfa_romeo       no  \n",
       "310839    petrol         bmw       no  \n",
       "252141    petrol  volkswagen       no  \n",
       "27656     petrol  volkswagen       no  "
      ]
     },
     "execution_count": 44,
     "metadata": {},
     "output_type": "execute_result"
    }
   ],
   "source": [
    "features_train.head()"
   ]
  },
  {
   "cell_type": "code",
   "execution_count": 45,
   "metadata": {},
   "outputs": [
    {
     "data": {
      "text/html": [
       "<div>\n",
       "<style scoped>\n",
       "    .dataframe tbody tr th:only-of-type {\n",
       "        vertical-align: middle;\n",
       "    }\n",
       "\n",
       "    .dataframe tbody tr th {\n",
       "        vertical-align: top;\n",
       "    }\n",
       "\n",
       "    .dataframe thead th {\n",
       "        text-align: right;\n",
       "    }\n",
       "</style>\n",
       "<table border=\"1\" class=\"dataframe\">\n",
       "  <thead>\n",
       "    <tr style=\"text-align: right;\">\n",
       "      <th></th>\n",
       "      <th>VehicleType</th>\n",
       "      <th>RegistrationYear</th>\n",
       "      <th>Gearbox</th>\n",
       "      <th>Power</th>\n",
       "      <th>Model</th>\n",
       "      <th>Kilometer</th>\n",
       "      <th>FuelType</th>\n",
       "      <th>Brand</th>\n",
       "      <th>Repaired</th>\n",
       "    </tr>\n",
       "  </thead>\n",
       "  <tbody>\n",
       "    <tr>\n",
       "      <th>67208</th>\n",
       "      <td>other</td>\n",
       "      <td>1987</td>\n",
       "      <td>0</td>\n",
       "      <td>48</td>\n",
       "      <td>other</td>\n",
       "      <td>40000</td>\n",
       "      <td>petrol</td>\n",
       "      <td>sonstige_autos</td>\n",
       "      <td>no</td>\n",
       "    </tr>\n",
       "    <tr>\n",
       "      <th>16487</th>\n",
       "      <td>small</td>\n",
       "      <td>2014</td>\n",
       "      <td>0</td>\n",
       "      <td>95</td>\n",
       "      <td>fiesta</td>\n",
       "      <td>50000</td>\n",
       "      <td>gasoline</td>\n",
       "      <td>ford</td>\n",
       "      <td>no</td>\n",
       "    </tr>\n",
       "    <tr>\n",
       "      <th>246979</th>\n",
       "      <td>sedan</td>\n",
       "      <td>2010</td>\n",
       "      <td>0</td>\n",
       "      <td>75</td>\n",
       "      <td>2_reihe</td>\n",
       "      <td>60000</td>\n",
       "      <td>petrol</td>\n",
       "      <td>peugeot</td>\n",
       "      <td>no</td>\n",
       "    </tr>\n",
       "    <tr>\n",
       "      <th>161829</th>\n",
       "      <td>sedan</td>\n",
       "      <td>2010</td>\n",
       "      <td>0</td>\n",
       "      <td>90</td>\n",
       "      <td>ceed</td>\n",
       "      <td>70000</td>\n",
       "      <td>petrol</td>\n",
       "      <td>kia</td>\n",
       "      <td>no</td>\n",
       "    </tr>\n",
       "    <tr>\n",
       "      <th>316194</th>\n",
       "      <td>wagon</td>\n",
       "      <td>2012</td>\n",
       "      <td>0</td>\n",
       "      <td>105</td>\n",
       "      <td>a3</td>\n",
       "      <td>30000</td>\n",
       "      <td>petrol</td>\n",
       "      <td>audi</td>\n",
       "      <td>no</td>\n",
       "    </tr>\n",
       "  </tbody>\n",
       "</table>\n",
       "</div>"
      ],
      "text/plain": [
       "       VehicleType  RegistrationYear  Gearbox  Power    Model  Kilometer  \\\n",
       "67208        other              1987        0     48    other      40000   \n",
       "16487        small              2014        0     95   fiesta      50000   \n",
       "246979       sedan              2010        0     75  2_reihe      60000   \n",
       "161829       sedan              2010        0     90     ceed      70000   \n",
       "316194       wagon              2012        0    105       a3      30000   \n",
       "\n",
       "        FuelType           Brand Repaired  \n",
       "67208     petrol  sonstige_autos       no  \n",
       "16487   gasoline            ford       no  \n",
       "246979    petrol         peugeot       no  \n",
       "161829    petrol             kia       no  \n",
       "316194    petrol            audi       no  "
      ]
     },
     "execution_count": 45,
     "metadata": {},
     "output_type": "execute_result"
    }
   ],
   "source": [
    "features_test.head()"
   ]
  },
  {
   "cell_type": "code",
   "execution_count": 46,
   "metadata": {},
   "outputs": [],
   "source": [
    "features_train, features_test, target_train, target_test = features_train.reset_index(drop=True), features_test.reset_index(drop=True), target_train.reset_index(drop=True), target_test.reset_index(drop=True)"
   ]
  },
  {
   "cell_type": "markdown",
   "metadata": {},
   "source": [
    "#### OHE"
   ]
  },
  {
   "cell_type": "code",
   "execution_count": 47,
   "metadata": {},
   "outputs": [],
   "source": [
    "ohe_cols = ['VehicleType', 'Gearbox', 'FuelType', 'Repaired']\n",
    "\n",
    "features_train[ohe_cols] = features_train[ohe_cols].astype(str)\n",
    "features_test[ohe_cols] = features_test[ohe_cols].astype(str)\n",
    "\n",
    "ohe = OneHotEncoder(drop='first', sparse=False)\n",
    "\n",
    "train_encoded_ohe = ohe.fit_transform(features_train[ohe_cols])\n",
    "\n",
    "test_encoded_ohe = ohe.transform(features_test[ohe_cols])\n",
    "\n",
    "train_encoded_ohe_df = pd.DataFrame(train_encoded_ohe, columns=ohe.get_feature_names(ohe_cols))\n",
    "test_encoded_ohe_df = pd.DataFrame(test_encoded_ohe, columns=ohe.get_feature_names(ohe_cols))\n",
    "\n",
    "features_train_encoded = pd.concat([features_train.drop(columns=ohe_cols), train_encoded_ohe_df], axis=1)\n",
    "features_test_encoded = pd.concat([features_test.drop(columns=ohe_cols), test_encoded_ohe_df], axis=1)\n",
    "\n",
    "features_train = features_train_encoded\n",
    "features_test = features_test_encoded"
   ]
  },
  {
   "cell_type": "markdown",
   "metadata": {},
   "source": [
    "#### Binary Encoding"
   ]
  },
  {
   "cell_type": "code",
   "execution_count": 48,
   "metadata": {},
   "outputs": [],
   "source": [
    "bin_cols = ['Model', 'Brand']"
   ]
  },
  {
   "cell_type": "code",
   "execution_count": 49,
   "metadata": {},
   "outputs": [],
   "source": [
    "bin_encoder = BinaryEncoder()"
   ]
  },
  {
   "cell_type": "code",
   "execution_count": 50,
   "metadata": {},
   "outputs": [],
   "source": [
    "bin_encoder.fit(features_train[bin_cols])\n",
    "\n",
    "train_encoded = bin_encoder.transform(features_train[bin_cols])\n",
    "features_test_encoded = bin_encoder.transform(features_test[bin_cols])"
   ]
  },
  {
   "cell_type": "code",
   "execution_count": 51,
   "metadata": {},
   "outputs": [
    {
     "name": "stdout",
     "output_type": "stream",
     "text": [
      "240770 80257\n"
     ]
    }
   ],
   "source": [
    "features_train = pd.concat([features_train.drop(columns=bin_cols), train_encoded], axis=1)\n",
    "features_test = pd.concat([features_test.drop(columns=bin_cols), features_test_encoded], axis=1)\n",
    "print(len(features_train), len(features_test))"
   ]
  },
  {
   "cell_type": "markdown",
   "metadata": {
    "lang": "en"
   },
   "source": [
    "#### Data scaling"
   ]
  },
  {
   "cell_type": "code",
   "execution_count": 52,
   "metadata": {},
   "outputs": [],
   "source": [
    "numeric = ['RegistrationYear', 'Power', 'Kilometer']\n",
    "scaler = StandardScaler()\n",
    "scaler.fit(features_train[numeric])\n",
    "features_train[numeric] = scaler.transform(features_train[numeric])\n",
    "features_test[numeric] = scaler.transform(features_test[numeric])"
   ]
  },
  {
   "cell_type": "code",
   "execution_count": 53,
   "metadata": {},
   "outputs": [
    {
     "data": {
      "text/html": [
       "<div>\n",
       "<style scoped>\n",
       "    .dataframe tbody tr th:only-of-type {\n",
       "        vertical-align: middle;\n",
       "    }\n",
       "\n",
       "    .dataframe tbody tr th {\n",
       "        vertical-align: top;\n",
       "    }\n",
       "\n",
       "    .dataframe thead th {\n",
       "        text-align: right;\n",
       "    }\n",
       "</style>\n",
       "<table border=\"1\" class=\"dataframe\">\n",
       "  <thead>\n",
       "    <tr style=\"text-align: right;\">\n",
       "      <th></th>\n",
       "      <th>RegistrationYear</th>\n",
       "      <th>Power</th>\n",
       "      <th>Kilometer</th>\n",
       "      <th>VehicleType_convertible</th>\n",
       "      <th>VehicleType_coupe</th>\n",
       "      <th>VehicleType_other</th>\n",
       "      <th>VehicleType_sedan</th>\n",
       "      <th>VehicleType_small</th>\n",
       "      <th>VehicleType_suv</th>\n",
       "      <th>VehicleType_wagon</th>\n",
       "      <th>...</th>\n",
       "      <th>Model_4</th>\n",
       "      <th>Model_5</th>\n",
       "      <th>Model_6</th>\n",
       "      <th>Model_7</th>\n",
       "      <th>Brand_0</th>\n",
       "      <th>Brand_1</th>\n",
       "      <th>Brand_2</th>\n",
       "      <th>Brand_3</th>\n",
       "      <th>Brand_4</th>\n",
       "      <th>Brand_5</th>\n",
       "    </tr>\n",
       "  </thead>\n",
       "  <tbody>\n",
       "    <tr>\n",
       "      <th>0</th>\n",
       "      <td>-0.363123</td>\n",
       "      <td>-0.794558</td>\n",
       "      <td>0.538212</td>\n",
       "      <td>0.0</td>\n",
       "      <td>0.0</td>\n",
       "      <td>0.0</td>\n",
       "      <td>0.0</td>\n",
       "      <td>1.0</td>\n",
       "      <td>0.0</td>\n",
       "      <td>0.0</td>\n",
       "      <td>...</td>\n",
       "      <td>0</td>\n",
       "      <td>0</td>\n",
       "      <td>0</td>\n",
       "      <td>1</td>\n",
       "      <td>0</td>\n",
       "      <td>0</td>\n",
       "      <td>0</td>\n",
       "      <td>0</td>\n",
       "      <td>0</td>\n",
       "      <td>1</td>\n",
       "    </tr>\n",
       "    <tr>\n",
       "      <th>1</th>\n",
       "      <td>-0.523089</td>\n",
       "      <td>0.781544</td>\n",
       "      <td>0.538212</td>\n",
       "      <td>0.0</td>\n",
       "      <td>0.0</td>\n",
       "      <td>0.0</td>\n",
       "      <td>0.0</td>\n",
       "      <td>0.0</td>\n",
       "      <td>0.0</td>\n",
       "      <td>1.0</td>\n",
       "      <td>...</td>\n",
       "      <td>0</td>\n",
       "      <td>0</td>\n",
       "      <td>1</td>\n",
       "      <td>0</td>\n",
       "      <td>0</td>\n",
       "      <td>0</td>\n",
       "      <td>0</td>\n",
       "      <td>0</td>\n",
       "      <td>1</td>\n",
       "      <td>0</td>\n",
       "    </tr>\n",
       "    <tr>\n",
       "      <th>2</th>\n",
       "      <td>-0.843021</td>\n",
       "      <td>0.013194</td>\n",
       "      <td>0.538212</td>\n",
       "      <td>1.0</td>\n",
       "      <td>0.0</td>\n",
       "      <td>0.0</td>\n",
       "      <td>0.0</td>\n",
       "      <td>0.0</td>\n",
       "      <td>0.0</td>\n",
       "      <td>0.0</td>\n",
       "      <td>...</td>\n",
       "      <td>0</td>\n",
       "      <td>0</td>\n",
       "      <td>1</td>\n",
       "      <td>1</td>\n",
       "      <td>0</td>\n",
       "      <td>0</td>\n",
       "      <td>0</td>\n",
       "      <td>0</td>\n",
       "      <td>1</td>\n",
       "      <td>1</td>\n",
       "    </tr>\n",
       "  </tbody>\n",
       "</table>\n",
       "<p>3 rows × 33 columns</p>\n",
       "</div>"
      ],
      "text/plain": [
       "   RegistrationYear     Power  Kilometer  VehicleType_convertible  \\\n",
       "0         -0.363123 -0.794558   0.538212                      0.0   \n",
       "1         -0.523089  0.781544   0.538212                      0.0   \n",
       "2         -0.843021  0.013194   0.538212                      1.0   \n",
       "\n",
       "   VehicleType_coupe  VehicleType_other  VehicleType_sedan  VehicleType_small  \\\n",
       "0                0.0                0.0                0.0                1.0   \n",
       "1                0.0                0.0                0.0                0.0   \n",
       "2                0.0                0.0                0.0                0.0   \n",
       "\n",
       "   VehicleType_suv  VehicleType_wagon  ...  Model_4  Model_5  Model_6  \\\n",
       "0              0.0                0.0  ...        0        0        0   \n",
       "1              0.0                1.0  ...        0        0        1   \n",
       "2              0.0                0.0  ...        0        0        1   \n",
       "\n",
       "   Model_7  Brand_0  Brand_1  Brand_2  Brand_3  Brand_4  Brand_5  \n",
       "0        1        0        0        0        0        0        1  \n",
       "1        0        0        0        0        0        1        0  \n",
       "2        1        0        0        0        0        1        1  \n",
       "\n",
       "[3 rows x 33 columns]"
      ]
     },
     "execution_count": 53,
     "metadata": {},
     "output_type": "execute_result"
    }
   ],
   "source": [
    "features_train.head(3)"
   ]
  },
  {
   "cell_type": "code",
   "execution_count": 54,
   "metadata": {},
   "outputs": [
    {
     "data": {
      "text/html": [
       "<div>\n",
       "<style scoped>\n",
       "    .dataframe tbody tr th:only-of-type {\n",
       "        vertical-align: middle;\n",
       "    }\n",
       "\n",
       "    .dataframe tbody tr th {\n",
       "        vertical-align: top;\n",
       "    }\n",
       "\n",
       "    .dataframe thead th {\n",
       "        text-align: right;\n",
       "    }\n",
       "</style>\n",
       "<table border=\"1\" class=\"dataframe\">\n",
       "  <thead>\n",
       "    <tr style=\"text-align: right;\">\n",
       "      <th></th>\n",
       "      <th>RegistrationYear</th>\n",
       "      <th>Power</th>\n",
       "      <th>Kilometer</th>\n",
       "      <th>VehicleType_convertible</th>\n",
       "      <th>VehicleType_coupe</th>\n",
       "      <th>VehicleType_other</th>\n",
       "      <th>VehicleType_sedan</th>\n",
       "      <th>VehicleType_small</th>\n",
       "      <th>VehicleType_suv</th>\n",
       "      <th>VehicleType_wagon</th>\n",
       "      <th>...</th>\n",
       "      <th>Model_4</th>\n",
       "      <th>Model_5</th>\n",
       "      <th>Model_6</th>\n",
       "      <th>Model_7</th>\n",
       "      <th>Brand_0</th>\n",
       "      <th>Brand_1</th>\n",
       "      <th>Brand_2</th>\n",
       "      <th>Brand_3</th>\n",
       "      <th>Brand_4</th>\n",
       "      <th>Brand_5</th>\n",
       "    </tr>\n",
       "  </thead>\n",
       "  <tbody>\n",
       "    <tr>\n",
       "      <th>0</th>\n",
       "      <td>-2.602646</td>\n",
       "      <td>-1.326493</td>\n",
       "      <td>-2.594222</td>\n",
       "      <td>0.0</td>\n",
       "      <td>0.0</td>\n",
       "      <td>1.0</td>\n",
       "      <td>0.0</td>\n",
       "      <td>0.0</td>\n",
       "      <td>0.0</td>\n",
       "      <td>0.0</td>\n",
       "      <td>...</td>\n",
       "      <td>1</td>\n",
       "      <td>1</td>\n",
       "      <td>0</td>\n",
       "      <td>0</td>\n",
       "      <td>1</td>\n",
       "      <td>0</td>\n",
       "      <td>0</td>\n",
       "      <td>0</td>\n",
       "      <td>0</td>\n",
       "      <td>1</td>\n",
       "    </tr>\n",
       "    <tr>\n",
       "      <th>1</th>\n",
       "      <td>1.716435</td>\n",
       "      <td>-0.400533</td>\n",
       "      <td>-2.309455</td>\n",
       "      <td>0.0</td>\n",
       "      <td>0.0</td>\n",
       "      <td>0.0</td>\n",
       "      <td>0.0</td>\n",
       "      <td>1.0</td>\n",
       "      <td>0.0</td>\n",
       "      <td>0.0</td>\n",
       "      <td>...</td>\n",
       "      <td>0</td>\n",
       "      <td>0</td>\n",
       "      <td>1</td>\n",
       "      <td>1</td>\n",
       "      <td>0</td>\n",
       "      <td>0</td>\n",
       "      <td>1</td>\n",
       "      <td>0</td>\n",
       "      <td>0</td>\n",
       "      <td>0</td>\n",
       "    </tr>\n",
       "    <tr>\n",
       "      <th>2</th>\n",
       "      <td>1.076571</td>\n",
       "      <td>-0.794558</td>\n",
       "      <td>-2.024689</td>\n",
       "      <td>0.0</td>\n",
       "      <td>0.0</td>\n",
       "      <td>0.0</td>\n",
       "      <td>1.0</td>\n",
       "      <td>0.0</td>\n",
       "      <td>0.0</td>\n",
       "      <td>0.0</td>\n",
       "      <td>...</td>\n",
       "      <td>0</td>\n",
       "      <td>1</td>\n",
       "      <td>0</td>\n",
       "      <td>1</td>\n",
       "      <td>0</td>\n",
       "      <td>1</td>\n",
       "      <td>0</td>\n",
       "      <td>0</td>\n",
       "      <td>0</td>\n",
       "      <td>0</td>\n",
       "    </tr>\n",
       "  </tbody>\n",
       "</table>\n",
       "<p>3 rows × 33 columns</p>\n",
       "</div>"
      ],
      "text/plain": [
       "   RegistrationYear     Power  Kilometer  VehicleType_convertible  \\\n",
       "0         -2.602646 -1.326493  -2.594222                      0.0   \n",
       "1          1.716435 -0.400533  -2.309455                      0.0   \n",
       "2          1.076571 -0.794558  -2.024689                      0.0   \n",
       "\n",
       "   VehicleType_coupe  VehicleType_other  VehicleType_sedan  VehicleType_small  \\\n",
       "0                0.0                1.0                0.0                0.0   \n",
       "1                0.0                0.0                0.0                1.0   \n",
       "2                0.0                0.0                1.0                0.0   \n",
       "\n",
       "   VehicleType_suv  VehicleType_wagon  ...  Model_4  Model_5  Model_6  \\\n",
       "0              0.0                0.0  ...        1        1        0   \n",
       "1              0.0                0.0  ...        0        0        1   \n",
       "2              0.0                0.0  ...        0        1        0   \n",
       "\n",
       "   Model_7  Brand_0  Brand_1  Brand_2  Brand_3  Brand_4  Brand_5  \n",
       "0        0        1        0        0        0        0        1  \n",
       "1        1        0        0        1        0        0        0  \n",
       "2        1        0        1        0        0        0        0  \n",
       "\n",
       "[3 rows x 33 columns]"
      ]
     },
     "execution_count": 54,
     "metadata": {},
     "output_type": "execute_result"
    }
   ],
   "source": [
    "features_test.head(3)"
   ]
  },
  {
   "cell_type": "code",
   "execution_count": 55,
   "metadata": {},
   "outputs": [
    {
     "data": {
      "text/html": [
       "<div>\n",
       "<style scoped>\n",
       "    .dataframe tbody tr th:only-of-type {\n",
       "        vertical-align: middle;\n",
       "    }\n",
       "\n",
       "    .dataframe tbody tr th {\n",
       "        vertical-align: top;\n",
       "    }\n",
       "\n",
       "    .dataframe thead th {\n",
       "        text-align: right;\n",
       "    }\n",
       "</style>\n",
       "<table border=\"1\" class=\"dataframe\">\n",
       "  <thead>\n",
       "    <tr style=\"text-align: right;\">\n",
       "      <th></th>\n",
       "      <th>RegistrationYear</th>\n",
       "      <th>Power</th>\n",
       "      <th>Kilometer</th>\n",
       "    </tr>\n",
       "  </thead>\n",
       "  <tbody>\n",
       "    <tr>\n",
       "      <th>count</th>\n",
       "      <td>2.407700e+05</td>\n",
       "      <td>2.407700e+05</td>\n",
       "      <td>2.407700e+05</td>\n",
       "    </tr>\n",
       "    <tr>\n",
       "      <th>mean</th>\n",
       "      <td>-2.586839e-15</td>\n",
       "      <td>1.531044e-16</td>\n",
       "      <td>6.343446e-17</td>\n",
       "    </tr>\n",
       "    <tr>\n",
       "      <th>std</th>\n",
       "      <td>1.000002e+00</td>\n",
       "      <td>1.000002e+00</td>\n",
       "      <td>1.000002e+00</td>\n",
       "    </tr>\n",
       "    <tr>\n",
       "      <th>min</th>\n",
       "      <td>-2.762612e+00</td>\n",
       "      <td>-2.252453e+00</td>\n",
       "      <td>-3.590906e+00</td>\n",
       "    </tr>\n",
       "    <tr>\n",
       "      <th>25%</th>\n",
       "      <td>-6.830548e-01</td>\n",
       "      <td>-7.945585e-01</td>\n",
       "      <td>-1.737045e-01</td>\n",
       "    </tr>\n",
       "    <tr>\n",
       "      <th>50%</th>\n",
       "      <td>-4.319088e-02</td>\n",
       "      <td>-2.035202e-01</td>\n",
       "      <td>5.382124e-01</td>\n",
       "    </tr>\n",
       "    <tr>\n",
       "      <th>75%</th>\n",
       "      <td>5.966730e-01</td>\n",
       "      <td>5.057257e-01</td>\n",
       "      <td>5.382124e-01</td>\n",
       "    </tr>\n",
       "    <tr>\n",
       "      <th>max</th>\n",
       "      <td>2.516265e+00</td>\n",
       "      <td>1.740942e+01</td>\n",
       "      <td>5.382124e-01</td>\n",
       "    </tr>\n",
       "  </tbody>\n",
       "</table>\n",
       "</div>"
      ],
      "text/plain": [
       "       RegistrationYear         Power     Kilometer\n",
       "count      2.407700e+05  2.407700e+05  2.407700e+05\n",
       "mean      -2.586839e-15  1.531044e-16  6.343446e-17\n",
       "std        1.000002e+00  1.000002e+00  1.000002e+00\n",
       "min       -2.762612e+00 -2.252453e+00 -3.590906e+00\n",
       "25%       -6.830548e-01 -7.945585e-01 -1.737045e-01\n",
       "50%       -4.319088e-02 -2.035202e-01  5.382124e-01\n",
       "75%        5.966730e-01  5.057257e-01  5.382124e-01\n",
       "max        2.516265e+00  1.740942e+01  5.382124e-01"
      ]
     },
     "execution_count": 55,
     "metadata": {},
     "output_type": "execute_result"
    }
   ],
   "source": [
    "features_train[numeric].describe()"
   ]
  },
  {
   "cell_type": "code",
   "execution_count": 56,
   "metadata": {},
   "outputs": [
    {
     "data": {
      "text/html": [
       "<div>\n",
       "<style scoped>\n",
       "    .dataframe tbody tr th:only-of-type {\n",
       "        vertical-align: middle;\n",
       "    }\n",
       "\n",
       "    .dataframe tbody tr th {\n",
       "        vertical-align: top;\n",
       "    }\n",
       "\n",
       "    .dataframe thead th {\n",
       "        text-align: right;\n",
       "    }\n",
       "</style>\n",
       "<table border=\"1\" class=\"dataframe\">\n",
       "  <thead>\n",
       "    <tr style=\"text-align: right;\">\n",
       "      <th></th>\n",
       "      <th>RegistrationYear</th>\n",
       "      <th>Power</th>\n",
       "      <th>Kilometer</th>\n",
       "    </tr>\n",
       "  </thead>\n",
       "  <tbody>\n",
       "    <tr>\n",
       "      <th>count</th>\n",
       "      <td>80257.000000</td>\n",
       "      <td>80257.000000</td>\n",
       "      <td>80257.000000</td>\n",
       "    </tr>\n",
       "    <tr>\n",
       "      <th>mean</th>\n",
       "      <td>-0.006837</td>\n",
       "      <td>0.000328</td>\n",
       "      <td>0.002555</td>\n",
       "    </tr>\n",
       "    <tr>\n",
       "      <th>std</th>\n",
       "      <td>0.997931</td>\n",
       "      <td>1.003640</td>\n",
       "      <td>0.993753</td>\n",
       "    </tr>\n",
       "    <tr>\n",
       "      <th>min</th>\n",
       "      <td>-2.762612</td>\n",
       "      <td>-2.252453</td>\n",
       "      <td>-3.590906</td>\n",
       "    </tr>\n",
       "    <tr>\n",
       "      <th>25%</th>\n",
       "      <td>-0.683055</td>\n",
       "      <td>-0.794558</td>\n",
       "      <td>-0.173705</td>\n",
       "    </tr>\n",
       "    <tr>\n",
       "      <th>50%</th>\n",
       "      <td>-0.043191</td>\n",
       "      <td>-0.203520</td>\n",
       "      <td>0.538212</td>\n",
       "    </tr>\n",
       "    <tr>\n",
       "      <th>75%</th>\n",
       "      <td>0.596673</td>\n",
       "      <td>0.505726</td>\n",
       "      <td>0.538212</td>\n",
       "    </tr>\n",
       "    <tr>\n",
       "      <th>max</th>\n",
       "      <td>2.516265</td>\n",
       "      <td>17.409419</td>\n",
       "      <td>0.538212</td>\n",
       "    </tr>\n",
       "  </tbody>\n",
       "</table>\n",
       "</div>"
      ],
      "text/plain": [
       "       RegistrationYear         Power     Kilometer\n",
       "count      80257.000000  80257.000000  80257.000000\n",
       "mean          -0.006837      0.000328      0.002555\n",
       "std            0.997931      1.003640      0.993753\n",
       "min           -2.762612     -2.252453     -3.590906\n",
       "25%           -0.683055     -0.794558     -0.173705\n",
       "50%           -0.043191     -0.203520      0.538212\n",
       "75%            0.596673      0.505726      0.538212\n",
       "max            2.516265     17.409419      0.538212"
      ]
     },
     "execution_count": 56,
     "metadata": {},
     "output_type": "execute_result"
    }
   ],
   "source": [
    "features_test[numeric].describe()"
   ]
  },
  {
   "cell_type": "markdown",
   "metadata": {
    "lang": "en"
   },
   "source": [
    "### Learning"
   ]
  },
  {
   "cell_type": "markdown",
   "metadata": {
    "lang": "en"
   },
   "source": [
    "We will try 5 models:\n",
    "\n",
    "1. LightGBM\n",
    "2. CatBoost\n",
    "3. LinearRegression\n",
    "4. RandomForestRegressor\n",
    "5. KNN-regressor"
   ]
  },
  {
   "cell_type": "code",
   "execution_count": 57,
   "metadata": {},
   "outputs": [],
   "source": [
    "# Looking for the best model with following grid:\n",
    "# param_grid = {\n",
    "#     'lightgbm': {\n",
    "#         'n_estimators': [100, 200, 300],\n",
    "#         'learning_rate': [0.01, 0.1, 0.2],\n",
    "#         'max_depth': [3, 5, 7]\n",
    "#     },\n",
    "#     'catboost': {\n",
    "#         'iterations': [100, 200, 300],\n",
    "#         'learning_rate': [0.01, 0.1, 0.2],\n",
    "#         'depth': [3, 5, 7]\n",
    "#     },\n",
    "#     'linear_regression': {},\n",
    "#     'random_forest': {\n",
    "#         'n_estimators': [50, 100, 200],\n",
    "#         'max_depth': [3, 5, 7]\n",
    "#     },\n",
    "#     'knn_regressor': {\n",
    "#         'n_neighbors': [3, 5, 7],\n",
    "#         'weights': ['uniform', 'distance']\n",
    "#     }\n",
    "# }\n",
    "\n",
    "param_grid = {\n",
    "    'lightgbm': {\n",
    "        'learning_rate': [0.2], \n",
    "        'max_depth': [7], \n",
    "        'n_estimators': [300]\n",
    "    },\n",
    "    'catboost': {\n",
    "        'depth': [7], 'iterations': [300], 'learning_rate': [0.2]\n",
    "    },\n",
    "    'linear_regression': {},\n",
    "    'random_forest': {\n",
    "        'max_depth': [7], 'n_estimators': [100]\n",
    "    },\n",
    "    'knn_regressor': {\n",
    "        'n_neighbors': [7], 'weights': ['distance']\n",
    "    }\n",
    "}"
   ]
  },
  {
   "cell_type": "code",
   "execution_count": 58,
   "metadata": {},
   "outputs": [],
   "source": [
    "models = {\n",
    "    'lightgbm': LGBMRegressor(),\n",
    "    'catboost': CatBoostRegressor(verbose=False),\n",
    "    'linear_regression': LinearRegression(),\n",
    "    'random_forest': RandomForestRegressor(),\n",
    "    'knn_regressor': KNeighborsRegressor()\n",
    "}"
   ]
  },
  {
   "cell_type": "code",
   "execution_count": 59,
   "metadata": {
    "scrolled": true
   },
   "outputs": [
    {
     "name": "stdout",
     "output_type": "stream",
     "text": [
      "Running GridSearchCV for lightgbm...\n",
      "Running GridSearchCV for catboost...\n",
      "Running GridSearchCV for linear_regression...\n",
      "Running GridSearchCV for random_forest...\n",
      "Running GridSearchCV for knn_regressor...\n",
      "CPU times: user 51min 35s, sys: 11min 28s, total: 1h 3min 3s\n",
      "Wall time: 1h 3min 26s\n"
     ]
    }
   ],
   "source": [
    "%%time\n",
    "grid_search_results = {}\n",
    "for model_name, model in models.items():\n",
    "    if model_name in param_grid:\n",
    "        print(f\"Running GridSearchCV for {model_name}...\")\n",
    "        grid_search = GridSearchCV(model, param_grid[model_name], cv=5, scoring='neg_root_mean_squared_error')\n",
    "        grid_search.fit(features_train, target_train)\n",
    "        grid_search_results[model_name] = grid_search"
   ]
  },
  {
   "cell_type": "code",
   "execution_count": 60,
   "metadata": {},
   "outputs": [
    {
     "name": "stdout",
     "output_type": "stream",
     "text": [
      "Results for lightgbm:\n",
      "Best Score (RMSE): 1466.1904860815866\n",
      "Best Parameters: {'learning_rate': 0.2, 'max_depth': 7, 'n_estimators': 300}\n",
      "\n",
      "Results for catboost:\n",
      "Best Score (RMSE): 1475.336620966759\n",
      "Best Parameters: {'depth': 7, 'iterations': 300, 'learning_rate': 0.2}\n",
      "\n",
      "Results for linear_regression:\n",
      "Best Score (RMSE): 2397.259252194891\n",
      "Best Parameters: {}\n",
      "\n",
      "Results for random_forest:\n",
      "Best Score (RMSE): 1838.7417591420103\n",
      "Best Parameters: {'max_depth': 7, 'n_estimators': 100}\n",
      "\n",
      "Results for knn_regressor:\n",
      "Best Score (RMSE): 1554.1321392336597\n",
      "Best Parameters: {'n_neighbors': 7, 'weights': 'distance'}\n",
      "\n"
     ]
    }
   ],
   "source": [
    "for model_name, grid_search in grid_search_results.items():\n",
    "    print(f\"Results for {model_name}:\")\n",
    "    print(\"Best Score (RMSE):\", (-1)*grid_search.best_score_)  # Отрицательное значение MSE\n",
    "    print(\"Best Parameters:\", grid_search.best_params_)\n",
    "    print(\"\")"
   ]
  },
  {
   "cell_type": "code",
   "execution_count": 61,
   "metadata": {},
   "outputs": [],
   "source": [
    "best_model = grid_search_results['lightgbm'].best_estimator_"
   ]
  },
  {
   "cell_type": "code",
   "execution_count": 62,
   "metadata": {},
   "outputs": [
    {
     "name": "stdout",
     "output_type": "stream",
     "text": [
      "Running lightgbm...\n",
      "Running catboost...\n",
      "Running linear_regression...\n",
      "Running random_forest...\n",
      "Running knn_regressor...\n",
      "CPU times: user 25min 14s, sys: 13min 5s, total: 38min 20s\n",
      "Wall time: 38min 28s\n"
     ]
    }
   ],
   "source": [
    "%%time\n",
    "model_time_fit = {}\n",
    "model_time_predict = {}\n",
    "\n",
    "for model_name, model in models.items():\n",
    "    if model_name in param_grid:\n",
    "        model =  grid_search_results[model_name].best_estimator_\n",
    "        print(f\"Running {model_name}...\")\n",
    "        tic = time.perf_counter()\n",
    "        model.fit(features_train, target_train)\n",
    "        toc = time.perf_counter()\n",
    "        model_time_fit[model_name] = toc - tic\n",
    "        tic = time.perf_counter()\n",
    "        model.predict(features_train)\n",
    "        toc = time.perf_counter()\n",
    "        model_time_predict[model_name] = toc - tic"
   ]
  },
  {
   "cell_type": "markdown",
   "metadata": {
    "lang": "en"
   },
   "source": [
    "Let's look at the training time"
   ]
  },
  {
   "cell_type": "code",
   "execution_count": 63,
   "metadata": {},
   "outputs": [
    {
     "data": {
      "text/plain": [
       "{'lightgbm': 366.7995383478701,\n",
       " 'catboost': 12.438724968582392,\n",
       " 'linear_regression': 0.8910087645053864,\n",
       " 'random_forest': 49.0315555408597,\n",
       " 'knn_regressor': 0.03547801077365875}"
      ]
     },
     "execution_count": 63,
     "metadata": {},
     "output_type": "execute_result"
    }
   ],
   "source": [
    "model_time_fit"
   ]
  },
  {
   "cell_type": "markdown",
   "metadata": {
    "lang": "en"
   },
   "source": [
    "For some reason, LightGBM takes a very long time to learn on this dataframe, although comparative tests show that it should be faster than catboost"
   ]
  },
  {
   "cell_type": "markdown",
   "metadata": {
    "lang": "en"
   },
   "source": [
    "To compare the performance of models over their time, let's look at how much the model error differs from the threshold value during the time they were trained"
   ]
  },
  {
   "cell_type": "code",
   "execution_count": 64,
   "metadata": {},
   "outputs": [],
   "source": [
    "fit_compare = {model_name:( 2500-(-1*grid_search_results[model_name].best_score_))/model_time_fit[model_name] for model_name in models.keys()}"
   ]
  },
  {
   "cell_type": "code",
   "execution_count": 65,
   "metadata": {},
   "outputs": [
    {
     "data": {
      "text/plain": [
       "{'lightgbm': 2.8184591468540936,\n",
       " 'catboost': 82.37688200529601,\n",
       " 'linear_regression': 115.30834700839578,\n",
       " 'random_forest': 13.486381036941408,\n",
       " 'knn_regressor': 26660.679111936453}"
      ]
     },
     "execution_count": 65,
     "metadata": {},
     "output_type": "execute_result"
    }
   ],
   "source": [
    "fit_compare"
   ]
  },
  {
   "cell_type": "markdown",
   "metadata": {
    "lang": "en"
   },
   "source": [
    "The KNN regressor showed itself to be much better than the others, but it’s too early to draw conclusions, let’s see how long the models take to make predictions"
   ]
  },
  {
   "cell_type": "code",
   "execution_count": 66,
   "metadata": {},
   "outputs": [
    {
     "data": {
      "text/plain": [
       "{'lightgbm': 4.163687713444233,\n",
       " 'catboost': 0.09454864636063576,\n",
       " 'linear_regression': 0.04047355428338051,\n",
       " 'random_forest': 1.3559154197573662,\n",
       " 'knn_regressor': 1873.688832141459}"
      ]
     },
     "execution_count": 66,
     "metadata": {},
     "output_type": "execute_result"
    }
   ],
   "source": [
    "model_time_predict"
   ]
  },
  {
   "cell_type": "code",
   "execution_count": 67,
   "metadata": {},
   "outputs": [],
   "source": [
    "predict_compare= {model_name:( 2500-(-1*grid_search_results[model_name].best_score_))/model_time_predict[model_name] for model_name in models.keys()}"
   ]
  },
  {
   "cell_type": "code",
   "execution_count": 68,
   "metadata": {},
   "outputs": [
    {
     "data": {
      "text/plain": [
       "{'lightgbm': 248.29179925773985,\n",
       " 'catboost': 10837.419872991939,\n",
       " 'linear_regression': 2538.4661570801827,\n",
       " 'random_forest': 487.68398915053143,\n",
       " 'knn_regressor': 0.5048158715261689}"
      ]
     },
     "execution_count": 68,
     "metadata": {},
     "output_type": "execute_result"
    }
   ],
   "source": [
    "predict_compare"
   ]
  },
  {
   "cell_type": "markdown",
   "metadata": {
    "lang": "en"
   },
   "source": [
    "Here KNN turned out to be the worst option."
   ]
  },
  {
   "cell_type": "markdown",
   "metadata": {
    "lang": "en"
   },
   "source": [
    "### Results of training"
   ]
  },
  {
   "cell_type": "markdown",
   "metadata": {
    "lang": "en"
   },
   "source": [
    "Total we have:\n",
    "\n",
    "1. LightGBM\n",
    "        RMSE = 1466.19\n",
    "        Training time = 366 seconds\n",
    "        Prediction time = 4.16 seconds\n",
    "        Training score = 2.81\n",
    "        Prediction Score = 248.29\n",
    "        \n",
    "2. CatBoost\n",
    "        RMSE = 1475.33\n",
    "        Training time = 12 seconds\n",
    "        Prediction time = 0.09 seconds\n",
    "        Tuition Score = 82.37\n",
    "        Prediction Score = 10837.41\n",
    "\n",
    "3. Linear Regression:\n",
    "        RMSE = 2397.26\n",
    "        Training time = 0.89 seconds\n",
    "        Prediction time = 0.04 seconds\n",
    "        Tuition Score = 115.30\n",
    "        Prediction Score = 2538.46\n",
    "\n",
    "4. Random Forest:\n",
    "        RMSE = 1838.74\n",
    "        Training time = 49 seconds\n",
    "        Prediction time = 1.35 seconds\n",
    "        Training account = 13.48\n",
    "        Prediction Score = 487.68\n",
    "\n",
    "5. KNN Regressor:\n",
    "        RMSE = 1554.13\n",
    "        Training time = 0.03 seconds\n",
    "        Prediction time = 1873.68 seconds\n",
    "        Tuition account = 26660.67\n",
    "        Prediction Score = 0.50\n",
    "        \n",
    "        \n",
    "The best result was shown by LightGBM, however, the training time of this model is not commensurate with the increase in result it gives compared to CatBoost, whose result is only 9 euros more, but at the same time we have both adequate training time and prediction time. Linear regression did not cope with the task at all, showing an RMSE value greater than the threshold. Random Forest is inferior to CatBoost in all respects, so there is no point in using it either. KNN Regressor has too long a prediction time, which is why it is also not suitable. So we choose CatBoost"
   ]
  },
  {
   "cell_type": "markdown",
   "metadata": {
    "lang": "en"
   },
   "source": [
    "## Model analysis"
   ]
  },
  {
   "cell_type": "code",
   "execution_count": 72,
   "metadata": {},
   "outputs": [
    {
     "name": "stdout",
     "output_type": "stream",
     "text": [
      "RMSE = 1466.56, время обучения = 12.92, время предсказания = 0.03\n"
     ]
    }
   ],
   "source": [
    "model = CatBoostRegressor(verbose=False, depth=7, iterations=300, learning_rate=0.2)\n",
    "tic = time.perf_counter()\n",
    "model.fit(features_train, target_train)\n",
    "toc = time.perf_counter()\n",
    "preds = model.predict(features_test)\n",
    "toe = time.perf_counter()\n",
    "print(f'RMSE = {round(mean_squared_error(target_test, preds)**0.5,ndigits=2)}, время обучения = {round(toc-tic,ndigits=2)}, время предсказания = {round(toe-toc,ndigits=2)}')"
   ]
  },
  {
   "cell_type": "markdown",
   "metadata": {
    "lang": "ru"
   },
   "source": [
    "### Conclusion"
   ]
  },
  {
   "cell_type": "markdown",
   "metadata": {
    "lang": "en"
   },
   "source": [
    "Excellent, the model on the test sample shows a result much lower than the threshold, the training and prediction time is also adequate, the model can safely be used to estimate the cost of a car."
   ]
  }
 ],
 "metadata": {
  "ExecuteTimeLog": [
   {
    "duration": 390,
    "start_time": "2023-07-11T17:47:14.108Z"
   },
   {
    "duration": 1367,
    "start_time": "2023-07-11T17:49:19.563Z"
   },
   {
    "duration": 20,
    "start_time": "2023-07-11T17:49:24.126Z"
   },
   {
    "duration": 25,
    "start_time": "2023-07-11T17:55:46.832Z"
   },
   {
    "duration": 146,
    "start_time": "2023-07-11T17:56:09.516Z"
   },
   {
    "duration": 141,
    "start_time": "2023-07-11T17:56:27.403Z"
   },
   {
    "duration": 134,
    "start_time": "2023-07-11T17:56:50.985Z"
   },
   {
    "duration": 133,
    "start_time": "2023-07-11T17:56:55.628Z"
   },
   {
    "duration": 138,
    "start_time": "2023-07-11T17:57:09.957Z"
   },
   {
    "duration": 204,
    "start_time": "2023-07-11T17:57:25.433Z"
   },
   {
    "duration": 128,
    "start_time": "2023-07-11T17:57:29.589Z"
   },
   {
    "duration": 110,
    "start_time": "2023-07-11T17:59:02.178Z"
   },
   {
    "duration": 4,
    "start_time": "2023-07-11T17:59:06.421Z"
   },
   {
    "duration": 65,
    "start_time": "2023-07-11T17:59:11.171Z"
   },
   {
    "duration": 8,
    "start_time": "2023-07-11T17:59:28.622Z"
   },
   {
    "duration": 580,
    "start_time": "2023-07-11T17:59:31.079Z"
   },
   {
    "duration": 592,
    "start_time": "2023-07-11T17:59:44.881Z"
   },
   {
    "duration": 583,
    "start_time": "2023-07-11T18:00:31.182Z"
   },
   {
    "duration": 575,
    "start_time": "2023-07-11T18:01:14.015Z"
   },
   {
    "duration": 606,
    "start_time": "2023-07-11T18:01:23.906Z"
   },
   {
    "duration": 706,
    "start_time": "2023-07-11T18:12:40.324Z"
   },
   {
    "duration": 627,
    "start_time": "2023-07-11T18:12:51.929Z"
   },
   {
    "duration": 133,
    "start_time": "2023-07-11T18:15:17.993Z"
   },
   {
    "duration": 137,
    "start_time": "2023-07-11T18:15:33.526Z"
   },
   {
    "duration": 159,
    "start_time": "2023-07-11T18:15:38.628Z"
   },
   {
    "duration": 242,
    "start_time": "2023-07-11T18:15:57.006Z"
   },
   {
    "duration": 253,
    "start_time": "2023-07-11T18:17:52.681Z"
   },
   {
    "duration": 18,
    "start_time": "2023-07-11T18:21:05.802Z"
   },
   {
    "duration": 206,
    "start_time": "2023-07-11T18:21:12.877Z"
   },
   {
    "duration": 217,
    "start_time": "2023-07-11T19:44:55.759Z"
   },
   {
    "duration": 23,
    "start_time": "2023-07-11T19:44:58.186Z"
   },
   {
    "duration": 42,
    "start_time": "2023-07-11T19:45:33.934Z"
   },
   {
    "duration": 3,
    "start_time": "2023-07-11T19:54:43.213Z"
   },
   {
    "duration": 21,
    "start_time": "2023-07-11T19:54:47.009Z"
   },
   {
    "duration": 5,
    "start_time": "2023-07-11T19:57:47.462Z"
   },
   {
    "duration": 17,
    "start_time": "2023-07-11T19:58:06.733Z"
   },
   {
    "duration": 26,
    "start_time": "2023-07-11T19:58:18.246Z"
   },
   {
    "duration": 43,
    "start_time": "2023-07-11T19:59:25.029Z"
   },
   {
    "duration": 5,
    "start_time": "2023-07-11T19:59:35.289Z"
   },
   {
    "duration": 15,
    "start_time": "2023-07-11T19:59:48.881Z"
   },
   {
    "duration": 16,
    "start_time": "2023-07-11T20:01:04.764Z"
   },
   {
    "duration": 358,
    "start_time": "2023-07-11T20:02:41.523Z"
   },
   {
    "duration": 33,
    "start_time": "2023-07-11T20:04:32.496Z"
   },
   {
    "duration": 485,
    "start_time": "2023-07-11T20:04:43.130Z"
   },
   {
    "duration": 0,
    "start_time": "2023-07-11T20:04:43.617Z"
   },
   {
    "duration": 0,
    "start_time": "2023-07-11T20:04:43.618Z"
   },
   {
    "duration": 0,
    "start_time": "2023-07-11T20:04:43.619Z"
   },
   {
    "duration": 0,
    "start_time": "2023-07-11T20:04:43.620Z"
   },
   {
    "duration": 0,
    "start_time": "2023-07-11T20:04:43.621Z"
   },
   {
    "duration": 0,
    "start_time": "2023-07-11T20:04:43.622Z"
   },
   {
    "duration": 0,
    "start_time": "2023-07-11T20:04:43.623Z"
   },
   {
    "duration": 0,
    "start_time": "2023-07-11T20:04:43.624Z"
   },
   {
    "duration": 0,
    "start_time": "2023-07-11T20:04:43.625Z"
   },
   {
    "duration": 0,
    "start_time": "2023-07-11T20:04:43.626Z"
   },
   {
    "duration": 0,
    "start_time": "2023-07-11T20:04:43.627Z"
   },
   {
    "duration": 488,
    "start_time": "2023-07-11T20:04:52.162Z"
   },
   {
    "duration": 668,
    "start_time": "2023-07-11T20:04:56.056Z"
   },
   {
    "duration": 868,
    "start_time": "2023-07-11T20:04:56.726Z"
   },
   {
    "duration": 18,
    "start_time": "2023-07-11T20:04:57.595Z"
   },
   {
    "duration": 127,
    "start_time": "2023-07-11T20:04:57.615Z"
   },
   {
    "duration": 242,
    "start_time": "2023-07-11T20:04:57.744Z"
   },
   {
    "duration": 566,
    "start_time": "2023-07-11T20:04:57.988Z"
   },
   {
    "duration": 651,
    "start_time": "2023-07-11T20:04:58.558Z"
   },
   {
    "duration": 531,
    "start_time": "2023-07-11T20:04:59.211Z"
   },
   {
    "duration": 229,
    "start_time": "2023-07-11T20:04:59.745Z"
   },
   {
    "duration": 19,
    "start_time": "2023-07-11T20:04:59.977Z"
   },
   {
    "duration": 241,
    "start_time": "2023-07-11T20:04:59.998Z"
   },
   {
    "duration": 385,
    "start_time": "2023-07-11T20:05:00.240Z"
   },
   {
    "duration": 687,
    "start_time": "2023-07-11T20:05:27.787Z"
   },
   {
    "duration": 932,
    "start_time": "2023-07-11T20:05:28.479Z"
   },
   {
    "duration": 28,
    "start_time": "2023-07-11T20:05:29.414Z"
   },
   {
    "duration": 149,
    "start_time": "2023-07-11T20:05:29.453Z"
   },
   {
    "duration": 240,
    "start_time": "2023-07-11T20:05:29.604Z"
   },
   {
    "duration": 551,
    "start_time": "2023-07-11T20:05:29.845Z"
   },
   {
    "duration": 654,
    "start_time": "2023-07-11T20:05:30.398Z"
   },
   {
    "duration": 545,
    "start_time": "2023-07-11T20:05:31.053Z"
   },
   {
    "duration": 224,
    "start_time": "2023-07-11T20:05:31.600Z"
   },
   {
    "duration": 26,
    "start_time": "2023-07-11T20:05:31.826Z"
   },
   {
    "duration": 211,
    "start_time": "2023-07-11T20:05:31.860Z"
   },
   {
    "duration": 404,
    "start_time": "2023-07-11T20:05:32.073Z"
   },
   {
    "duration": 77,
    "start_time": "2023-07-11T20:06:03.917Z"
   },
   {
    "duration": 9,
    "start_time": "2023-07-11T20:06:08.700Z"
   },
   {
    "duration": 10,
    "start_time": "2023-07-11T20:06:15.825Z"
   },
   {
    "duration": 8,
    "start_time": "2023-07-11T20:06:20.067Z"
   },
   {
    "duration": 9,
    "start_time": "2023-07-11T20:06:52.146Z"
   },
   {
    "duration": 44,
    "start_time": "2023-07-11T20:06:56.602Z"
   },
   {
    "duration": 6882,
    "start_time": "2023-07-11T20:09:05.636Z"
   },
   {
    "duration": 39,
    "start_time": "2023-07-11T20:09:37.039Z"
   },
   {
    "duration": 358,
    "start_time": "2023-07-11T20:11:11.409Z"
   },
   {
    "duration": 39,
    "start_time": "2023-07-11T20:11:24.744Z"
   },
   {
    "duration": 57484,
    "start_time": "2023-07-11T20:20:26.384Z"
   },
   {
    "duration": 5,
    "start_time": "2023-07-11T20:21:29.591Z"
   },
   {
    "duration": 4,
    "start_time": "2023-07-11T20:21:36.502Z"
   },
   {
    "duration": 79,
    "start_time": "2023-07-11T20:21:50.003Z"
   },
   {
    "duration": 191,
    "start_time": "2023-07-11T20:21:54.945Z"
   },
   {
    "duration": 267,
    "start_time": "2023-07-11T20:22:02.641Z"
   },
   {
    "duration": 131,
    "start_time": "2023-07-11T20:22:53.214Z"
   },
   {
    "duration": 9,
    "start_time": "2023-07-11T20:23:50.362Z"
   },
   {
    "duration": 32,
    "start_time": "2023-07-11T20:23:54.893Z"
   },
   {
    "duration": 5,
    "start_time": "2023-07-11T20:24:00.178Z"
   },
   {
    "duration": 2373,
    "start_time": "2023-07-11T20:27:34.221Z"
   },
   {
    "duration": 484,
    "start_time": "2023-07-11T20:28:26.534Z"
   },
   {
    "duration": 5,
    "start_time": "2023-07-11T20:29:27.110Z"
   },
   {
    "duration": 19619,
    "start_time": "2023-07-11T20:29:35.184Z"
   },
   {
    "duration": 499,
    "start_time": "2023-07-11T20:30:05.281Z"
   },
   {
    "duration": 2700,
    "start_time": "2023-07-11T20:30:26.687Z"
   },
   {
    "duration": 9210,
    "start_time": "2023-07-11T20:30:52.996Z"
   },
   {
    "duration": 13,
    "start_time": "2023-07-11T20:32:20.287Z"
   },
   {
    "duration": 3414,
    "start_time": "2023-07-11T20:32:32.333Z"
   },
   {
    "duration": 100,
    "start_time": "2023-07-11T20:33:42.968Z"
   },
   {
    "duration": 21,
    "start_time": "2023-07-11T20:34:16.828Z"
   },
   {
    "duration": 57,
    "start_time": "2023-07-11T20:34:56.222Z"
   },
   {
    "duration": 22,
    "start_time": "2023-07-11T20:35:04.872Z"
   },
   {
    "duration": 82,
    "start_time": "2023-07-11T20:35:55.263Z"
   },
   {
    "duration": 78,
    "start_time": "2023-07-11T20:36:14.173Z"
   },
   {
    "duration": 41,
    "start_time": "2023-07-11T20:36:53.196Z"
   },
   {
    "duration": 41,
    "start_time": "2023-07-11T20:37:06.481Z"
   },
   {
    "duration": 13024,
    "start_time": "2023-07-11T20:37:34.014Z"
   },
   {
    "duration": 3215,
    "start_time": "2023-07-11T20:38:01.323Z"
   },
   {
    "duration": 15,
    "start_time": "2023-07-11T20:38:59.975Z"
   },
   {
    "duration": 116,
    "start_time": "2023-07-11T20:45:24.685Z"
   },
   {
    "duration": 31,
    "start_time": "2023-07-11T20:45:26.933Z"
   },
   {
    "duration": 97,
    "start_time": "2023-07-11T20:46:09.698Z"
   },
   {
    "duration": 6,
    "start_time": "2023-07-11T20:47:15.094Z"
   },
   {
    "duration": 44,
    "start_time": "2023-07-11T20:48:14.319Z"
   },
   {
    "duration": 33,
    "start_time": "2023-07-11T20:48:27.259Z"
   },
   {
    "duration": 8,
    "start_time": "2023-07-11T20:50:18.306Z"
   },
   {
    "duration": 1251,
    "start_time": "2023-07-11T20:50:27.921Z"
   },
   {
    "duration": 832,
    "start_time": "2023-07-11T20:50:29.174Z"
   },
   {
    "duration": 18,
    "start_time": "2023-07-11T20:50:30.008Z"
   },
   {
    "duration": 140,
    "start_time": "2023-07-11T20:50:30.028Z"
   },
   {
    "duration": 229,
    "start_time": "2023-07-11T20:50:30.170Z"
   },
   {
    "duration": 527,
    "start_time": "2023-07-11T20:50:30.401Z"
   },
   {
    "duration": 638,
    "start_time": "2023-07-11T20:50:30.930Z"
   },
   {
    "duration": 477,
    "start_time": "2023-07-11T20:50:31.570Z"
   },
   {
    "duration": 226,
    "start_time": "2023-07-11T20:50:32.051Z"
   },
   {
    "duration": 18,
    "start_time": "2023-07-11T20:50:32.279Z"
   },
   {
    "duration": 245,
    "start_time": "2023-07-11T20:50:32.299Z"
   },
   {
    "duration": 377,
    "start_time": "2023-07-11T20:50:32.546Z"
   },
   {
    "duration": 40,
    "start_time": "2023-07-11T20:50:32.924Z"
   },
   {
    "duration": 6474,
    "start_time": "2023-07-11T20:50:32.967Z"
   },
   {
    "duration": 37,
    "start_time": "2023-07-11T20:50:39.443Z"
   },
   {
    "duration": 356,
    "start_time": "2023-07-11T20:50:39.481Z"
   },
   {
    "duration": 36,
    "start_time": "2023-07-11T20:50:39.839Z"
   },
   {
    "duration": 50,
    "start_time": "2023-07-11T20:50:39.877Z"
   },
   {
    "duration": 30,
    "start_time": "2023-07-11T20:50:39.929Z"
   },
   {
    "duration": 131,
    "start_time": "2023-07-11T20:50:39.963Z"
   },
   {
    "duration": 37,
    "start_time": "2023-07-11T20:50:40.096Z"
   },
   {
    "duration": 21,
    "start_time": "2023-07-11T20:54:44.692Z"
   },
   {
    "duration": 27,
    "start_time": "2023-07-11T20:55:02.040Z"
   },
   {
    "duration": 52,
    "start_time": "2023-07-11T21:02:47.883Z"
   },
   {
    "duration": 110,
    "start_time": "2023-07-11T21:03:28.410Z"
   },
   {
    "duration": 98,
    "start_time": "2023-07-11T21:03:52.400Z"
   },
   {
    "duration": 105,
    "start_time": "2023-07-11T21:03:56.163Z"
   },
   {
    "duration": 104,
    "start_time": "2023-07-11T21:04:48.488Z"
   },
   {
    "duration": 4,
    "start_time": "2023-07-11T21:11:28.510Z"
   },
   {
    "duration": 195,
    "start_time": "2023-07-11T21:11:39.756Z"
   },
   {
    "duration": 102,
    "start_time": "2023-07-11T21:11:53.700Z"
   },
   {
    "duration": 129,
    "start_time": "2023-07-11T21:12:01.661Z"
   },
   {
    "duration": 15,
    "start_time": "2023-07-11T21:12:18.184Z"
   },
   {
    "duration": 1326,
    "start_time": "2023-07-11T21:15:42.849Z"
   },
   {
    "duration": 832,
    "start_time": "2023-07-11T21:15:44.177Z"
   },
   {
    "duration": 16,
    "start_time": "2023-07-11T21:15:45.011Z"
   },
   {
    "duration": 137,
    "start_time": "2023-07-11T21:15:45.029Z"
   },
   {
    "duration": 234,
    "start_time": "2023-07-11T21:15:45.169Z"
   },
   {
    "duration": 523,
    "start_time": "2023-07-11T21:15:45.404Z"
   },
   {
    "duration": 601,
    "start_time": "2023-07-11T21:15:45.929Z"
   },
   {
    "duration": 470,
    "start_time": "2023-07-11T21:15:46.531Z"
   },
   {
    "duration": 209,
    "start_time": "2023-07-11T21:15:47.003Z"
   },
   {
    "duration": 17,
    "start_time": "2023-07-11T21:15:47.213Z"
   },
   {
    "duration": 215,
    "start_time": "2023-07-11T21:15:47.232Z"
   },
   {
    "duration": 345,
    "start_time": "2023-07-11T21:15:47.449Z"
   },
   {
    "duration": 32,
    "start_time": "2023-07-11T21:15:47.795Z"
   },
   {
    "duration": 6342,
    "start_time": "2023-07-11T21:15:47.830Z"
   },
   {
    "duration": 29,
    "start_time": "2023-07-11T21:15:54.174Z"
   },
   {
    "duration": 344,
    "start_time": "2023-07-11T21:15:54.204Z"
   },
   {
    "duration": 27,
    "start_time": "2023-07-11T21:15:54.551Z"
   },
   {
    "duration": 52,
    "start_time": "2023-07-11T21:15:54.580Z"
   },
   {
    "duration": 23,
    "start_time": "2023-07-11T21:15:54.634Z"
   },
   {
    "duration": 126,
    "start_time": "2023-07-11T21:15:54.658Z"
   },
   {
    "duration": 37,
    "start_time": "2023-07-11T21:15:54.786Z"
   },
   {
    "duration": 5,
    "start_time": "2023-07-11T21:15:54.861Z"
   },
   {
    "duration": 521,
    "start_time": "2023-07-11T21:15:54.867Z"
   },
   {
    "duration": 0,
    "start_time": "2023-07-11T21:15:55.390Z"
   },
   {
    "duration": 0,
    "start_time": "2023-07-11T21:15:55.392Z"
   },
   {
    "duration": 129,
    "start_time": "2023-07-11T21:16:34.239Z"
   },
   {
    "duration": 1416,
    "start_time": "2023-07-11T21:16:56.715Z"
   },
   {
    "duration": 14454,
    "start_time": "2023-07-11T21:21:09.489Z"
   },
   {
    "duration": 15046,
    "start_time": "2023-07-11T21:22:18.086Z"
   },
   {
    "duration": 15,
    "start_time": "2023-07-11T21:22:37.422Z"
   },
   {
    "duration": 35,
    "start_time": "2023-07-11T21:24:13.475Z"
   },
   {
    "duration": 1106,
    "start_time": "2023-07-11T21:24:20.906Z"
   },
   {
    "duration": 875,
    "start_time": "2023-07-11T21:24:22.014Z"
   },
   {
    "duration": 19,
    "start_time": "2023-07-11T21:24:22.891Z"
   },
   {
    "duration": 124,
    "start_time": "2023-07-11T21:24:22.912Z"
   },
   {
    "duration": 245,
    "start_time": "2023-07-11T21:24:23.038Z"
   },
   {
    "duration": 537,
    "start_time": "2023-07-11T21:24:23.285Z"
   },
   {
    "duration": 631,
    "start_time": "2023-07-11T21:24:23.824Z"
   },
   {
    "duration": 522,
    "start_time": "2023-07-11T21:24:24.457Z"
   },
   {
    "duration": 223,
    "start_time": "2023-07-11T21:24:24.980Z"
   },
   {
    "duration": 19,
    "start_time": "2023-07-11T21:24:25.204Z"
   },
   {
    "duration": 248,
    "start_time": "2023-07-11T21:24:25.225Z"
   },
   {
    "duration": 387,
    "start_time": "2023-07-11T21:24:25.474Z"
   },
   {
    "duration": 33,
    "start_time": "2023-07-11T21:24:25.863Z"
   },
   {
    "duration": 6560,
    "start_time": "2023-07-11T21:24:25.899Z"
   },
   {
    "duration": 30,
    "start_time": "2023-07-11T21:24:32.461Z"
   },
   {
    "duration": 358,
    "start_time": "2023-07-11T21:24:32.492Z"
   },
   {
    "duration": 27,
    "start_time": "2023-07-11T21:24:32.852Z"
   },
   {
    "duration": 68,
    "start_time": "2023-07-11T21:24:32.880Z"
   },
   {
    "duration": 15,
    "start_time": "2023-07-11T21:24:32.950Z"
   },
   {
    "duration": 124,
    "start_time": "2023-07-11T21:24:32.967Z"
   },
   {
    "duration": 35,
    "start_time": "2023-07-11T21:24:33.092Z"
   },
   {
    "duration": 3,
    "start_time": "2023-07-11T21:24:33.129Z"
   },
   {
    "duration": 15191,
    "start_time": "2023-07-11T21:24:33.133Z"
   },
   {
    "duration": 36,
    "start_time": "2023-07-11T21:24:48.326Z"
   },
   {
    "duration": 1140,
    "start_time": "2023-07-11T21:25:12.013Z"
   },
   {
    "duration": 787,
    "start_time": "2023-07-11T21:25:13.154Z"
   },
   {
    "duration": 22,
    "start_time": "2023-07-11T21:25:13.942Z"
   },
   {
    "duration": 115,
    "start_time": "2023-07-11T21:25:13.966Z"
   },
   {
    "duration": 214,
    "start_time": "2023-07-11T21:25:14.084Z"
   },
   {
    "duration": 506,
    "start_time": "2023-07-11T21:25:14.300Z"
   },
   {
    "duration": 615,
    "start_time": "2023-07-11T21:25:14.807Z"
   },
   {
    "duration": 502,
    "start_time": "2023-07-11T21:25:15.424Z"
   },
   {
    "duration": 212,
    "start_time": "2023-07-11T21:25:15.928Z"
   },
   {
    "duration": 23,
    "start_time": "2023-07-11T21:25:16.141Z"
   },
   {
    "duration": 212,
    "start_time": "2023-07-11T21:25:16.166Z"
   },
   {
    "duration": 358,
    "start_time": "2023-07-11T21:25:16.379Z"
   },
   {
    "duration": 32,
    "start_time": "2023-07-11T21:25:16.739Z"
   },
   {
    "duration": 6170,
    "start_time": "2023-07-11T21:25:16.773Z"
   },
   {
    "duration": 33,
    "start_time": "2023-07-11T21:25:22.944Z"
   },
   {
    "duration": 333,
    "start_time": "2023-07-11T21:25:22.979Z"
   },
   {
    "duration": 31,
    "start_time": "2023-07-11T21:25:23.313Z"
   },
   {
    "duration": 58,
    "start_time": "2023-07-11T21:25:23.352Z"
   },
   {
    "duration": 14,
    "start_time": "2023-07-11T21:25:23.412Z"
   },
   {
    "duration": 118,
    "start_time": "2023-07-11T21:25:23.428Z"
   },
   {
    "duration": 38,
    "start_time": "2023-07-11T21:25:23.548Z"
   },
   {
    "duration": 3,
    "start_time": "2023-07-11T21:25:23.587Z"
   },
   {
    "duration": 14984,
    "start_time": "2023-07-11T21:25:23.591Z"
   },
   {
    "duration": 29,
    "start_time": "2023-07-11T21:25:38.576Z"
   },
   {
    "duration": 201,
    "start_time": "2023-07-11T21:26:16.620Z"
   },
   {
    "duration": 207,
    "start_time": "2023-07-11T21:26:43.217Z"
   },
   {
    "duration": 205,
    "start_time": "2023-07-11T21:26:48.694Z"
   },
   {
    "duration": 202,
    "start_time": "2023-07-11T21:26:53.816Z"
   },
   {
    "duration": 7,
    "start_time": "2023-07-11T21:27:16.932Z"
   },
   {
    "duration": 9,
    "start_time": "2023-07-11T21:27:27.869Z"
   },
   {
    "duration": 15193,
    "start_time": "2023-07-11T21:27:56.885Z"
   },
   {
    "duration": 8,
    "start_time": "2023-07-11T21:28:12.080Z"
   },
   {
    "duration": 15000,
    "start_time": "2023-07-11T21:28:51.147Z"
   },
   {
    "duration": 7,
    "start_time": "2023-07-11T21:29:06.151Z"
   },
   {
    "duration": 41,
    "start_time": "2023-07-11T21:29:06.160Z"
   },
   {
    "duration": 217,
    "start_time": "2023-07-11T21:29:06.203Z"
   },
   {
    "duration": 257,
    "start_time": "2023-07-11T21:29:28.308Z"
   },
   {
    "duration": 196,
    "start_time": "2023-07-11T21:32:18.541Z"
   },
   {
    "duration": 116,
    "start_time": "2023-07-11T21:33:11.624Z"
   },
   {
    "duration": 4,
    "start_time": "2023-07-11T21:34:32.656Z"
   },
   {
    "duration": 7708,
    "start_time": "2023-07-11T21:34:53.811Z"
   },
   {
    "duration": 1008,
    "start_time": "2023-07-11T21:35:20.059Z"
   },
   {
    "duration": 5452,
    "start_time": "2023-07-11T21:37:28.358Z"
   },
   {
    "duration": 1264,
    "start_time": "2023-07-11T21:37:55.131Z"
   },
   {
    "duration": 840,
    "start_time": "2023-07-11T21:37:56.397Z"
   },
   {
    "duration": 20,
    "start_time": "2023-07-11T21:37:57.238Z"
   },
   {
    "duration": 124,
    "start_time": "2023-07-11T21:37:57.259Z"
   },
   {
    "duration": 215,
    "start_time": "2023-07-11T21:37:57.385Z"
   },
   {
    "duration": 478,
    "start_time": "2023-07-11T21:37:57.601Z"
   },
   {
    "duration": 610,
    "start_time": "2023-07-11T21:37:58.081Z"
   },
   {
    "duration": 478,
    "start_time": "2023-07-11T21:37:58.693Z"
   },
   {
    "duration": 209,
    "start_time": "2023-07-11T21:37:59.173Z"
   },
   {
    "duration": 16,
    "start_time": "2023-07-11T21:37:59.384Z"
   },
   {
    "duration": 221,
    "start_time": "2023-07-11T21:37:59.402Z"
   },
   {
    "duration": 350,
    "start_time": "2023-07-11T21:37:59.625Z"
   },
   {
    "duration": 29,
    "start_time": "2023-07-11T21:37:59.977Z"
   },
   {
    "duration": 245,
    "start_time": "2023-07-11T21:38:00.010Z"
   },
   {
    "duration": 6132,
    "start_time": "2023-07-11T21:38:00.256Z"
   },
   {
    "duration": 30,
    "start_time": "2023-07-11T21:38:06.390Z"
   },
   {
    "duration": 230,
    "start_time": "2023-07-11T21:38:06.422Z"
   },
   {
    "duration": 345,
    "start_time": "2023-07-11T21:38:06.653Z"
   },
   {
    "duration": 30,
    "start_time": "2023-07-11T21:38:06.999Z"
   },
   {
    "duration": 214,
    "start_time": "2023-07-11T21:38:07.030Z"
   },
   {
    "duration": 51,
    "start_time": "2023-07-11T21:38:07.245Z"
   },
   {
    "duration": 15,
    "start_time": "2023-07-11T21:38:07.298Z"
   },
   {
    "duration": 130,
    "start_time": "2023-07-11T21:38:07.314Z"
   },
   {
    "duration": 39,
    "start_time": "2023-07-11T21:38:07.446Z"
   },
   {
    "duration": 3,
    "start_time": "2023-07-11T21:38:07.487Z"
   },
   {
    "duration": 14847,
    "start_time": "2023-07-11T21:38:07.491Z"
   },
   {
    "duration": 4377,
    "start_time": "2023-07-11T21:38:22.340Z"
   },
   {
    "duration": 0,
    "start_time": "2023-07-11T21:38:26.719Z"
   },
   {
    "duration": 0,
    "start_time": "2023-07-11T21:38:26.720Z"
   },
   {
    "duration": 468,
    "start_time": "2023-07-11T21:38:50.347Z"
   },
   {
    "duration": 8,
    "start_time": "2023-07-11T21:39:13.117Z"
   },
   {
    "duration": 3,
    "start_time": "2023-07-11T21:42:07.785Z"
   },
   {
    "duration": 1127,
    "start_time": "2023-07-11T21:44:07.200Z"
   },
   {
    "duration": 845,
    "start_time": "2023-07-11T21:44:08.330Z"
   },
   {
    "duration": 16,
    "start_time": "2023-07-11T21:44:09.177Z"
   },
   {
    "duration": 124,
    "start_time": "2023-07-11T21:44:09.195Z"
   },
   {
    "duration": 226,
    "start_time": "2023-07-11T21:44:09.322Z"
   },
   {
    "duration": 490,
    "start_time": "2023-07-11T21:44:09.550Z"
   },
   {
    "duration": 631,
    "start_time": "2023-07-11T21:44:10.041Z"
   },
   {
    "duration": 497,
    "start_time": "2023-07-11T21:44:10.674Z"
   },
   {
    "duration": 215,
    "start_time": "2023-07-11T21:44:11.172Z"
   },
   {
    "duration": 18,
    "start_time": "2023-07-11T21:44:11.388Z"
   },
   {
    "duration": 211,
    "start_time": "2023-07-11T21:44:11.408Z"
   },
   {
    "duration": 355,
    "start_time": "2023-07-11T21:44:11.621Z"
   },
   {
    "duration": 27,
    "start_time": "2023-07-11T21:44:11.978Z"
   },
   {
    "duration": 210,
    "start_time": "2023-07-11T21:44:12.008Z"
   },
   {
    "duration": 6503,
    "start_time": "2023-07-11T21:44:12.220Z"
   },
   {
    "duration": 30,
    "start_time": "2023-07-11T21:44:18.725Z"
   },
   {
    "duration": 218,
    "start_time": "2023-07-11T21:44:18.757Z"
   },
   {
    "duration": 352,
    "start_time": "2023-07-11T21:44:18.977Z"
   },
   {
    "duration": 44,
    "start_time": "2023-07-11T21:44:19.331Z"
   },
   {
    "duration": 210,
    "start_time": "2023-07-11T21:44:19.376Z"
   },
   {
    "duration": 47,
    "start_time": "2023-07-11T21:44:19.588Z"
   },
   {
    "duration": 34,
    "start_time": "2023-07-11T21:44:19.636Z"
   },
   {
    "duration": 125,
    "start_time": "2023-07-11T21:44:19.672Z"
   },
   {
    "duration": 38,
    "start_time": "2023-07-11T21:44:19.799Z"
   },
   {
    "duration": 15,
    "start_time": "2023-07-11T21:44:19.839Z"
   },
   {
    "duration": 25,
    "start_time": "2023-07-11T21:44:19.855Z"
   },
   {
    "duration": 16637,
    "start_time": "2023-07-11T21:44:19.882Z"
   },
   {
    "duration": 0,
    "start_time": "2023-07-11T21:44:36.520Z"
   },
   {
    "duration": 0,
    "start_time": "2023-07-11T21:44:36.522Z"
   },
   {
    "duration": 16039,
    "start_time": "2023-07-11T21:45:17.748Z"
   },
   {
    "duration": 17802,
    "start_time": "2023-07-11T21:46:02.130Z"
   },
   {
    "duration": 18629,
    "start_time": "2023-07-11T21:46:30.908Z"
   },
   {
    "duration": 28,
    "start_time": "2023-07-11T21:46:54.516Z"
   },
   {
    "duration": 213,
    "start_time": "2023-07-11T21:46:54.678Z"
   },
   {
    "duration": 20,
    "start_time": "2023-07-11T21:48:04.377Z"
   },
   {
    "duration": 7195,
    "start_time": "2023-07-11T21:48:22.582Z"
   },
   {
    "duration": 1132,
    "start_time": "2023-07-11T21:49:11.425Z"
   },
   {
    "duration": 774,
    "start_time": "2023-07-11T21:49:12.559Z"
   },
   {
    "duration": 18,
    "start_time": "2023-07-11T21:49:13.335Z"
   },
   {
    "duration": 130,
    "start_time": "2023-07-11T21:49:13.355Z"
   },
   {
    "duration": 202,
    "start_time": "2023-07-11T21:49:13.488Z"
   },
   {
    "duration": 501,
    "start_time": "2023-07-11T21:49:13.692Z"
   },
   {
    "duration": 598,
    "start_time": "2023-07-11T21:49:14.195Z"
   },
   {
    "duration": 493,
    "start_time": "2023-07-11T21:49:14.795Z"
   },
   {
    "duration": 219,
    "start_time": "2023-07-11T21:49:15.290Z"
   },
   {
    "duration": 17,
    "start_time": "2023-07-11T21:49:15.510Z"
   },
   {
    "duration": 208,
    "start_time": "2023-07-11T21:49:15.528Z"
   },
   {
    "duration": 352,
    "start_time": "2023-07-11T21:49:15.738Z"
   },
   {
    "duration": 29,
    "start_time": "2023-07-11T21:49:16.092Z"
   },
   {
    "duration": 213,
    "start_time": "2023-07-11T21:49:16.124Z"
   },
   {
    "duration": 6270,
    "start_time": "2023-07-11T21:49:16.338Z"
   },
   {
    "duration": 27,
    "start_time": "2023-07-11T21:49:22.610Z"
   },
   {
    "duration": 205,
    "start_time": "2023-07-11T21:49:22.639Z"
   },
   {
    "duration": 341,
    "start_time": "2023-07-11T21:49:22.846Z"
   },
   {
    "duration": 27,
    "start_time": "2023-07-11T21:49:23.189Z"
   },
   {
    "duration": 212,
    "start_time": "2023-07-11T21:49:23.218Z"
   },
   {
    "duration": 51,
    "start_time": "2023-07-11T21:49:23.431Z"
   },
   {
    "duration": 15,
    "start_time": "2023-07-11T21:49:23.484Z"
   },
   {
    "duration": 119,
    "start_time": "2023-07-11T21:49:23.500Z"
   },
   {
    "duration": 41,
    "start_time": "2023-07-11T21:49:23.621Z"
   },
   {
    "duration": 2,
    "start_time": "2023-07-11T21:49:23.664Z"
   },
   {
    "duration": 8,
    "start_time": "2023-07-11T21:49:23.668Z"
   },
   {
    "duration": 15170,
    "start_time": "2023-07-11T21:49:23.678Z"
   },
   {
    "duration": 2340,
    "start_time": "2023-07-11T21:49:38.850Z"
   },
   {
    "duration": 29,
    "start_time": "2023-07-11T21:49:41.191Z"
   },
   {
    "duration": 218,
    "start_time": "2023-07-11T21:49:41.221Z"
   },
   {
    "duration": 2392,
    "start_time": "2023-07-11T21:51:38.992Z"
   },
   {
    "duration": 16,
    "start_time": "2023-07-11T21:51:57.739Z"
   },
   {
    "duration": 15,
    "start_time": "2023-07-11T21:52:07.998Z"
   },
   {
    "duration": 2322,
    "start_time": "2023-07-11T21:52:40.626Z"
   },
   {
    "duration": 15,
    "start_time": "2023-07-11T21:52:44.311Z"
   },
   {
    "duration": 592,
    "start_time": "2023-07-11T21:52:45.785Z"
   },
   {
    "duration": 22,
    "start_time": "2023-07-11T21:53:46.134Z"
   },
   {
    "duration": 1223,
    "start_time": "2023-07-11T21:53:49.853Z"
   },
   {
    "duration": 885,
    "start_time": "2023-07-11T21:53:51.078Z"
   },
   {
    "duration": 16,
    "start_time": "2023-07-11T21:53:51.964Z"
   },
   {
    "duration": 123,
    "start_time": "2023-07-11T21:53:51.982Z"
   },
   {
    "duration": 230,
    "start_time": "2023-07-11T21:53:52.107Z"
   },
   {
    "duration": 504,
    "start_time": "2023-07-11T21:53:52.339Z"
   },
   {
    "duration": 617,
    "start_time": "2023-07-11T21:53:52.851Z"
   },
   {
    "duration": 471,
    "start_time": "2023-07-11T21:53:53.470Z"
   },
   {
    "duration": 224,
    "start_time": "2023-07-11T21:53:53.943Z"
   },
   {
    "duration": 19,
    "start_time": "2023-07-11T21:53:54.169Z"
   },
   {
    "duration": 235,
    "start_time": "2023-07-11T21:53:54.189Z"
   },
   {
    "duration": 382,
    "start_time": "2023-07-11T21:53:54.426Z"
   },
   {
    "duration": 29,
    "start_time": "2023-07-11T21:53:54.810Z"
   },
   {
    "duration": 201,
    "start_time": "2023-07-11T21:53:54.852Z"
   },
   {
    "duration": 6133,
    "start_time": "2023-07-11T21:53:55.055Z"
   },
   {
    "duration": 29,
    "start_time": "2023-07-11T21:54:01.190Z"
   },
   {
    "duration": 220,
    "start_time": "2023-07-11T21:54:01.221Z"
   },
   {
    "duration": 353,
    "start_time": "2023-07-11T21:54:01.443Z"
   },
   {
    "duration": 29,
    "start_time": "2023-07-11T21:54:01.798Z"
   },
   {
    "duration": 234,
    "start_time": "2023-07-11T21:54:01.829Z"
   },
   {
    "duration": 49,
    "start_time": "2023-07-11T21:54:02.065Z"
   },
   {
    "duration": 15,
    "start_time": "2023-07-11T21:54:02.116Z"
   },
   {
    "duration": 129,
    "start_time": "2023-07-11T21:54:02.132Z"
   },
   {
    "duration": 37,
    "start_time": "2023-07-11T21:54:02.262Z"
   },
   {
    "duration": 3,
    "start_time": "2023-07-11T21:54:02.300Z"
   },
   {
    "duration": 8,
    "start_time": "2023-07-11T21:54:02.305Z"
   },
   {
    "duration": 14458,
    "start_time": "2023-07-11T21:54:02.314Z"
   },
   {
    "duration": 2373,
    "start_time": "2023-07-11T21:54:16.774Z"
   },
   {
    "duration": 16,
    "start_time": "2023-07-11T21:54:19.149Z"
   },
   {
    "duration": 33,
    "start_time": "2023-07-11T21:54:19.167Z"
   },
   {
    "duration": 234,
    "start_time": "2023-07-11T21:54:19.202Z"
   },
   {
    "duration": 2376,
    "start_time": "2023-07-11T21:54:33.367Z"
   },
   {
    "duration": 986,
    "start_time": "2023-07-11T21:54:39.991Z"
   },
   {
    "duration": 6,
    "start_time": "2023-07-11T21:54:48.196Z"
   },
   {
    "duration": 4,
    "start_time": "2023-07-11T21:54:55.135Z"
   },
   {
    "duration": 891,
    "start_time": "2023-07-11T21:55:16.202Z"
   },
   {
    "duration": 5,
    "start_time": "2023-07-11T21:55:37.487Z"
   },
   {
    "duration": 718,
    "start_time": "2023-07-11T21:55:50.399Z"
   },
   {
    "duration": 92,
    "start_time": "2023-07-11T21:57:02.054Z"
   },
   {
    "duration": 4,
    "start_time": "2023-07-11T21:57:08.302Z"
   },
   {
    "duration": 1178,
    "start_time": "2023-07-11T21:57:49.063Z"
   },
   {
    "duration": 847,
    "start_time": "2023-07-11T21:57:50.243Z"
   },
   {
    "duration": 17,
    "start_time": "2023-07-11T21:57:51.091Z"
   },
   {
    "duration": 122,
    "start_time": "2023-07-11T21:57:51.110Z"
   },
   {
    "duration": 218,
    "start_time": "2023-07-11T21:57:51.234Z"
   },
   {
    "duration": 495,
    "start_time": "2023-07-11T21:57:51.454Z"
   },
   {
    "duration": 589,
    "start_time": "2023-07-11T21:57:51.952Z"
   },
   {
    "duration": 472,
    "start_time": "2023-07-11T21:57:52.543Z"
   },
   {
    "duration": 203,
    "start_time": "2023-07-11T21:57:53.017Z"
   },
   {
    "duration": 17,
    "start_time": "2023-07-11T21:57:53.221Z"
   },
   {
    "duration": 217,
    "start_time": "2023-07-11T21:57:53.239Z"
   },
   {
    "duration": 353,
    "start_time": "2023-07-11T21:57:53.458Z"
   },
   {
    "duration": 28,
    "start_time": "2023-07-11T21:57:53.812Z"
   },
   {
    "duration": 208,
    "start_time": "2023-07-11T21:57:53.843Z"
   },
   {
    "duration": 6170,
    "start_time": "2023-07-11T21:57:54.053Z"
   },
   {
    "duration": 35,
    "start_time": "2023-07-11T21:58:00.224Z"
   },
   {
    "duration": 258,
    "start_time": "2023-07-11T21:58:00.261Z"
   },
   {
    "duration": 335,
    "start_time": "2023-07-11T21:58:00.520Z"
   },
   {
    "duration": 29,
    "start_time": "2023-07-11T21:58:00.857Z"
   },
   {
    "duration": 225,
    "start_time": "2023-07-11T21:58:00.887Z"
   },
   {
    "duration": 54,
    "start_time": "2023-07-11T21:58:01.114Z"
   },
   {
    "duration": 15,
    "start_time": "2023-07-11T21:58:01.170Z"
   },
   {
    "duration": 166,
    "start_time": "2023-07-11T21:58:01.187Z"
   },
   {
    "duration": 37,
    "start_time": "2023-07-11T21:58:01.355Z"
   },
   {
    "duration": 13,
    "start_time": "2023-07-11T21:58:01.394Z"
   },
   {
    "duration": 35,
    "start_time": "2023-07-11T21:58:01.408Z"
   },
   {
    "duration": 15354,
    "start_time": "2023-07-11T21:58:01.445Z"
   },
   {
    "duration": 0,
    "start_time": "2023-07-11T21:58:16.801Z"
   },
   {
    "duration": 0,
    "start_time": "2023-07-11T21:58:16.802Z"
   },
   {
    "duration": 0,
    "start_time": "2023-07-11T21:58:16.803Z"
   },
   {
    "duration": 0,
    "start_time": "2023-07-11T21:58:16.804Z"
   },
   {
    "duration": 15614,
    "start_time": "2023-07-11T21:58:37.387Z"
   },
   {
    "duration": 3,
    "start_time": "2023-07-11T22:02:19.462Z"
   },
   {
    "duration": 16345,
    "start_time": "2023-07-11T22:02:22.395Z"
   },
   {
    "duration": 4,
    "start_time": "2023-07-11T22:04:10.883Z"
   },
   {
    "duration": 15827,
    "start_time": "2023-07-11T22:04:11.329Z"
   },
   {
    "duration": 8,
    "start_time": "2023-07-11T22:05:37.601Z"
   },
   {
    "duration": 4,
    "start_time": "2023-07-11T22:06:14.667Z"
   },
   {
    "duration": 4,
    "start_time": "2023-07-11T22:06:27.153Z"
   },
   {
    "duration": 3,
    "start_time": "2023-07-11T22:06:32.812Z"
   },
   {
    "duration": 3,
    "start_time": "2023-07-11T22:06:38.732Z"
   },
   {
    "duration": 4,
    "start_time": "2023-07-11T22:08:04.216Z"
   },
   {
    "duration": 4,
    "start_time": "2023-07-11T22:08:05.668Z"
   },
   {
    "duration": 3,
    "start_time": "2023-07-11T22:08:18.107Z"
   },
   {
    "duration": 15528,
    "start_time": "2023-07-11T22:08:20.883Z"
   },
   {
    "duration": 4,
    "start_time": "2023-07-11T22:09:39.326Z"
   },
   {
    "duration": 15894,
    "start_time": "2023-07-11T22:09:39.816Z"
   },
   {
    "duration": 4,
    "start_time": "2023-07-11T22:10:29.626Z"
   },
   {
    "duration": 16837,
    "start_time": "2023-07-11T22:10:29.767Z"
   },
   {
    "duration": 11,
    "start_time": "2023-07-11T22:11:26.959Z"
   },
   {
    "duration": 7,
    "start_time": "2023-07-11T22:11:50.863Z"
   },
   {
    "duration": 54778,
    "start_time": "2023-07-11T22:14:19.554Z"
   },
   {
    "duration": 30,
    "start_time": "2023-07-11T22:15:24.931Z"
   },
   {
    "duration": 290,
    "start_time": "2023-07-11T22:15:48.105Z"
   },
   {
    "duration": 1150,
    "start_time": "2023-07-11T22:15:52.816Z"
   },
   {
    "duration": 838,
    "start_time": "2023-07-11T22:15:53.968Z"
   },
   {
    "duration": 17,
    "start_time": "2023-07-11T22:15:54.808Z"
   },
   {
    "duration": 134,
    "start_time": "2023-07-11T22:15:54.827Z"
   },
   {
    "duration": 234,
    "start_time": "2023-07-11T22:15:54.963Z"
   },
   {
    "duration": 522,
    "start_time": "2023-07-11T22:15:55.198Z"
   },
   {
    "duration": 648,
    "start_time": "2023-07-11T22:15:55.721Z"
   },
   {
    "duration": 510,
    "start_time": "2023-07-11T22:15:56.371Z"
   },
   {
    "duration": 216,
    "start_time": "2023-07-11T22:15:56.882Z"
   },
   {
    "duration": 18,
    "start_time": "2023-07-11T22:15:57.099Z"
   },
   {
    "duration": 229,
    "start_time": "2023-07-11T22:15:57.119Z"
   },
   {
    "duration": 359,
    "start_time": "2023-07-11T22:15:57.351Z"
   },
   {
    "duration": 29,
    "start_time": "2023-07-11T22:15:57.711Z"
   },
   {
    "duration": 205,
    "start_time": "2023-07-11T22:15:57.753Z"
   },
   {
    "duration": 6311,
    "start_time": "2023-07-11T22:15:57.960Z"
   },
   {
    "duration": 29,
    "start_time": "2023-07-11T22:16:04.273Z"
   },
   {
    "duration": 220,
    "start_time": "2023-07-11T22:16:04.303Z"
   },
   {
    "duration": 350,
    "start_time": "2023-07-11T22:16:04.524Z"
   },
   {
    "duration": 29,
    "start_time": "2023-07-11T22:16:04.876Z"
   },
   {
    "duration": 217,
    "start_time": "2023-07-11T22:16:04.907Z"
   },
   {
    "duration": 58,
    "start_time": "2023-07-11T22:16:05.126Z"
   },
   {
    "duration": 16,
    "start_time": "2023-07-11T22:16:05.186Z"
   },
   {
    "duration": 138,
    "start_time": "2023-07-11T22:16:05.204Z"
   },
   {
    "duration": 45,
    "start_time": "2023-07-11T22:16:05.344Z"
   },
   {
    "duration": 3,
    "start_time": "2023-07-11T22:16:05.391Z"
   },
   {
    "duration": 112,
    "start_time": "2023-07-11T22:16:05.396Z"
   },
   {
    "duration": 0,
    "start_time": "2023-07-11T22:16:05.510Z"
   },
   {
    "duration": 0,
    "start_time": "2023-07-11T22:16:05.511Z"
   },
   {
    "duration": 0,
    "start_time": "2023-07-11T22:16:05.512Z"
   },
   {
    "duration": 0,
    "start_time": "2023-07-11T22:16:05.513Z"
   },
   {
    "duration": 0,
    "start_time": "2023-07-11T22:16:05.514Z"
   },
   {
    "duration": 1195,
    "start_time": "2023-07-11T22:17:07.662Z"
   },
   {
    "duration": 820,
    "start_time": "2023-07-11T22:17:08.859Z"
   },
   {
    "duration": 17,
    "start_time": "2023-07-11T22:17:09.681Z"
   },
   {
    "duration": 126,
    "start_time": "2023-07-11T22:17:09.700Z"
   },
   {
    "duration": 224,
    "start_time": "2023-07-11T22:17:09.829Z"
   },
   {
    "duration": 516,
    "start_time": "2023-07-11T22:17:10.055Z"
   },
   {
    "duration": 614,
    "start_time": "2023-07-11T22:17:10.573Z"
   },
   {
    "duration": 505,
    "start_time": "2023-07-11T22:17:11.188Z"
   },
   {
    "duration": 213,
    "start_time": "2023-07-11T22:17:11.695Z"
   },
   {
    "duration": 19,
    "start_time": "2023-07-11T22:17:11.910Z"
   },
   {
    "duration": 218,
    "start_time": "2023-07-11T22:17:11.930Z"
   },
   {
    "duration": 370,
    "start_time": "2023-07-11T22:17:12.150Z"
   },
   {
    "duration": 36,
    "start_time": "2023-07-11T22:17:12.521Z"
   },
   {
    "duration": 214,
    "start_time": "2023-07-11T22:17:12.560Z"
   },
   {
    "duration": 6206,
    "start_time": "2023-07-11T22:17:12.776Z"
   },
   {
    "duration": 29,
    "start_time": "2023-07-11T22:17:18.983Z"
   },
   {
    "duration": 216,
    "start_time": "2023-07-11T22:17:19.014Z"
   },
   {
    "duration": 421,
    "start_time": "2023-07-11T22:17:19.232Z"
   },
   {
    "duration": 32,
    "start_time": "2023-07-11T22:17:19.655Z"
   },
   {
    "duration": 244,
    "start_time": "2023-07-11T22:17:19.689Z"
   },
   {
    "duration": 58,
    "start_time": "2023-07-11T22:17:19.935Z"
   },
   {
    "duration": 19,
    "start_time": "2023-07-11T22:17:19.995Z"
   },
   {
    "duration": 155,
    "start_time": "2023-07-11T22:17:20.016Z"
   },
   {
    "duration": 42,
    "start_time": "2023-07-11T22:17:20.173Z"
   },
   {
    "duration": 3,
    "start_time": "2023-07-11T22:17:20.216Z"
   },
   {
    "duration": 9,
    "start_time": "2023-07-11T22:17:20.221Z"
   },
   {
    "duration": 19057,
    "start_time": "2023-07-11T22:17:20.231Z"
   },
   {
    "duration": 27,
    "start_time": "2023-07-11T22:17:39.290Z"
   },
   {
    "duration": 220,
    "start_time": "2023-07-11T22:17:39.320Z"
   },
   {
    "duration": 1058,
    "start_time": "2023-07-11T22:23:36.111Z"
   },
   {
    "duration": 1045,
    "start_time": "2023-07-11T22:23:38.807Z"
   },
   {
    "duration": 5,
    "start_time": "2023-07-11T22:25:18.765Z"
   },
   {
    "duration": 150,
    "start_time": "2023-07-11T22:26:05.784Z"
   },
   {
    "duration": 24,
    "start_time": "2023-07-11T22:26:15.958Z"
   },
   {
    "duration": 32,
    "start_time": "2023-07-11T22:26:18.615Z"
   },
   {
    "duration": 4,
    "start_time": "2023-07-11T22:26:24.470Z"
   },
   {
    "duration": 21,
    "start_time": "2023-07-11T22:26:30.587Z"
   },
   {
    "duration": 1161,
    "start_time": "2023-07-11T22:27:02.699Z"
   },
   {
    "duration": 850,
    "start_time": "2023-07-11T22:27:03.862Z"
   },
   {
    "duration": 17,
    "start_time": "2023-07-11T22:27:04.714Z"
   },
   {
    "duration": 135,
    "start_time": "2023-07-11T22:27:04.734Z"
   },
   {
    "duration": 250,
    "start_time": "2023-07-11T22:27:04.870Z"
   },
   {
    "duration": 544,
    "start_time": "2023-07-11T22:27:05.121Z"
   },
   {
    "duration": 632,
    "start_time": "2023-07-11T22:27:05.667Z"
   },
   {
    "duration": 503,
    "start_time": "2023-07-11T22:27:06.301Z"
   },
   {
    "duration": 208,
    "start_time": "2023-07-11T22:27:06.805Z"
   },
   {
    "duration": 18,
    "start_time": "2023-07-11T22:27:07.016Z"
   },
   {
    "duration": 225,
    "start_time": "2023-07-11T22:27:07.035Z"
   },
   {
    "duration": 388,
    "start_time": "2023-07-11T22:27:07.262Z"
   },
   {
    "duration": 30,
    "start_time": "2023-07-11T22:27:07.653Z"
   },
   {
    "duration": 239,
    "start_time": "2023-07-11T22:27:07.685Z"
   },
   {
    "duration": 6344,
    "start_time": "2023-07-11T22:27:07.925Z"
   },
   {
    "duration": 28,
    "start_time": "2023-07-11T22:27:14.271Z"
   },
   {
    "duration": 218,
    "start_time": "2023-07-11T22:27:14.302Z"
   },
   {
    "duration": 342,
    "start_time": "2023-07-11T22:27:14.522Z"
   },
   {
    "duration": 29,
    "start_time": "2023-07-11T22:27:14.865Z"
   },
   {
    "duration": 216,
    "start_time": "2023-07-11T22:27:14.896Z"
   },
   {
    "duration": 59,
    "start_time": "2023-07-11T22:27:15.114Z"
   },
   {
    "duration": 17,
    "start_time": "2023-07-11T22:27:15.174Z"
   },
   {
    "duration": 130,
    "start_time": "2023-07-11T22:27:15.193Z"
   },
   {
    "duration": 58,
    "start_time": "2023-07-11T22:27:15.326Z"
   },
   {
    "duration": 5,
    "start_time": "2023-07-11T22:27:15.386Z"
   },
   {
    "duration": 10,
    "start_time": "2023-07-11T22:27:15.392Z"
   },
   {
    "duration": 29,
    "start_time": "2023-07-11T22:27:33.588Z"
   },
   {
    "duration": 209,
    "start_time": "2023-07-11T22:27:33.619Z"
   },
   {
    "duration": 4,
    "start_time": "2023-07-11T22:27:33.830Z"
   },
   {
    "duration": 44,
    "start_time": "2023-07-11T22:27:33.835Z"
   },
   {
    "duration": 13,
    "start_time": "2023-07-11T22:27:33.881Z"
   },
   {
    "duration": 702,
    "start_time": "2023-07-11T22:27:33.896Z"
   },
   {
    "duration": 14984,
    "start_time": "2023-07-11T22:27:34.600Z"
   },
   {
    "duration": 1137,
    "start_time": "2023-07-11T22:27:59.718Z"
   },
   {
    "duration": 874,
    "start_time": "2023-07-11T22:28:00.858Z"
   },
   {
    "duration": 24,
    "start_time": "2023-07-11T22:28:01.734Z"
   },
   {
    "duration": 139,
    "start_time": "2023-07-11T22:28:01.760Z"
   },
   {
    "duration": 223,
    "start_time": "2023-07-11T22:28:01.902Z"
   },
   {
    "duration": 512,
    "start_time": "2023-07-11T22:28:02.127Z"
   },
   {
    "duration": 620,
    "start_time": "2023-07-11T22:28:02.641Z"
   },
   {
    "duration": 488,
    "start_time": "2023-07-11T22:28:03.263Z"
   },
   {
    "duration": 211,
    "start_time": "2023-07-11T22:28:03.752Z"
   },
   {
    "duration": 18,
    "start_time": "2023-07-11T22:28:03.964Z"
   },
   {
    "duration": 228,
    "start_time": "2023-07-11T22:28:03.984Z"
   },
   {
    "duration": 362,
    "start_time": "2023-07-11T22:28:04.214Z"
   },
   {
    "duration": 30,
    "start_time": "2023-07-11T22:28:04.577Z"
   },
   {
    "duration": 367,
    "start_time": "2023-07-11T22:28:04.610Z"
   },
   {
    "duration": 6283,
    "start_time": "2023-07-11T22:28:04.979Z"
   },
   {
    "duration": 30,
    "start_time": "2023-07-11T22:28:11.263Z"
   },
   {
    "duration": 355,
    "start_time": "2023-07-11T22:28:11.295Z"
   },
   {
    "duration": 350,
    "start_time": "2023-07-11T22:28:11.652Z"
   },
   {
    "duration": 29,
    "start_time": "2023-07-11T22:28:12.003Z"
   },
   {
    "duration": 215,
    "start_time": "2023-07-11T22:28:12.034Z"
   },
   {
    "duration": 49,
    "start_time": "2023-07-11T22:28:12.252Z"
   },
   {
    "duration": 18,
    "start_time": "2023-07-11T22:28:12.303Z"
   },
   {
    "duration": 133,
    "start_time": "2023-07-11T22:28:12.323Z"
   },
   {
    "duration": 37,
    "start_time": "2023-07-11T22:28:12.457Z"
   },
   {
    "duration": 3,
    "start_time": "2023-07-11T22:28:12.496Z"
   },
   {
    "duration": 18,
    "start_time": "2023-07-11T22:28:12.501Z"
   },
   {
    "duration": 18998,
    "start_time": "2023-07-11T22:28:12.521Z"
   },
   {
    "duration": 35,
    "start_time": "2023-07-11T22:28:31.521Z"
   },
   {
    "duration": 232,
    "start_time": "2023-07-11T22:28:31.558Z"
   },
   {
    "duration": 4,
    "start_time": "2023-07-11T22:28:31.791Z"
   },
   {
    "duration": 38,
    "start_time": "2023-07-11T22:28:31.797Z"
   },
   {
    "duration": 23,
    "start_time": "2023-07-11T22:28:31.836Z"
   },
   {
    "duration": 730,
    "start_time": "2023-07-11T22:28:31.861Z"
   },
   {
    "duration": 1193,
    "start_time": "2023-07-11T22:29:40.467Z"
   },
   {
    "duration": 844,
    "start_time": "2023-07-11T22:29:41.662Z"
   },
   {
    "duration": 18,
    "start_time": "2023-07-11T22:29:42.508Z"
   },
   {
    "duration": 138,
    "start_time": "2023-07-11T22:29:42.527Z"
   },
   {
    "duration": 223,
    "start_time": "2023-07-11T22:29:42.667Z"
   },
   {
    "duration": 527,
    "start_time": "2023-07-11T22:29:42.892Z"
   },
   {
    "duration": 651,
    "start_time": "2023-07-11T22:29:43.422Z"
   },
   {
    "duration": 531,
    "start_time": "2023-07-11T22:29:44.075Z"
   },
   {
    "duration": 230,
    "start_time": "2023-07-11T22:29:44.608Z"
   },
   {
    "duration": 26,
    "start_time": "2023-07-11T22:29:44.839Z"
   },
   {
    "duration": 232,
    "start_time": "2023-07-11T22:29:44.867Z"
   },
   {
    "duration": 406,
    "start_time": "2023-07-11T22:29:45.100Z"
   },
   {
    "duration": 31,
    "start_time": "2023-07-11T22:29:45.508Z"
   },
   {
    "duration": 281,
    "start_time": "2023-07-11T22:29:45.551Z"
   },
   {
    "duration": 6372,
    "start_time": "2023-07-11T22:29:45.834Z"
   },
   {
    "duration": 28,
    "start_time": "2023-07-11T22:29:52.208Z"
   },
   {
    "duration": 218,
    "start_time": "2023-07-11T22:29:52.237Z"
   },
   {
    "duration": 343,
    "start_time": "2023-07-11T22:29:52.457Z"
   },
   {
    "duration": 29,
    "start_time": "2023-07-11T22:29:52.802Z"
   },
   {
    "duration": 219,
    "start_time": "2023-07-11T22:29:52.833Z"
   },
   {
    "duration": 49,
    "start_time": "2023-07-11T22:29:53.053Z"
   },
   {
    "duration": 15,
    "start_time": "2023-07-11T22:29:53.104Z"
   },
   {
    "duration": 131,
    "start_time": "2023-07-11T22:29:53.121Z"
   },
   {
    "duration": 39,
    "start_time": "2023-07-11T22:29:53.254Z"
   },
   {
    "duration": 4,
    "start_time": "2023-07-11T22:29:53.295Z"
   },
   {
    "duration": 17,
    "start_time": "2023-07-11T22:29:53.301Z"
   },
   {
    "duration": 18794,
    "start_time": "2023-07-11T22:29:53.320Z"
   },
   {
    "duration": 27,
    "start_time": "2023-07-11T22:30:12.116Z"
   },
   {
    "duration": 200,
    "start_time": "2023-07-11T22:30:12.152Z"
   },
   {
    "duration": 4,
    "start_time": "2023-07-11T22:30:12.353Z"
   },
   {
    "duration": 26,
    "start_time": "2023-07-11T22:30:12.359Z"
   },
   {
    "duration": 16,
    "start_time": "2023-07-11T22:30:12.387Z"
   },
   {
    "duration": 690,
    "start_time": "2023-07-11T22:30:12.404Z"
   },
   {
    "duration": 1233,
    "start_time": "2023-07-11T22:30:29.327Z"
   },
   {
    "duration": 858,
    "start_time": "2023-07-11T22:30:30.563Z"
   },
   {
    "duration": 18,
    "start_time": "2023-07-11T22:30:31.422Z"
   },
   {
    "duration": 215,
    "start_time": "2023-07-11T22:30:31.442Z"
   },
   {
    "duration": 357,
    "start_time": "2023-07-11T22:30:31.660Z"
   },
   {
    "duration": 513,
    "start_time": "2023-07-11T22:30:32.019Z"
   },
   {
    "duration": 599,
    "start_time": "2023-07-11T22:30:32.533Z"
   },
   {
    "duration": 495,
    "start_time": "2023-07-11T22:30:33.134Z"
   },
   {
    "duration": 349,
    "start_time": "2023-07-11T22:30:33.631Z"
   },
   {
    "duration": 24,
    "start_time": "2023-07-11T22:30:33.982Z"
   },
   {
    "duration": 351,
    "start_time": "2023-07-11T22:30:34.008Z"
   },
   {
    "duration": 389,
    "start_time": "2023-07-11T22:30:34.360Z"
   },
   {
    "duration": 38,
    "start_time": "2023-07-11T22:30:34.751Z"
   },
   {
    "duration": 359,
    "start_time": "2023-07-11T22:30:34.792Z"
   },
   {
    "duration": 6329,
    "start_time": "2023-07-11T22:30:35.153Z"
   },
   {
    "duration": 37,
    "start_time": "2023-07-11T22:30:41.484Z"
   },
   {
    "duration": 355,
    "start_time": "2023-07-11T22:30:41.523Z"
   },
   {
    "duration": 361,
    "start_time": "2023-07-11T22:30:41.880Z"
   },
   {
    "duration": 38,
    "start_time": "2023-07-11T22:30:42.243Z"
   },
   {
    "duration": 423,
    "start_time": "2023-07-11T22:30:42.283Z"
   },
   {
    "duration": 64,
    "start_time": "2023-07-11T22:30:42.707Z"
   },
   {
    "duration": 15,
    "start_time": "2023-07-11T22:30:42.773Z"
   },
   {
    "duration": 132,
    "start_time": "2023-07-11T22:30:42.790Z"
   },
   {
    "duration": 44,
    "start_time": "2023-07-11T22:30:42.924Z"
   },
   {
    "duration": 3,
    "start_time": "2023-07-11T22:30:42.969Z"
   },
   {
    "duration": 7,
    "start_time": "2023-07-11T22:30:42.973Z"
   },
   {
    "duration": 18994,
    "start_time": "2023-07-11T22:30:42.981Z"
   },
   {
    "duration": 37,
    "start_time": "2023-07-11T22:31:01.977Z"
   },
   {
    "duration": 383,
    "start_time": "2023-07-11T22:31:02.016Z"
   },
   {
    "duration": 5,
    "start_time": "2023-07-11T22:31:02.400Z"
   },
   {
    "duration": 56,
    "start_time": "2023-07-11T22:31:02.406Z"
   },
   {
    "duration": 18,
    "start_time": "2023-07-11T22:31:02.463Z"
   },
   {
    "duration": 554,
    "start_time": "2023-07-11T22:31:02.482Z"
   },
   {
    "duration": 7,
    "start_time": "2023-07-11T22:48:17.488Z"
   },
   {
    "duration": 95,
    "start_time": "2023-07-11T22:48:33.084Z"
   },
   {
    "duration": 8,
    "start_time": "2023-07-11T22:48:48.718Z"
   },
   {
    "duration": 100,
    "start_time": "2023-07-11T23:04:53.858Z"
   },
   {
    "duration": 133,
    "start_time": "2023-07-11T23:05:12.862Z"
   },
   {
    "duration": 75,
    "start_time": "2023-07-11T23:05:43.200Z"
   },
   {
    "duration": 78,
    "start_time": "2023-07-11T23:06:31.599Z"
   },
   {
    "duration": 13,
    "start_time": "2023-07-11T23:08:02.969Z"
   },
   {
    "duration": 85,
    "start_time": "2023-07-11T23:14:34.184Z"
   },
   {
    "duration": 85,
    "start_time": "2023-07-11T23:14:40.704Z"
   },
   {
    "duration": 118,
    "start_time": "2023-07-11T23:15:16.215Z"
   },
   {
    "duration": 126,
    "start_time": "2023-07-11T23:15:35.746Z"
   },
   {
    "duration": 128,
    "start_time": "2023-07-11T23:15:42.670Z"
   },
   {
    "duration": 111,
    "start_time": "2023-07-11T23:16:45.496Z"
   },
   {
    "duration": 111,
    "start_time": "2023-07-11T23:17:19.718Z"
   },
   {
    "duration": 60,
    "start_time": "2023-07-11T23:18:42.010Z"
   },
   {
    "duration": 18,
    "start_time": "2023-07-11T23:18:45.494Z"
   },
   {
    "duration": 519,
    "start_time": "2023-07-11T23:19:03.420Z"
   },
   {
    "duration": 530,
    "start_time": "2023-07-11T23:19:07.122Z"
   },
   {
    "duration": 103,
    "start_time": "2023-07-11T23:21:55.765Z"
   },
   {
    "duration": 108,
    "start_time": "2023-07-11T23:22:12.334Z"
   },
   {
    "duration": 99,
    "start_time": "2023-07-11T23:22:13.981Z"
   },
   {
    "duration": 63,
    "start_time": "2023-07-11T23:22:14.682Z"
   },
   {
    "duration": 98,
    "start_time": "2023-07-11T23:22:16.233Z"
   },
   {
    "duration": 63,
    "start_time": "2023-07-11T23:22:17.589Z"
   },
   {
    "duration": 553,
    "start_time": "2023-07-11T23:22:17.918Z"
   },
   {
    "duration": 98,
    "start_time": "2023-07-11T23:22:19.796Z"
   },
   {
    "duration": 103,
    "start_time": "2023-07-11T23:22:21.311Z"
   },
   {
    "duration": 101,
    "start_time": "2023-07-11T23:22:22.335Z"
   },
   {
    "duration": 101,
    "start_time": "2023-07-11T23:22:23.212Z"
   },
   {
    "duration": 100,
    "start_time": "2023-07-11T23:22:24.014Z"
   },
   {
    "duration": 59,
    "start_time": "2023-07-11T23:22:25.713Z"
   },
   {
    "duration": 519,
    "start_time": "2023-07-11T23:22:26.183Z"
   },
   {
    "duration": 212,
    "start_time": "2023-07-11T23:22:28.448Z"
   },
   {
    "duration": 41,
    "start_time": "2023-07-11T23:22:29.825Z"
   },
   {
    "duration": 538,
    "start_time": "2023-07-11T23:22:30.046Z"
   },
   {
    "duration": 1124,
    "start_time": "2023-07-11T23:23:15.736Z"
   },
   {
    "duration": 809,
    "start_time": "2023-07-11T23:23:16.862Z"
   },
   {
    "duration": 17,
    "start_time": "2023-07-11T23:23:17.672Z"
   },
   {
    "duration": 128,
    "start_time": "2023-07-11T23:23:17.690Z"
   },
   {
    "duration": 217,
    "start_time": "2023-07-11T23:23:17.821Z"
   },
   {
    "duration": 494,
    "start_time": "2023-07-11T23:23:18.039Z"
   },
   {
    "duration": 582,
    "start_time": "2023-07-11T23:23:18.534Z"
   },
   {
    "duration": 468,
    "start_time": "2023-07-11T23:23:19.118Z"
   },
   {
    "duration": 201,
    "start_time": "2023-07-11T23:23:19.588Z"
   },
   {
    "duration": 16,
    "start_time": "2023-07-11T23:23:19.791Z"
   },
   {
    "duration": 210,
    "start_time": "2023-07-11T23:23:19.808Z"
   },
   {
    "duration": 343,
    "start_time": "2023-07-11T23:23:20.020Z"
   },
   {
    "duration": 27,
    "start_time": "2023-07-11T23:23:20.365Z"
   },
   {
    "duration": 227,
    "start_time": "2023-07-11T23:23:20.395Z"
   },
   {
    "duration": 6056,
    "start_time": "2023-07-11T23:23:20.623Z"
   },
   {
    "duration": 27,
    "start_time": "2023-07-11T23:23:26.680Z"
   },
   {
    "duration": 207,
    "start_time": "2023-07-11T23:23:26.708Z"
   },
   {
    "duration": 327,
    "start_time": "2023-07-11T23:23:26.917Z"
   },
   {
    "duration": 29,
    "start_time": "2023-07-11T23:23:27.245Z"
   },
   {
    "duration": 211,
    "start_time": "2023-07-11T23:23:27.275Z"
   },
   {
    "duration": 47,
    "start_time": "2023-07-11T23:23:27.488Z"
   },
   {
    "duration": 26,
    "start_time": "2023-07-11T23:23:27.537Z"
   },
   {
    "duration": 124,
    "start_time": "2023-07-11T23:23:27.564Z"
   },
   {
    "duration": 35,
    "start_time": "2023-07-11T23:23:27.690Z"
   },
   {
    "duration": 3,
    "start_time": "2023-07-11T23:23:27.726Z"
   },
   {
    "duration": 7,
    "start_time": "2023-07-11T23:23:27.731Z"
   },
   {
    "duration": 18409,
    "start_time": "2023-07-11T23:23:27.752Z"
   },
   {
    "duration": 28,
    "start_time": "2023-07-11T23:23:46.163Z"
   },
   {
    "duration": 207,
    "start_time": "2023-07-11T23:23:46.193Z"
   },
   {
    "duration": 4,
    "start_time": "2023-07-11T23:23:46.402Z"
   },
   {
    "duration": 48,
    "start_time": "2023-07-11T23:23:46.407Z"
   },
   {
    "duration": 11,
    "start_time": "2023-07-11T23:23:46.456Z"
   },
   {
    "duration": 556,
    "start_time": "2023-07-11T23:23:46.468Z"
   },
   {
    "duration": 126,
    "start_time": "2023-07-11T23:23:47.026Z"
   },
   {
    "duration": 56,
    "start_time": "2023-07-11T23:23:47.153Z"
   },
   {
    "duration": 533,
    "start_time": "2023-07-11T23:23:47.210Z"
   },
   {
    "duration": 97,
    "start_time": "2023-07-11T23:25:01.778Z"
   },
   {
    "duration": 6,
    "start_time": "2023-07-11T23:25:05.117Z"
   },
   {
    "duration": 126,
    "start_time": "2023-07-11T23:27:05.330Z"
   },
   {
    "duration": 1205,
    "start_time": "2023-07-11T23:27:10.183Z"
   },
   {
    "duration": 872,
    "start_time": "2023-07-11T23:27:11.390Z"
   },
   {
    "duration": 17,
    "start_time": "2023-07-11T23:27:12.264Z"
   },
   {
    "duration": 143,
    "start_time": "2023-07-11T23:27:12.282Z"
   },
   {
    "duration": 217,
    "start_time": "2023-07-11T23:27:12.427Z"
   },
   {
    "duration": 524,
    "start_time": "2023-07-11T23:27:12.645Z"
   },
   {
    "duration": 646,
    "start_time": "2023-07-11T23:27:13.170Z"
   },
   {
    "duration": 515,
    "start_time": "2023-07-11T23:27:13.818Z"
   },
   {
    "duration": 211,
    "start_time": "2023-07-11T23:27:14.334Z"
   },
   {
    "duration": 19,
    "start_time": "2023-07-11T23:27:14.547Z"
   },
   {
    "duration": 215,
    "start_time": "2023-07-11T23:27:14.568Z"
   },
   {
    "duration": 374,
    "start_time": "2023-07-11T23:27:14.784Z"
   },
   {
    "duration": 29,
    "start_time": "2023-07-11T23:27:15.160Z"
   },
   {
    "duration": 232,
    "start_time": "2023-07-11T23:27:15.192Z"
   },
   {
    "duration": 6199,
    "start_time": "2023-07-11T23:27:15.426Z"
   },
   {
    "duration": 31,
    "start_time": "2023-07-11T23:27:21.626Z"
   },
   {
    "duration": 225,
    "start_time": "2023-07-11T23:27:21.659Z"
   },
   {
    "duration": 342,
    "start_time": "2023-07-11T23:27:21.885Z"
   },
   {
    "duration": 34,
    "start_time": "2023-07-11T23:27:22.229Z"
   },
   {
    "duration": 224,
    "start_time": "2023-07-11T23:27:22.265Z"
   },
   {
    "duration": 47,
    "start_time": "2023-07-11T23:27:22.491Z"
   },
   {
    "duration": 22,
    "start_time": "2023-07-11T23:27:22.540Z"
   },
   {
    "duration": 138,
    "start_time": "2023-07-11T23:27:22.563Z"
   },
   {
    "duration": 39,
    "start_time": "2023-07-11T23:27:22.703Z"
   },
   {
    "duration": 3,
    "start_time": "2023-07-11T23:27:22.751Z"
   },
   {
    "duration": 9,
    "start_time": "2023-07-11T23:27:22.755Z"
   },
   {
    "duration": 18707,
    "start_time": "2023-07-11T23:27:22.765Z"
   },
   {
    "duration": 30,
    "start_time": "2023-07-11T23:27:41.473Z"
   },
   {
    "duration": 217,
    "start_time": "2023-07-11T23:27:41.504Z"
   },
   {
    "duration": 4,
    "start_time": "2023-07-11T23:27:41.723Z"
   },
   {
    "duration": 51,
    "start_time": "2023-07-11T23:27:41.728Z"
   },
   {
    "duration": 18,
    "start_time": "2023-07-11T23:27:41.781Z"
   },
   {
    "duration": 577,
    "start_time": "2023-07-11T23:27:41.801Z"
   },
   {
    "duration": 135,
    "start_time": "2023-07-11T23:27:42.379Z"
   },
   {
    "duration": 66,
    "start_time": "2023-07-11T23:27:42.516Z"
   },
   {
    "duration": 541,
    "start_time": "2023-07-11T23:27:42.583Z"
   },
   {
    "duration": 104,
    "start_time": "2023-07-11T23:28:11.383Z"
   },
   {
    "duration": 1222,
    "start_time": "2023-07-11T23:28:15.634Z"
   },
   {
    "duration": 819,
    "start_time": "2023-07-11T23:28:16.858Z"
   },
   {
    "duration": 17,
    "start_time": "2023-07-11T23:28:17.678Z"
   },
   {
    "duration": 118,
    "start_time": "2023-07-11T23:28:17.697Z"
   },
   {
    "duration": 210,
    "start_time": "2023-07-11T23:28:17.817Z"
   },
   {
    "duration": 493,
    "start_time": "2023-07-11T23:28:18.028Z"
   },
   {
    "duration": 579,
    "start_time": "2023-07-11T23:28:18.522Z"
   },
   {
    "duration": 481,
    "start_time": "2023-07-11T23:28:19.102Z"
   },
   {
    "duration": 200,
    "start_time": "2023-07-11T23:28:19.584Z"
   },
   {
    "duration": 16,
    "start_time": "2023-07-11T23:28:19.786Z"
   },
   {
    "duration": 205,
    "start_time": "2023-07-11T23:28:19.804Z"
   },
   {
    "duration": 354,
    "start_time": "2023-07-11T23:28:20.010Z"
   },
   {
    "duration": 27,
    "start_time": "2023-07-11T23:28:20.366Z"
   },
   {
    "duration": 232,
    "start_time": "2023-07-11T23:28:20.397Z"
   },
   {
    "duration": 6096,
    "start_time": "2023-07-11T23:28:20.631Z"
   },
   {
    "duration": 37,
    "start_time": "2023-07-11T23:28:26.728Z"
   },
   {
    "duration": 219,
    "start_time": "2023-07-11T23:28:26.767Z"
   },
   {
    "duration": 359,
    "start_time": "2023-07-11T23:28:26.988Z"
   },
   {
    "duration": 33,
    "start_time": "2023-07-11T23:28:27.349Z"
   },
   {
    "duration": 248,
    "start_time": "2023-07-11T23:28:27.384Z"
   },
   {
    "duration": 55,
    "start_time": "2023-07-11T23:28:27.634Z"
   },
   {
    "duration": 17,
    "start_time": "2023-07-11T23:28:27.690Z"
   },
   {
    "duration": 145,
    "start_time": "2023-07-11T23:28:27.709Z"
   },
   {
    "duration": 38,
    "start_time": "2023-07-11T23:28:27.856Z"
   },
   {
    "duration": 3,
    "start_time": "2023-07-11T23:28:27.896Z"
   },
   {
    "duration": 6,
    "start_time": "2023-07-11T23:28:27.900Z"
   },
   {
    "duration": 18245,
    "start_time": "2023-07-11T23:28:27.908Z"
   },
   {
    "duration": 31,
    "start_time": "2023-07-11T23:28:46.155Z"
   },
   {
    "duration": 229,
    "start_time": "2023-07-11T23:28:46.187Z"
   },
   {
    "duration": 4,
    "start_time": "2023-07-11T23:28:46.418Z"
   },
   {
    "duration": 48,
    "start_time": "2023-07-11T23:28:46.423Z"
   },
   {
    "duration": 11,
    "start_time": "2023-07-11T23:28:46.473Z"
   },
   {
    "duration": 555,
    "start_time": "2023-07-11T23:28:46.486Z"
   },
   {
    "duration": 122,
    "start_time": "2023-07-11T23:28:47.043Z"
   },
   {
    "duration": 55,
    "start_time": "2023-07-11T23:28:47.167Z"
   },
   {
    "duration": 565,
    "start_time": "2023-07-11T23:28:47.224Z"
   },
   {
    "duration": 93,
    "start_time": "2023-07-11T23:29:47.357Z"
   },
   {
    "duration": 5,
    "start_time": "2023-07-11T23:29:49.988Z"
   },
   {
    "duration": 1161,
    "start_time": "2023-07-11T23:30:29.398Z"
   },
   {
    "duration": 837,
    "start_time": "2023-07-11T23:30:30.561Z"
   },
   {
    "duration": 17,
    "start_time": "2023-07-11T23:30:31.400Z"
   },
   {
    "duration": 140,
    "start_time": "2023-07-11T23:30:31.419Z"
   },
   {
    "duration": 223,
    "start_time": "2023-07-11T23:30:31.562Z"
   },
   {
    "duration": 489,
    "start_time": "2023-07-11T23:30:31.787Z"
   },
   {
    "duration": 579,
    "start_time": "2023-07-11T23:30:32.278Z"
   },
   {
    "duration": 454,
    "start_time": "2023-07-11T23:30:32.859Z"
   },
   {
    "duration": 203,
    "start_time": "2023-07-11T23:30:33.314Z"
   },
   {
    "duration": 16,
    "start_time": "2023-07-11T23:30:33.519Z"
   },
   {
    "duration": 203,
    "start_time": "2023-07-11T23:30:33.536Z"
   },
   {
    "duration": 336,
    "start_time": "2023-07-11T23:30:33.741Z"
   },
   {
    "duration": 28,
    "start_time": "2023-07-11T23:30:34.078Z"
   },
   {
    "duration": 208,
    "start_time": "2023-07-11T23:30:34.108Z"
   },
   {
    "duration": 6042,
    "start_time": "2023-07-11T23:30:34.318Z"
   },
   {
    "duration": 28,
    "start_time": "2023-07-11T23:30:40.362Z"
   },
   {
    "duration": 222,
    "start_time": "2023-07-11T23:30:40.391Z"
   },
   {
    "duration": 332,
    "start_time": "2023-07-11T23:30:40.615Z"
   },
   {
    "duration": 29,
    "start_time": "2023-07-11T23:30:40.949Z"
   },
   {
    "duration": 208,
    "start_time": "2023-07-11T23:30:40.979Z"
   },
   {
    "duration": 45,
    "start_time": "2023-07-11T23:30:41.189Z"
   },
   {
    "duration": 25,
    "start_time": "2023-07-11T23:30:41.236Z"
   },
   {
    "duration": 125,
    "start_time": "2023-07-11T23:30:41.263Z"
   },
   {
    "duration": 39,
    "start_time": "2023-07-11T23:30:41.390Z"
   },
   {
    "duration": 3,
    "start_time": "2023-07-11T23:30:41.431Z"
   },
   {
    "duration": 18,
    "start_time": "2023-07-11T23:30:41.435Z"
   },
   {
    "duration": 18050,
    "start_time": "2023-07-11T23:30:41.454Z"
   },
   {
    "duration": 27,
    "start_time": "2023-07-11T23:30:59.506Z"
   },
   {
    "duration": 203,
    "start_time": "2023-07-11T23:30:59.535Z"
   },
   {
    "duration": 4,
    "start_time": "2023-07-11T23:30:59.739Z"
   },
   {
    "duration": 38,
    "start_time": "2023-07-11T23:30:59.752Z"
   },
   {
    "duration": 10,
    "start_time": "2023-07-11T23:30:59.791Z"
   },
   {
    "duration": 539,
    "start_time": "2023-07-11T23:30:59.802Z"
   },
   {
    "duration": 134,
    "start_time": "2023-07-11T23:31:00.343Z"
   },
   {
    "duration": 54,
    "start_time": "2023-07-11T23:31:00.479Z"
   },
   {
    "duration": 559,
    "start_time": "2023-07-11T23:31:00.535Z"
   },
   {
    "duration": 322,
    "start_time": "2023-07-11T23:41:01.341Z"
   },
   {
    "duration": 5,
    "start_time": "2023-07-11T23:41:16.940Z"
   },
   {
    "duration": 6,
    "start_time": "2023-07-11T23:41:36.230Z"
   },
   {
    "duration": 341,
    "start_time": "2023-07-11T23:41:46.520Z"
   },
   {
    "duration": 8,
    "start_time": "2023-07-11T23:41:46.981Z"
   },
   {
    "duration": 1243,
    "start_time": "2023-07-11T23:41:52.149Z"
   },
   {
    "duration": 866,
    "start_time": "2023-07-11T23:41:53.394Z"
   },
   {
    "duration": 16,
    "start_time": "2023-07-11T23:41:54.262Z"
   },
   {
    "duration": 117,
    "start_time": "2023-07-11T23:41:54.280Z"
   },
   {
    "duration": 208,
    "start_time": "2023-07-11T23:41:54.399Z"
   },
   {
    "duration": 495,
    "start_time": "2023-07-11T23:41:54.608Z"
   },
   {
    "duration": 602,
    "start_time": "2023-07-11T23:41:55.105Z"
   },
   {
    "duration": 464,
    "start_time": "2023-07-11T23:41:55.709Z"
   },
   {
    "duration": 211,
    "start_time": "2023-07-11T23:41:56.175Z"
   },
   {
    "duration": 18,
    "start_time": "2023-07-11T23:41:56.388Z"
   },
   {
    "duration": 209,
    "start_time": "2023-07-11T23:41:56.408Z"
   },
   {
    "duration": 358,
    "start_time": "2023-07-11T23:41:56.619Z"
   },
   {
    "duration": 27,
    "start_time": "2023-07-11T23:41:56.979Z"
   },
   {
    "duration": 215,
    "start_time": "2023-07-11T23:41:57.009Z"
   },
   {
    "duration": 6027,
    "start_time": "2023-07-11T23:41:57.226Z"
   },
   {
    "duration": 28,
    "start_time": "2023-07-11T23:42:03.255Z"
   },
   {
    "duration": 219,
    "start_time": "2023-07-11T23:42:03.285Z"
   },
   {
    "duration": 332,
    "start_time": "2023-07-11T23:42:03.506Z"
   },
   {
    "duration": 34,
    "start_time": "2023-07-11T23:42:03.840Z"
   },
   {
    "duration": 207,
    "start_time": "2023-07-11T23:42:03.876Z"
   },
   {
    "duration": 47,
    "start_time": "2023-07-11T23:42:04.085Z"
   },
   {
    "duration": 27,
    "start_time": "2023-07-11T23:42:04.134Z"
   },
   {
    "duration": 111,
    "start_time": "2023-07-11T23:42:04.162Z"
   },
   {
    "duration": 38,
    "start_time": "2023-07-11T23:42:04.275Z"
   },
   {
    "duration": 2,
    "start_time": "2023-07-11T23:42:04.315Z"
   },
   {
    "duration": 8,
    "start_time": "2023-07-11T23:42:04.319Z"
   },
   {
    "duration": 18274,
    "start_time": "2023-07-11T23:42:04.329Z"
   },
   {
    "duration": 29,
    "start_time": "2023-07-11T23:42:22.605Z"
   },
   {
    "duration": 209,
    "start_time": "2023-07-11T23:42:22.636Z"
   },
   {
    "duration": 5,
    "start_time": "2023-07-11T23:42:22.852Z"
   },
   {
    "duration": 53,
    "start_time": "2023-07-11T23:42:22.858Z"
   },
   {
    "duration": 41,
    "start_time": "2023-07-11T23:42:22.913Z"
   },
   {
    "duration": 570,
    "start_time": "2023-07-11T23:42:22.956Z"
   },
   {
    "duration": 117,
    "start_time": "2023-07-11T23:42:23.527Z"
   },
   {
    "duration": 711,
    "start_time": "2023-07-11T23:42:23.651Z"
   },
   {
    "duration": 0,
    "start_time": "2023-07-11T23:42:24.364Z"
   },
   {
    "duration": 0,
    "start_time": "2023-07-11T23:42:24.365Z"
   },
   {
    "duration": 0,
    "start_time": "2023-07-11T23:42:24.366Z"
   },
   {
    "duration": 1179,
    "start_time": "2023-07-11T23:43:40.680Z"
   },
   {
    "duration": 791,
    "start_time": "2023-07-11T23:43:41.861Z"
   },
   {
    "duration": 16,
    "start_time": "2023-07-11T23:43:42.653Z"
   },
   {
    "duration": 126,
    "start_time": "2023-07-11T23:43:42.671Z"
   },
   {
    "duration": 221,
    "start_time": "2023-07-11T23:43:42.799Z"
   },
   {
    "duration": 472,
    "start_time": "2023-07-11T23:43:43.022Z"
   },
   {
    "duration": 595,
    "start_time": "2023-07-11T23:43:43.495Z"
   },
   {
    "duration": 511,
    "start_time": "2023-07-11T23:43:44.092Z"
   },
   {
    "duration": 232,
    "start_time": "2023-07-11T23:43:44.605Z"
   },
   {
    "duration": 21,
    "start_time": "2023-07-11T23:43:44.839Z"
   },
   {
    "duration": 233,
    "start_time": "2023-07-11T23:43:44.861Z"
   },
   {
    "duration": 398,
    "start_time": "2023-07-11T23:43:45.096Z"
   },
   {
    "duration": 31,
    "start_time": "2023-07-11T23:43:45.495Z"
   },
   {
    "duration": 229,
    "start_time": "2023-07-11T23:43:45.530Z"
   },
   {
    "duration": 6162,
    "start_time": "2023-07-11T23:43:45.760Z"
   },
   {
    "duration": 35,
    "start_time": "2023-07-11T23:43:51.924Z"
   },
   {
    "duration": 207,
    "start_time": "2023-07-11T23:43:51.961Z"
   },
   {
    "duration": 338,
    "start_time": "2023-07-11T23:43:52.169Z"
   },
   {
    "duration": 27,
    "start_time": "2023-07-11T23:43:52.509Z"
   },
   {
    "duration": 205,
    "start_time": "2023-07-11T23:43:52.538Z"
   },
   {
    "duration": 50,
    "start_time": "2023-07-11T23:43:52.751Z"
   },
   {
    "duration": 15,
    "start_time": "2023-07-11T23:43:52.803Z"
   },
   {
    "duration": 126,
    "start_time": "2023-07-11T23:43:52.819Z"
   },
   {
    "duration": 39,
    "start_time": "2023-07-11T23:43:52.946Z"
   },
   {
    "duration": 3,
    "start_time": "2023-07-11T23:43:52.986Z"
   },
   {
    "duration": 7,
    "start_time": "2023-07-11T23:43:52.991Z"
   },
   {
    "duration": 18214,
    "start_time": "2023-07-11T23:43:53.000Z"
   },
   {
    "duration": 28,
    "start_time": "2023-07-11T23:44:11.215Z"
   },
   {
    "duration": 206,
    "start_time": "2023-07-11T23:44:11.252Z"
   },
   {
    "duration": 5,
    "start_time": "2023-07-11T23:44:11.460Z"
   },
   {
    "duration": 43,
    "start_time": "2023-07-11T23:44:11.466Z"
   },
   {
    "duration": 11,
    "start_time": "2023-07-11T23:44:11.510Z"
   },
   {
    "duration": 562,
    "start_time": "2023-07-11T23:44:11.522Z"
   },
   {
    "duration": 122,
    "start_time": "2023-07-11T23:44:12.086Z"
   },
   {
    "duration": 462,
    "start_time": "2023-07-11T23:44:12.210Z"
   },
   {
    "duration": 0,
    "start_time": "2023-07-11T23:44:12.674Z"
   },
   {
    "duration": 0,
    "start_time": "2023-07-11T23:44:12.676Z"
   },
   {
    "duration": 0,
    "start_time": "2023-07-11T23:44:12.678Z"
   },
   {
    "duration": 432,
    "start_time": "2023-07-11T23:45:45.181Z"
   },
   {
    "duration": 353,
    "start_time": "2023-07-11T23:45:59.456Z"
   },
   {
    "duration": 1745,
    "start_time": "2023-07-11T23:46:37.237Z"
   },
   {
    "duration": 1189,
    "start_time": "2023-07-11T23:46:48.261Z"
   },
   {
    "duration": 788,
    "start_time": "2023-07-11T23:46:49.453Z"
   },
   {
    "duration": 21,
    "start_time": "2023-07-11T23:46:50.243Z"
   },
   {
    "duration": 119,
    "start_time": "2023-07-11T23:46:50.266Z"
   },
   {
    "duration": 225,
    "start_time": "2023-07-11T23:46:50.388Z"
   },
   {
    "duration": 481,
    "start_time": "2023-07-11T23:46:50.614Z"
   },
   {
    "duration": 585,
    "start_time": "2023-07-11T23:46:51.097Z"
   },
   {
    "duration": 464,
    "start_time": "2023-07-11T23:46:51.684Z"
   },
   {
    "duration": 202,
    "start_time": "2023-07-11T23:46:52.150Z"
   },
   {
    "duration": 16,
    "start_time": "2023-07-11T23:46:52.354Z"
   },
   {
    "duration": 217,
    "start_time": "2023-07-11T23:46:52.372Z"
   },
   {
    "duration": 350,
    "start_time": "2023-07-11T23:46:52.590Z"
   },
   {
    "duration": 37,
    "start_time": "2023-07-11T23:46:52.941Z"
   },
   {
    "duration": 206,
    "start_time": "2023-07-11T23:46:52.981Z"
   },
   {
    "duration": 6062,
    "start_time": "2023-07-11T23:46:53.188Z"
   },
   {
    "duration": 28,
    "start_time": "2023-07-11T23:46:59.251Z"
   },
   {
    "duration": 209,
    "start_time": "2023-07-11T23:46:59.281Z"
   },
   {
    "duration": 321,
    "start_time": "2023-07-11T23:46:59.492Z"
   },
   {
    "duration": 27,
    "start_time": "2023-07-11T23:46:59.814Z"
   },
   {
    "duration": 201,
    "start_time": "2023-07-11T23:46:59.852Z"
   },
   {
    "duration": 49,
    "start_time": "2023-07-11T23:47:00.054Z"
   },
   {
    "duration": 15,
    "start_time": "2023-07-11T23:47:00.105Z"
   },
   {
    "duration": 130,
    "start_time": "2023-07-11T23:47:00.121Z"
   },
   {
    "duration": 35,
    "start_time": "2023-07-11T23:47:00.253Z"
   },
   {
    "duration": 3,
    "start_time": "2023-07-11T23:47:00.290Z"
   },
   {
    "duration": 22,
    "start_time": "2023-07-11T23:47:00.294Z"
   },
   {
    "duration": 17753,
    "start_time": "2023-07-11T23:47:00.318Z"
   },
   {
    "duration": 28,
    "start_time": "2023-07-11T23:47:18.073Z"
   },
   {
    "duration": 225,
    "start_time": "2023-07-11T23:47:18.102Z"
   },
   {
    "duration": 4,
    "start_time": "2023-07-11T23:47:18.329Z"
   },
   {
    "duration": 46,
    "start_time": "2023-07-11T23:47:18.334Z"
   },
   {
    "duration": 10,
    "start_time": "2023-07-11T23:47:18.382Z"
   },
   {
    "duration": 564,
    "start_time": "2023-07-11T23:47:18.393Z"
   },
   {
    "duration": 117,
    "start_time": "2023-07-11T23:47:18.959Z"
   },
   {
    "duration": 1696,
    "start_time": "2023-07-11T23:47:19.078Z"
   },
   {
    "duration": 6,
    "start_time": "2023-07-11T23:47:20.776Z"
   },
   {
    "duration": 65,
    "start_time": "2023-07-11T23:47:20.784Z"
   },
   {
    "duration": 549,
    "start_time": "2023-07-11T23:47:20.851Z"
   },
   {
    "duration": 1146,
    "start_time": "2023-07-11T23:48:07.344Z"
   },
   {
    "duration": 792,
    "start_time": "2023-07-11T23:48:08.492Z"
   },
   {
    "duration": 16,
    "start_time": "2023-07-11T23:48:09.286Z"
   },
   {
    "duration": 127,
    "start_time": "2023-07-11T23:48:09.304Z"
   },
   {
    "duration": 198,
    "start_time": "2023-07-11T23:48:09.432Z"
   },
   {
    "duration": 475,
    "start_time": "2023-07-11T23:48:09.632Z"
   },
   {
    "duration": 580,
    "start_time": "2023-07-11T23:48:10.109Z"
   },
   {
    "duration": 458,
    "start_time": "2023-07-11T23:48:10.691Z"
   },
   {
    "duration": 208,
    "start_time": "2023-07-11T23:48:11.151Z"
   },
   {
    "duration": 17,
    "start_time": "2023-07-11T23:48:11.361Z"
   },
   {
    "duration": 210,
    "start_time": "2023-07-11T23:48:11.380Z"
   },
   {
    "duration": 341,
    "start_time": "2023-07-11T23:48:11.592Z"
   },
   {
    "duration": 35,
    "start_time": "2023-07-11T23:48:11.935Z"
   },
   {
    "duration": 207,
    "start_time": "2023-07-11T23:48:11.972Z"
   },
   {
    "duration": 6016,
    "start_time": "2023-07-11T23:48:12.181Z"
   },
   {
    "duration": 34,
    "start_time": "2023-07-11T23:48:18.198Z"
   },
   {
    "duration": 223,
    "start_time": "2023-07-11T23:48:18.234Z"
   },
   {
    "duration": 328,
    "start_time": "2023-07-11T23:48:18.459Z"
   },
   {
    "duration": 28,
    "start_time": "2023-07-11T23:48:18.788Z"
   },
   {
    "duration": 205,
    "start_time": "2023-07-11T23:48:18.817Z"
   },
   {
    "duration": 53,
    "start_time": "2023-07-11T23:48:19.023Z"
   },
   {
    "duration": 17,
    "start_time": "2023-07-11T23:48:19.078Z"
   },
   {
    "duration": 116,
    "start_time": "2023-07-11T23:48:19.096Z"
   },
   {
    "duration": 41,
    "start_time": "2023-07-11T23:48:19.214Z"
   },
   {
    "duration": 2,
    "start_time": "2023-07-11T23:48:19.257Z"
   },
   {
    "duration": 8,
    "start_time": "2023-07-11T23:48:19.261Z"
   },
   {
    "duration": 19055,
    "start_time": "2023-07-11T23:48:19.270Z"
   },
   {
    "duration": 34,
    "start_time": "2023-07-11T23:48:38.328Z"
   },
   {
    "duration": 208,
    "start_time": "2023-07-11T23:48:38.364Z"
   },
   {
    "duration": 4,
    "start_time": "2023-07-11T23:48:38.573Z"
   },
   {
    "duration": 46,
    "start_time": "2023-07-11T23:48:38.579Z"
   },
   {
    "duration": 12,
    "start_time": "2023-07-11T23:48:38.626Z"
   },
   {
    "duration": 547,
    "start_time": "2023-07-11T23:48:38.640Z"
   },
   {
    "duration": 117,
    "start_time": "2023-07-11T23:48:39.188Z"
   },
   {
    "duration": 1763,
    "start_time": "2023-07-11T23:48:39.307Z"
   },
   {
    "duration": 3,
    "start_time": "2023-07-11T23:48:41.071Z"
   },
   {
    "duration": 8,
    "start_time": "2023-07-11T23:48:41.075Z"
   },
   {
    "duration": 18,
    "start_time": "2023-07-11T23:48:56.793Z"
   },
   {
    "duration": 62,
    "start_time": "2023-07-11T23:49:44.515Z"
   },
   {
    "duration": 577,
    "start_time": "2023-07-11T23:49:47.980Z"
   },
   {
    "duration": 11,
    "start_time": "2023-07-11T23:50:18.980Z"
   },
   {
    "duration": 90,
    "start_time": "2023-07-11T23:50:46.622Z"
   },
   {
    "duration": 8,
    "start_time": "2023-07-11T23:50:52.853Z"
   },
   {
    "duration": 8,
    "start_time": "2023-07-11T23:51:01.300Z"
   },
   {
    "duration": 9,
    "start_time": "2023-07-11T23:51:10.424Z"
   },
   {
    "duration": 11,
    "start_time": "2023-07-11T23:51:37.886Z"
   },
   {
    "duration": 18,
    "start_time": "2023-07-11T23:51:53.655Z"
   },
   {
    "duration": 17,
    "start_time": "2023-07-11T23:52:05.462Z"
   },
   {
    "duration": 16,
    "start_time": "2023-07-11T23:52:26.169Z"
   },
   {
    "duration": 20,
    "start_time": "2023-07-11T23:52:35.313Z"
   },
   {
    "duration": 15,
    "start_time": "2023-07-11T23:52:40.620Z"
   },
   {
    "duration": 12,
    "start_time": "2023-07-11T23:52:48.176Z"
   },
   {
    "duration": 81,
    "start_time": "2023-07-11T23:52:52.878Z"
   },
   {
    "duration": 16,
    "start_time": "2023-07-11T23:53:01.426Z"
   },
   {
    "duration": 13,
    "start_time": "2023-07-11T23:53:14.226Z"
   },
   {
    "duration": 17,
    "start_time": "2023-07-11T23:53:20.990Z"
   },
   {
    "duration": 14,
    "start_time": "2023-07-11T23:53:26.877Z"
   },
   {
    "duration": 16,
    "start_time": "2023-07-11T23:53:29.839Z"
   },
   {
    "duration": 15,
    "start_time": "2023-07-11T23:53:39.824Z"
   },
   {
    "duration": 17,
    "start_time": "2023-07-11T23:54:10.019Z"
   },
   {
    "duration": 10,
    "start_time": "2023-07-11T23:54:51.639Z"
   },
   {
    "duration": 10,
    "start_time": "2023-07-11T23:54:59.743Z"
   },
   {
    "duration": 16,
    "start_time": "2023-07-11T23:55:03.115Z"
   },
   {
    "duration": 1128,
    "start_time": "2023-07-11T23:57:11.019Z"
   },
   {
    "duration": 774,
    "start_time": "2023-07-11T23:57:12.149Z"
   },
   {
    "duration": 17,
    "start_time": "2023-07-11T23:57:12.924Z"
   },
   {
    "duration": 126,
    "start_time": "2023-07-11T23:57:12.942Z"
   },
   {
    "duration": 215,
    "start_time": "2023-07-11T23:57:13.070Z"
   },
   {
    "duration": 469,
    "start_time": "2023-07-11T23:57:13.287Z"
   },
   {
    "duration": 574,
    "start_time": "2023-07-11T23:57:13.757Z"
   },
   {
    "duration": 469,
    "start_time": "2023-07-11T23:57:14.333Z"
   },
   {
    "duration": 206,
    "start_time": "2023-07-11T23:57:14.804Z"
   },
   {
    "duration": 17,
    "start_time": "2023-07-11T23:57:15.012Z"
   },
   {
    "duration": 216,
    "start_time": "2023-07-11T23:57:15.031Z"
   },
   {
    "duration": 369,
    "start_time": "2023-07-11T23:57:15.249Z"
   },
   {
    "duration": 33,
    "start_time": "2023-07-11T23:57:15.620Z"
   },
   {
    "duration": 200,
    "start_time": "2023-07-11T23:57:15.656Z"
   },
   {
    "duration": 6069,
    "start_time": "2023-07-11T23:57:15.857Z"
   },
   {
    "duration": 30,
    "start_time": "2023-07-11T23:57:21.928Z"
   },
   {
    "duration": 230,
    "start_time": "2023-07-11T23:57:21.960Z"
   },
   {
    "duration": 324,
    "start_time": "2023-07-11T23:57:22.192Z"
   },
   {
    "duration": 35,
    "start_time": "2023-07-11T23:57:22.518Z"
   },
   {
    "duration": 200,
    "start_time": "2023-07-11T23:57:22.555Z"
   },
   {
    "duration": 49,
    "start_time": "2023-07-11T23:57:22.757Z"
   },
   {
    "duration": 16,
    "start_time": "2023-07-11T23:57:22.808Z"
   },
   {
    "duration": 129,
    "start_time": "2023-07-11T23:57:22.826Z"
   },
   {
    "duration": 37,
    "start_time": "2023-07-11T23:57:22.956Z"
   },
   {
    "duration": 3,
    "start_time": "2023-07-11T23:57:22.995Z"
   },
   {
    "duration": 10,
    "start_time": "2023-07-11T23:57:22.999Z"
   },
   {
    "duration": 18741,
    "start_time": "2023-07-11T23:57:23.011Z"
   },
   {
    "duration": 30,
    "start_time": "2023-07-11T23:57:41.753Z"
   },
   {
    "duration": 227,
    "start_time": "2023-07-11T23:57:41.784Z"
   },
   {
    "duration": 4,
    "start_time": "2023-07-11T23:57:42.013Z"
   },
   {
    "duration": 54,
    "start_time": "2023-07-11T23:57:42.019Z"
   },
   {
    "duration": 11,
    "start_time": "2023-07-11T23:57:42.075Z"
   },
   {
    "duration": 576,
    "start_time": "2023-07-11T23:57:42.088Z"
   },
   {
    "duration": 140,
    "start_time": "2023-07-11T23:57:42.665Z"
   },
   {
    "duration": 1810,
    "start_time": "2023-07-11T23:57:42.806Z"
   },
   {
    "duration": 22,
    "start_time": "2023-07-11T23:57:44.618Z"
   },
   {
    "duration": 59,
    "start_time": "2023-07-11T23:57:44.652Z"
   },
   {
    "duration": 589,
    "start_time": "2023-07-11T23:57:44.713Z"
   },
   {
    "duration": 63,
    "start_time": "2023-07-12T00:00:29.726Z"
   },
   {
    "duration": 6,
    "start_time": "2023-07-12T00:01:16.657Z"
   },
   {
    "duration": 25,
    "start_time": "2023-07-12T00:01:21.934Z"
   },
   {
    "duration": 19,
    "start_time": "2023-07-12T00:02:50.818Z"
   },
   {
    "duration": 125,
    "start_time": "2023-07-12T00:03:05.479Z"
   },
   {
    "duration": 57,
    "start_time": "2023-07-12T00:03:13.145Z"
   },
   {
    "duration": 11,
    "start_time": "2023-07-12T00:03:35.807Z"
   },
   {
    "duration": 1297,
    "start_time": "2023-07-12T00:04:27.258Z"
   },
   {
    "duration": 779,
    "start_time": "2023-07-12T00:04:28.558Z"
   },
   {
    "duration": 19,
    "start_time": "2023-07-12T00:04:29.339Z"
   },
   {
    "duration": 116,
    "start_time": "2023-07-12T00:04:29.360Z"
   },
   {
    "duration": 201,
    "start_time": "2023-07-12T00:04:29.478Z"
   },
   {
    "duration": 489,
    "start_time": "2023-07-12T00:04:29.681Z"
   },
   {
    "duration": 615,
    "start_time": "2023-07-12T00:04:30.172Z"
   },
   {
    "duration": 502,
    "start_time": "2023-07-12T00:04:30.789Z"
   },
   {
    "duration": 207,
    "start_time": "2023-07-12T00:04:31.292Z"
   },
   {
    "duration": 19,
    "start_time": "2023-07-12T00:04:31.501Z"
   },
   {
    "duration": 230,
    "start_time": "2023-07-12T00:04:31.522Z"
   },
   {
    "duration": 340,
    "start_time": "2023-07-12T00:04:31.754Z"
   },
   {
    "duration": 27,
    "start_time": "2023-07-12T00:04:32.096Z"
   },
   {
    "duration": 210,
    "start_time": "2023-07-12T00:04:32.124Z"
   },
   {
    "duration": 5970,
    "start_time": "2023-07-12T00:04:32.335Z"
   },
   {
    "duration": 48,
    "start_time": "2023-07-12T00:04:38.306Z"
   },
   {
    "duration": 282,
    "start_time": "2023-07-12T00:04:38.356Z"
   },
   {
    "duration": 464,
    "start_time": "2023-07-12T00:04:38.640Z"
   },
   {
    "duration": 47,
    "start_time": "2023-07-12T00:04:39.106Z"
   },
   {
    "duration": 269,
    "start_time": "2023-07-12T00:04:39.155Z"
   },
   {
    "duration": 55,
    "start_time": "2023-07-12T00:04:39.426Z"
   },
   {
    "duration": 17,
    "start_time": "2023-07-12T00:04:39.483Z"
   },
   {
    "duration": 121,
    "start_time": "2023-07-12T00:04:39.502Z"
   },
   {
    "duration": 44,
    "start_time": "2023-07-12T00:04:39.625Z"
   },
   {
    "duration": 3,
    "start_time": "2023-07-12T00:04:39.671Z"
   },
   {
    "duration": 6,
    "start_time": "2023-07-12T00:04:39.676Z"
   },
   {
    "duration": 18426,
    "start_time": "2023-07-12T00:04:39.683Z"
   },
   {
    "duration": 28,
    "start_time": "2023-07-12T00:04:58.112Z"
   },
   {
    "duration": 218,
    "start_time": "2023-07-12T00:04:58.152Z"
   },
   {
    "duration": 4,
    "start_time": "2023-07-12T00:04:58.372Z"
   },
   {
    "duration": 45,
    "start_time": "2023-07-12T00:04:58.377Z"
   },
   {
    "duration": 33,
    "start_time": "2023-07-12T00:04:58.424Z"
   },
   {
    "duration": 529,
    "start_time": "2023-07-12T00:04:58.459Z"
   },
   {
    "duration": 147,
    "start_time": "2023-07-12T00:04:58.990Z"
   },
   {
    "duration": 1726,
    "start_time": "2023-07-12T00:04:59.139Z"
   },
   {
    "duration": 22,
    "start_time": "2023-07-12T00:05:00.867Z"
   },
   {
    "duration": 102,
    "start_time": "2023-07-12T00:05:00.891Z"
   },
   {
    "duration": 523,
    "start_time": "2023-07-12T00:05:00.995Z"
   },
   {
    "duration": 67,
    "start_time": "2023-07-12T00:05:01.520Z"
   },
   {
    "duration": 29,
    "start_time": "2023-07-12T00:05:01.589Z"
   },
   {
    "duration": 154,
    "start_time": "2023-07-12T00:05:01.620Z"
   },
   {
    "duration": 22,
    "start_time": "2023-07-12T00:20:31.982Z"
   },
   {
    "duration": 36,
    "start_time": "2023-07-12T00:20:37.034Z"
   },
   {
    "duration": 15,
    "start_time": "2023-07-12T00:20:54.608Z"
   },
   {
    "duration": 128,
    "start_time": "2023-07-12T00:24:03.556Z"
   },
   {
    "duration": 305,
    "start_time": "2023-07-12T00:24:10.014Z"
   },
   {
    "duration": 96,
    "start_time": "2023-07-12T00:24:13.695Z"
   },
   {
    "duration": 17,
    "start_time": "2023-07-12T00:24:51.356Z"
   },
   {
    "duration": 19,
    "start_time": "2023-07-12T00:29:06.626Z"
   },
   {
    "duration": 166,
    "start_time": "2023-07-12T00:29:19.881Z"
   },
   {
    "duration": 21,
    "start_time": "2023-07-12T00:29:23.989Z"
   },
   {
    "duration": 19,
    "start_time": "2023-07-12T00:29:31.902Z"
   },
   {
    "duration": 10,
    "start_time": "2023-07-12T00:30:49.735Z"
   },
   {
    "duration": 64,
    "start_time": "2023-07-12T00:30:56.419Z"
   },
   {
    "duration": 4,
    "start_time": "2023-07-12T00:31:00.989Z"
   },
   {
    "duration": 10,
    "start_time": "2023-07-12T00:31:18.300Z"
   },
   {
    "duration": 5,
    "start_time": "2023-07-12T00:31:34.960Z"
   },
   {
    "duration": 35,
    "start_time": "2023-07-12T00:38:34.201Z"
   },
   {
    "duration": 11,
    "start_time": "2023-07-12T00:38:44.503Z"
   },
   {
    "duration": 2930,
    "start_time": "2023-07-12T00:39:11.588Z"
   },
   {
    "duration": 156,
    "start_time": "2023-07-12T00:39:17.580Z"
   },
   {
    "duration": 19,
    "start_time": "2023-07-12T00:42:11.880Z"
   },
   {
    "duration": 19,
    "start_time": "2023-07-12T00:43:06.248Z"
   },
   {
    "duration": 9,
    "start_time": "2023-07-12T00:43:13.520Z"
   },
   {
    "duration": 3,
    "start_time": "2023-07-12T00:43:17.054Z"
   },
   {
    "duration": 2,
    "start_time": "2023-07-12T00:43:17.214Z"
   },
   {
    "duration": 14197,
    "start_time": "2023-07-12T00:43:17.358Z"
   },
   {
    "duration": 13755,
    "start_time": "2023-07-12T00:44:29.743Z"
   },
   {
    "duration": 27684,
    "start_time": "2023-07-12T00:45:11.539Z"
   },
   {
    "duration": 1965,
    "start_time": "2023-07-12T00:47:23.051Z"
   },
   {
    "duration": 1399,
    "start_time": "2023-07-12T00:47:25.019Z"
   },
   {
    "duration": 768,
    "start_time": "2023-07-12T00:47:26.419Z"
   },
   {
    "duration": 16,
    "start_time": "2023-07-12T00:47:27.188Z"
   },
   {
    "duration": 123,
    "start_time": "2023-07-12T00:47:27.206Z"
   },
   {
    "duration": 221,
    "start_time": "2023-07-12T00:47:27.331Z"
   },
   {
    "duration": 477,
    "start_time": "2023-07-12T00:47:27.553Z"
   },
   {
    "duration": 588,
    "start_time": "2023-07-12T00:47:28.032Z"
   },
   {
    "duration": 459,
    "start_time": "2023-07-12T00:47:28.622Z"
   },
   {
    "duration": 205,
    "start_time": "2023-07-12T00:47:29.083Z"
   },
   {
    "duration": 17,
    "start_time": "2023-07-12T00:47:29.289Z"
   },
   {
    "duration": 216,
    "start_time": "2023-07-12T00:47:29.308Z"
   },
   {
    "duration": 341,
    "start_time": "2023-07-12T00:47:29.525Z"
   },
   {
    "duration": 27,
    "start_time": "2023-07-12T00:47:29.868Z"
   },
   {
    "duration": 208,
    "start_time": "2023-07-12T00:47:29.897Z"
   },
   {
    "duration": 6011,
    "start_time": "2023-07-12T00:47:30.106Z"
   },
   {
    "duration": 36,
    "start_time": "2023-07-12T00:47:36.121Z"
   },
   {
    "duration": 202,
    "start_time": "2023-07-12T00:47:36.158Z"
   },
   {
    "duration": 343,
    "start_time": "2023-07-12T00:47:36.362Z"
   },
   {
    "duration": 27,
    "start_time": "2023-07-12T00:47:36.707Z"
   },
   {
    "duration": 208,
    "start_time": "2023-07-12T00:47:36.736Z"
   },
   {
    "duration": 52,
    "start_time": "2023-07-12T00:47:36.946Z"
   },
   {
    "duration": 15,
    "start_time": "2023-07-12T00:47:36.999Z"
   },
   {
    "duration": 127,
    "start_time": "2023-07-12T00:47:37.016Z"
   },
   {
    "duration": 37,
    "start_time": "2023-07-12T00:47:37.145Z"
   },
   {
    "duration": 3,
    "start_time": "2023-07-12T00:47:37.183Z"
   },
   {
    "duration": 6,
    "start_time": "2023-07-12T00:47:37.188Z"
   },
   {
    "duration": 18982,
    "start_time": "2023-07-12T00:47:37.196Z"
   },
   {
    "duration": 28,
    "start_time": "2023-07-12T00:47:56.179Z"
   },
   {
    "duration": 204,
    "start_time": "2023-07-12T00:47:56.209Z"
   },
   {
    "duration": 4,
    "start_time": "2023-07-12T00:47:56.414Z"
   },
   {
    "duration": 47,
    "start_time": "2023-07-12T00:47:56.419Z"
   },
   {
    "duration": 19,
    "start_time": "2023-07-12T00:47:56.468Z"
   },
   {
    "duration": 557,
    "start_time": "2023-07-12T00:47:56.488Z"
   },
   {
    "duration": 146,
    "start_time": "2023-07-12T00:47:57.047Z"
   },
   {
    "duration": 1785,
    "start_time": "2023-07-12T00:47:57.194Z"
   },
   {
    "duration": 21,
    "start_time": "2023-07-12T00:47:58.980Z"
   },
   {
    "duration": 69,
    "start_time": "2023-07-12T00:47:59.003Z"
   },
   {
    "duration": 527,
    "start_time": "2023-07-12T00:47:59.073Z"
   },
   {
    "duration": 65,
    "start_time": "2023-07-12T00:47:59.602Z"
   },
   {
    "duration": 17,
    "start_time": "2023-07-12T00:47:59.669Z"
   },
   {
    "duration": 105,
    "start_time": "2023-07-12T00:47:59.687Z"
   },
   {
    "duration": 90,
    "start_time": "2023-07-12T00:47:59.794Z"
   },
   {
    "duration": 2,
    "start_time": "2023-07-12T00:47:59.886Z"
   },
   {
    "duration": 6,
    "start_time": "2023-07-12T00:47:59.889Z"
   },
   {
    "duration": 29409,
    "start_time": "2023-07-12T00:47:59.897Z"
   },
   {
    "duration": 0,
    "start_time": "2023-07-12T00:48:29.308Z"
   },
   {
    "duration": 45232,
    "start_time": "2023-07-12T00:48:48.752Z"
   },
   {
    "duration": 3,
    "start_time": "2023-07-12T00:51:44.016Z"
   },
   {
    "duration": 4,
    "start_time": "2023-07-12T00:51:44.165Z"
   },
   {
    "duration": 29047,
    "start_time": "2023-07-12T00:51:44.311Z"
   },
   {
    "duration": 32836,
    "start_time": "2023-07-12T00:52:55.979Z"
   },
   {
    "duration": 13,
    "start_time": "2023-07-12T00:53:36.160Z"
   },
   {
    "duration": 7,
    "start_time": "2023-07-12T00:59:43.295Z"
   },
   {
    "duration": 16,
    "start_time": "2023-07-12T01:01:00.659Z"
   },
   {
    "duration": 3,
    "start_time": "2023-07-12T01:01:03.362Z"
   },
   {
    "duration": 2,
    "start_time": "2023-07-12T01:01:03.525Z"
   },
   {
    "duration": 628,
    "start_time": "2023-07-12T01:01:03.660Z"
   },
   {
    "duration": 12,
    "start_time": "2023-07-12T01:01:07.216Z"
   },
   {
    "duration": 34,
    "start_time": "2023-07-12T01:03:50.043Z"
   },
   {
    "duration": 127,
    "start_time": "2023-07-12T01:03:54.787Z"
   },
   {
    "duration": 3,
    "start_time": "2023-07-12T01:04:30.482Z"
   },
   {
    "duration": 10,
    "start_time": "2023-07-12T01:04:42.048Z"
   },
   {
    "duration": 4,
    "start_time": "2023-07-12T01:04:44.983Z"
   },
   {
    "duration": 5,
    "start_time": "2023-07-12T01:05:45.760Z"
   },
   {
    "duration": 86,
    "start_time": "2023-07-12T01:06:57.783Z"
   },
   {
    "duration": 77,
    "start_time": "2023-07-12T01:07:10.752Z"
   },
   {
    "duration": 15,
    "start_time": "2023-07-12T01:11:07.161Z"
   },
   {
    "duration": 3,
    "start_time": "2023-07-12T01:11:45.906Z"
   },
   {
    "duration": 51,
    "start_time": "2023-07-12T01:11:46.285Z"
   },
   {
    "duration": 23,
    "start_time": "2023-07-12T01:11:56.364Z"
   },
   {
    "duration": 17,
    "start_time": "2023-07-12T01:13:04.783Z"
   },
   {
    "duration": 25,
    "start_time": "2023-07-12T01:13:58.685Z"
   },
   {
    "duration": 640,
    "start_time": "2023-07-12T01:16:13.631Z"
   },
   {
    "duration": 129,
    "start_time": "2023-07-12T01:16:23.033Z"
   },
   {
    "duration": 1980,
    "start_time": "2023-07-12T01:17:14.464Z"
   },
   {
    "duration": 1387,
    "start_time": "2023-07-12T01:17:16.446Z"
   },
   {
    "duration": 797,
    "start_time": "2023-07-12T01:17:17.835Z"
   },
   {
    "duration": 23,
    "start_time": "2023-07-12T01:17:18.634Z"
   },
   {
    "duration": 112,
    "start_time": "2023-07-12T01:17:18.658Z"
   },
   {
    "duration": 206,
    "start_time": "2023-07-12T01:17:18.772Z"
   },
   {
    "duration": 471,
    "start_time": "2023-07-12T01:17:18.980Z"
   },
   {
    "duration": 541,
    "start_time": "2023-07-12T01:17:19.452Z"
   },
   {
    "duration": 470,
    "start_time": "2023-07-12T01:17:19.994Z"
   },
   {
    "duration": 214,
    "start_time": "2023-07-12T01:17:20.467Z"
   },
   {
    "duration": 16,
    "start_time": "2023-07-12T01:17:20.682Z"
   },
   {
    "duration": 206,
    "start_time": "2023-07-12T01:17:20.700Z"
   },
   {
    "duration": 337,
    "start_time": "2023-07-12T01:17:20.908Z"
   },
   {
    "duration": 29,
    "start_time": "2023-07-12T01:17:21.252Z"
   },
   {
    "duration": 215,
    "start_time": "2023-07-12T01:17:21.283Z"
   },
   {
    "duration": 6086,
    "start_time": "2023-07-12T01:17:21.500Z"
   },
   {
    "duration": 29,
    "start_time": "2023-07-12T01:17:27.588Z"
   },
   {
    "duration": 218,
    "start_time": "2023-07-12T01:17:27.619Z"
   },
   {
    "duration": 338,
    "start_time": "2023-07-12T01:17:27.839Z"
   },
   {
    "duration": 26,
    "start_time": "2023-07-12T01:17:28.179Z"
   },
   {
    "duration": 221,
    "start_time": "2023-07-12T01:17:28.207Z"
   },
   {
    "duration": 54,
    "start_time": "2023-07-12T01:17:28.429Z"
   },
   {
    "duration": 14,
    "start_time": "2023-07-12T01:17:28.485Z"
   },
   {
    "duration": 121,
    "start_time": "2023-07-12T01:17:28.500Z"
   },
   {
    "duration": 49,
    "start_time": "2023-07-12T01:17:28.622Z"
   },
   {
    "duration": 3,
    "start_time": "2023-07-12T01:17:28.673Z"
   },
   {
    "duration": 20,
    "start_time": "2023-07-12T01:17:28.678Z"
   },
   {
    "duration": 18515,
    "start_time": "2023-07-12T01:17:28.701Z"
   },
   {
    "duration": 37,
    "start_time": "2023-07-12T01:17:47.218Z"
   },
   {
    "duration": 208,
    "start_time": "2023-07-12T01:17:47.257Z"
   },
   {
    "duration": 4,
    "start_time": "2023-07-12T01:17:47.467Z"
   },
   {
    "duration": 43,
    "start_time": "2023-07-12T01:17:47.472Z"
   },
   {
    "duration": 28,
    "start_time": "2023-07-12T01:17:47.517Z"
   },
   {
    "duration": 576,
    "start_time": "2023-07-12T01:17:47.547Z"
   },
   {
    "duration": 158,
    "start_time": "2023-07-12T01:17:48.125Z"
   },
   {
    "duration": 1762,
    "start_time": "2023-07-12T01:17:48.285Z"
   },
   {
    "duration": 22,
    "start_time": "2023-07-12T01:17:50.048Z"
   },
   {
    "duration": 55,
    "start_time": "2023-07-12T01:17:50.071Z"
   },
   {
    "duration": 600,
    "start_time": "2023-07-12T01:17:50.128Z"
   },
   {
    "duration": 68,
    "start_time": "2023-07-12T01:17:50.730Z"
   },
   {
    "duration": 17,
    "start_time": "2023-07-12T01:17:50.800Z"
   },
   {
    "duration": 101,
    "start_time": "2023-07-12T01:17:50.819Z"
   },
   {
    "duration": 94,
    "start_time": "2023-07-12T01:17:50.922Z"
   },
   {
    "duration": 594,
    "start_time": "2023-07-12T01:17:51.018Z"
   },
   {
    "duration": 2,
    "start_time": "2023-07-12T01:17:51.614Z"
   },
   {
    "duration": 21,
    "start_time": "2023-07-12T01:17:51.618Z"
   },
   {
    "duration": 847,
    "start_time": "2023-07-12T01:17:51.641Z"
   },
   {
    "duration": 91,
    "start_time": "2023-07-12T01:17:52.490Z"
   },
   {
    "duration": 215,
    "start_time": "2023-07-12T01:17:52.583Z"
   },
   {
    "duration": 19,
    "start_time": "2023-07-12T01:18:28.901Z"
   },
   {
    "duration": 18,
    "start_time": "2023-07-12T01:18:44.500Z"
   },
   {
    "duration": 20,
    "start_time": "2023-07-12T01:18:57.798Z"
   },
   {
    "duration": 21,
    "start_time": "2023-07-12T01:19:13.142Z"
   },
   {
    "duration": 20,
    "start_time": "2023-07-12T01:20:08.507Z"
   },
   {
    "duration": 19,
    "start_time": "2023-07-12T01:20:17.957Z"
   },
   {
    "duration": 1872,
    "start_time": "2023-07-12T01:20:22.081Z"
   },
   {
    "duration": 1435,
    "start_time": "2023-07-12T01:20:23.956Z"
   },
   {
    "duration": 786,
    "start_time": "2023-07-12T01:20:25.393Z"
   },
   {
    "duration": 17,
    "start_time": "2023-07-12T01:20:26.181Z"
   },
   {
    "duration": 127,
    "start_time": "2023-07-12T01:20:26.200Z"
   },
   {
    "duration": 214,
    "start_time": "2023-07-12T01:20:26.328Z"
   },
   {
    "duration": 508,
    "start_time": "2023-07-12T01:20:26.544Z"
   },
   {
    "duration": 649,
    "start_time": "2023-07-12T01:20:27.054Z"
   },
   {
    "duration": 496,
    "start_time": "2023-07-12T01:20:27.705Z"
   },
   {
    "duration": 230,
    "start_time": "2023-07-12T01:20:28.203Z"
   },
   {
    "duration": 24,
    "start_time": "2023-07-12T01:20:28.435Z"
   },
   {
    "duration": 205,
    "start_time": "2023-07-12T01:20:28.461Z"
   },
   {
    "duration": 367,
    "start_time": "2023-07-12T01:20:28.668Z"
   },
   {
    "duration": 36,
    "start_time": "2023-07-12T01:20:29.040Z"
   },
   {
    "duration": 219,
    "start_time": "2023-07-12T01:20:29.077Z"
   },
   {
    "duration": 6395,
    "start_time": "2023-07-12T01:20:29.298Z"
   },
   {
    "duration": 29,
    "start_time": "2023-07-12T01:20:35.694Z"
   },
   {
    "duration": 208,
    "start_time": "2023-07-12T01:20:35.724Z"
   },
   {
    "duration": 342,
    "start_time": "2023-07-12T01:20:35.933Z"
   },
   {
    "duration": 28,
    "start_time": "2023-07-12T01:20:36.277Z"
   },
   {
    "duration": 208,
    "start_time": "2023-07-12T01:20:36.306Z"
   },
   {
    "duration": 61,
    "start_time": "2023-07-12T01:20:36.515Z"
   },
   {
    "duration": 15,
    "start_time": "2023-07-12T01:20:36.578Z"
   },
   {
    "duration": 121,
    "start_time": "2023-07-12T01:20:36.594Z"
   },
   {
    "duration": 47,
    "start_time": "2023-07-12T01:20:36.717Z"
   },
   {
    "duration": 3,
    "start_time": "2023-07-12T01:20:36.766Z"
   },
   {
    "duration": 12,
    "start_time": "2023-07-12T01:20:36.770Z"
   },
   {
    "duration": 18670,
    "start_time": "2023-07-12T01:20:36.783Z"
   },
   {
    "duration": 31,
    "start_time": "2023-07-12T01:20:55.455Z"
   },
   {
    "duration": 268,
    "start_time": "2023-07-12T01:20:55.487Z"
   },
   {
    "duration": 5,
    "start_time": "2023-07-12T01:20:55.756Z"
   },
   {
    "duration": 39,
    "start_time": "2023-07-12T01:20:55.762Z"
   },
   {
    "duration": 12,
    "start_time": "2023-07-12T01:20:55.803Z"
   },
   {
    "duration": 544,
    "start_time": "2023-07-12T01:20:55.817Z"
   },
   {
    "duration": 149,
    "start_time": "2023-07-12T01:20:56.363Z"
   },
   {
    "duration": 1792,
    "start_time": "2023-07-12T01:20:56.514Z"
   },
   {
    "duration": 23,
    "start_time": "2023-07-12T01:20:58.307Z"
   },
   {
    "duration": 69,
    "start_time": "2023-07-12T01:20:58.331Z"
   },
   {
    "duration": 547,
    "start_time": "2023-07-12T01:20:58.401Z"
   },
   {
    "duration": 61,
    "start_time": "2023-07-12T01:20:58.951Z"
   },
   {
    "duration": 18,
    "start_time": "2023-07-12T01:20:59.015Z"
   },
   {
    "duration": 86,
    "start_time": "2023-07-12T01:20:59.053Z"
   },
   {
    "duration": 96,
    "start_time": "2023-07-12T01:20:59.140Z"
   },
   {
    "duration": 21,
    "start_time": "2023-07-12T01:20:59.237Z"
   },
   {
    "duration": 14,
    "start_time": "2023-07-12T01:20:59.260Z"
   },
   {
    "duration": 573,
    "start_time": "2023-07-12T01:20:59.276Z"
   },
   {
    "duration": 2,
    "start_time": "2023-07-12T01:20:59.851Z"
   },
   {
    "duration": 14,
    "start_time": "2023-07-12T01:20:59.855Z"
   },
   {
    "duration": 882,
    "start_time": "2023-07-12T01:20:59.871Z"
   },
   {
    "duration": 80,
    "start_time": "2023-07-12T01:21:00.755Z"
   },
   {
    "duration": 266,
    "start_time": "2023-07-12T01:21:00.837Z"
   },
   {
    "duration": 18,
    "start_time": "2023-07-12T01:21:01.105Z"
   },
   {
    "duration": 101,
    "start_time": "2023-07-12T01:21:01.125Z"
   },
   {
    "duration": 223,
    "start_time": "2023-07-12T01:34:25.391Z"
   },
   {
    "duration": 17,
    "start_time": "2023-07-12T01:34:26.324Z"
   },
   {
    "duration": 18,
    "start_time": "2023-07-12T01:34:26.839Z"
   },
   {
    "duration": 212,
    "start_time": "2023-07-12T01:34:48.446Z"
   },
   {
    "duration": 18,
    "start_time": "2023-07-12T01:34:49.542Z"
   },
   {
    "duration": 19,
    "start_time": "2023-07-12T01:34:49.790Z"
   },
   {
    "duration": 256,
    "start_time": "2023-07-12T01:34:58.731Z"
   },
   {
    "duration": 217,
    "start_time": "2023-07-12T01:35:06.328Z"
   },
   {
    "duration": 18,
    "start_time": "2023-07-12T01:35:07.020Z"
   },
   {
    "duration": 19,
    "start_time": "2023-07-12T01:35:07.369Z"
   },
   {
    "duration": 77,
    "start_time": "2023-07-12T01:35:16.231Z"
   },
   {
    "duration": 10,
    "start_time": "2023-07-12T01:35:17.133Z"
   },
   {
    "duration": 11,
    "start_time": "2023-07-12T01:35:17.628Z"
   },
   {
    "duration": 553,
    "start_time": "2023-07-12T01:35:18.488Z"
   },
   {
    "duration": 2,
    "start_time": "2023-07-12T01:35:19.179Z"
   },
   {
    "duration": 3,
    "start_time": "2023-07-12T01:35:19.527Z"
   },
   {
    "duration": 850,
    "start_time": "2023-07-12T01:35:19.916Z"
   },
   {
    "duration": 71,
    "start_time": "2023-07-12T01:35:22.568Z"
   },
   {
    "duration": 236,
    "start_time": "2023-07-12T01:35:23.836Z"
   },
   {
    "duration": 16,
    "start_time": "2023-07-12T01:35:25.636Z"
   },
   {
    "duration": 19,
    "start_time": "2023-07-12T01:35:26.442Z"
   },
   {
    "duration": 76,
    "start_time": "2023-07-12T01:35:58.439Z"
   },
   {
    "duration": 10,
    "start_time": "2023-07-12T01:35:58.624Z"
   },
   {
    "duration": 11,
    "start_time": "2023-07-12T01:35:58.763Z"
   },
   {
    "duration": 512,
    "start_time": "2023-07-12T01:35:59.137Z"
   },
   {
    "duration": 3,
    "start_time": "2023-07-12T01:35:59.727Z"
   },
   {
    "duration": 3,
    "start_time": "2023-07-12T01:36:00.015Z"
   },
   {
    "duration": 844,
    "start_time": "2023-07-12T01:36:00.256Z"
   },
   {
    "duration": 89,
    "start_time": "2023-07-12T01:36:01.102Z"
   },
   {
    "duration": 47,
    "start_time": "2023-07-12T01:36:07.071Z"
   },
   {
    "duration": 82,
    "start_time": "2023-07-12T01:36:29.934Z"
   },
   {
    "duration": 2092,
    "start_time": "2023-07-12T01:37:07.581Z"
   },
   {
    "duration": 1501,
    "start_time": "2023-07-12T01:37:09.675Z"
   },
   {
    "duration": 856,
    "start_time": "2023-07-12T01:37:11.178Z"
   },
   {
    "duration": 26,
    "start_time": "2023-07-12T01:37:12.037Z"
   },
   {
    "duration": 118,
    "start_time": "2023-07-12T01:37:12.065Z"
   },
   {
    "duration": 217,
    "start_time": "2023-07-12T01:37:12.185Z"
   },
   {
    "duration": 511,
    "start_time": "2023-07-12T01:37:12.404Z"
   },
   {
    "duration": 608,
    "start_time": "2023-07-12T01:37:12.917Z"
   },
   {
    "duration": 492,
    "start_time": "2023-07-12T01:37:13.527Z"
   },
   {
    "duration": 218,
    "start_time": "2023-07-12T01:37:14.022Z"
   },
   {
    "duration": 21,
    "start_time": "2023-07-12T01:37:14.241Z"
   },
   {
    "duration": 279,
    "start_time": "2023-07-12T01:37:14.264Z"
   },
   {
    "duration": 373,
    "start_time": "2023-07-12T01:37:14.545Z"
   },
   {
    "duration": 36,
    "start_time": "2023-07-12T01:37:14.920Z"
   },
   {
    "duration": 217,
    "start_time": "2023-07-12T01:37:14.958Z"
   },
   {
    "duration": 6426,
    "start_time": "2023-07-12T01:37:15.176Z"
   },
   {
    "duration": 29,
    "start_time": "2023-07-12T01:37:21.603Z"
   },
   {
    "duration": 212,
    "start_time": "2023-07-12T01:37:21.634Z"
   },
   {
    "duration": 340,
    "start_time": "2023-07-12T01:37:21.848Z"
   },
   {
    "duration": 29,
    "start_time": "2023-07-12T01:37:22.189Z"
   },
   {
    "duration": 238,
    "start_time": "2023-07-12T01:37:22.220Z"
   },
   {
    "duration": 54,
    "start_time": "2023-07-12T01:37:22.460Z"
   },
   {
    "duration": 39,
    "start_time": "2023-07-12T01:37:22.516Z"
   },
   {
    "duration": 123,
    "start_time": "2023-07-12T01:37:22.557Z"
   },
   {
    "duration": 41,
    "start_time": "2023-07-12T01:37:22.681Z"
   },
   {
    "duration": 3,
    "start_time": "2023-07-12T01:37:22.724Z"
   },
   {
    "duration": 26,
    "start_time": "2023-07-12T01:37:22.729Z"
   },
   {
    "duration": 18613,
    "start_time": "2023-07-12T01:37:22.760Z"
   },
   {
    "duration": 30,
    "start_time": "2023-07-12T01:37:41.375Z"
   },
   {
    "duration": 268,
    "start_time": "2023-07-12T01:37:41.407Z"
   },
   {
    "duration": 5,
    "start_time": "2023-07-12T01:37:41.677Z"
   },
   {
    "duration": 95,
    "start_time": "2023-07-12T01:37:41.684Z"
   },
   {
    "duration": 29,
    "start_time": "2023-07-12T01:37:41.781Z"
   },
   {
    "duration": 614,
    "start_time": "2023-07-12T01:37:41.812Z"
   },
   {
    "duration": 162,
    "start_time": "2023-07-12T01:37:42.428Z"
   },
   {
    "duration": 1853,
    "start_time": "2023-07-12T01:37:42.592Z"
   },
   {
    "duration": 27,
    "start_time": "2023-07-12T01:37:44.447Z"
   },
   {
    "duration": 77,
    "start_time": "2023-07-12T01:37:44.476Z"
   },
   {
    "duration": 617,
    "start_time": "2023-07-12T01:37:44.555Z"
   },
   {
    "duration": 82,
    "start_time": "2023-07-12T01:37:45.174Z"
   },
   {
    "duration": 55,
    "start_time": "2023-07-12T01:37:45.258Z"
   },
   {
    "duration": 146,
    "start_time": "2023-07-12T01:37:45.315Z"
   },
   {
    "duration": 95,
    "start_time": "2023-07-12T01:37:45.463Z"
   },
   {
    "duration": 11,
    "start_time": "2023-07-12T01:37:45.559Z"
   },
   {
    "duration": 16,
    "start_time": "2023-07-12T01:37:45.572Z"
   },
   {
    "duration": 665,
    "start_time": "2023-07-12T01:37:45.590Z"
   },
   {
    "duration": 3,
    "start_time": "2023-07-12T01:37:46.257Z"
   },
   {
    "duration": 14,
    "start_time": "2023-07-12T01:37:46.262Z"
   },
   {
    "duration": 941,
    "start_time": "2023-07-12T01:37:46.278Z"
   },
   {
    "duration": 85,
    "start_time": "2023-07-12T01:37:47.221Z"
   },
   {
    "duration": 265,
    "start_time": "2023-07-12T01:37:47.308Z"
   },
   {
    "duration": 19,
    "start_time": "2023-07-12T01:37:47.575Z"
   },
   {
    "duration": 33,
    "start_time": "2023-07-12T01:37:47.596Z"
   },
   {
    "duration": 1978,
    "start_time": "2023-07-12T01:38:31.757Z"
   },
   {
    "duration": 1442,
    "start_time": "2023-07-12T01:38:33.737Z"
   },
   {
    "duration": 824,
    "start_time": "2023-07-12T01:38:35.181Z"
   },
   {
    "duration": 16,
    "start_time": "2023-07-12T01:38:36.007Z"
   },
   {
    "duration": 115,
    "start_time": "2023-07-12T01:38:36.025Z"
   },
   {
    "duration": 211,
    "start_time": "2023-07-12T01:38:36.142Z"
   },
   {
    "duration": 470,
    "start_time": "2023-07-12T01:38:36.354Z"
   },
   {
    "duration": 578,
    "start_time": "2023-07-12T01:38:36.826Z"
   },
   {
    "duration": 475,
    "start_time": "2023-07-12T01:38:37.406Z"
   },
   {
    "duration": 211,
    "start_time": "2023-07-12T01:38:37.883Z"
   },
   {
    "duration": 16,
    "start_time": "2023-07-12T01:38:38.096Z"
   },
   {
    "duration": 216,
    "start_time": "2023-07-12T01:38:38.114Z"
   },
   {
    "duration": 342,
    "start_time": "2023-07-12T01:38:38.332Z"
   },
   {
    "duration": 27,
    "start_time": "2023-07-12T01:38:38.677Z"
   },
   {
    "duration": 208,
    "start_time": "2023-07-12T01:38:38.706Z"
   },
   {
    "duration": 6035,
    "start_time": "2023-07-12T01:38:38.915Z"
   },
   {
    "duration": 30,
    "start_time": "2023-07-12T01:38:44.952Z"
   },
   {
    "duration": 219,
    "start_time": "2023-07-12T01:38:44.984Z"
   },
   {
    "duration": 362,
    "start_time": "2023-07-12T01:38:45.206Z"
   },
   {
    "duration": 27,
    "start_time": "2023-07-12T01:38:45.570Z"
   },
   {
    "duration": 212,
    "start_time": "2023-07-12T01:38:45.599Z"
   },
   {
    "duration": 61,
    "start_time": "2023-07-12T01:38:45.813Z"
   },
   {
    "duration": 15,
    "start_time": "2023-07-12T01:38:45.875Z"
   },
   {
    "duration": 117,
    "start_time": "2023-07-12T01:38:45.892Z"
   },
   {
    "duration": 43,
    "start_time": "2023-07-12T01:38:46.011Z"
   },
   {
    "duration": 3,
    "start_time": "2023-07-12T01:38:46.056Z"
   },
   {
    "duration": 4,
    "start_time": "2023-07-12T01:38:46.061Z"
   },
   {
    "duration": 18501,
    "start_time": "2023-07-12T01:38:46.066Z"
   },
   {
    "duration": 30,
    "start_time": "2023-07-12T01:39:04.569Z"
   },
   {
    "duration": 214,
    "start_time": "2023-07-12T01:39:04.600Z"
   },
   {
    "duration": 5,
    "start_time": "2023-07-12T01:39:04.816Z"
   },
   {
    "duration": 86,
    "start_time": "2023-07-12T01:39:04.823Z"
   },
   {
    "duration": 22,
    "start_time": "2023-07-12T01:39:04.911Z"
   },
   {
    "duration": 568,
    "start_time": "2023-07-12T01:39:04.935Z"
   },
   {
    "duration": 152,
    "start_time": "2023-07-12T01:39:05.505Z"
   },
   {
    "duration": 1761,
    "start_time": "2023-07-12T01:39:05.659Z"
   },
   {
    "duration": 30,
    "start_time": "2023-07-12T01:39:07.422Z"
   },
   {
    "duration": 54,
    "start_time": "2023-07-12T01:39:07.454Z"
   },
   {
    "duration": 545,
    "start_time": "2023-07-12T01:39:07.509Z"
   },
   {
    "duration": 64,
    "start_time": "2023-07-12T01:39:08.055Z"
   },
   {
    "duration": 31,
    "start_time": "2023-07-12T01:39:08.122Z"
   },
   {
    "duration": 97,
    "start_time": "2023-07-12T01:39:08.155Z"
   },
   {
    "duration": 102,
    "start_time": "2023-07-12T01:39:08.255Z"
   },
   {
    "duration": 10,
    "start_time": "2023-07-12T01:39:08.359Z"
   },
   {
    "duration": 19,
    "start_time": "2023-07-12T01:39:08.370Z"
   },
   {
    "duration": 586,
    "start_time": "2023-07-12T01:39:08.390Z"
   },
   {
    "duration": 3,
    "start_time": "2023-07-12T01:39:08.978Z"
   },
   {
    "duration": 6,
    "start_time": "2023-07-12T01:39:08.982Z"
   },
   {
    "duration": 827,
    "start_time": "2023-07-12T01:39:08.990Z"
   },
   {
    "duration": 90,
    "start_time": "2023-07-12T01:39:09.819Z"
   },
   {
    "duration": 226,
    "start_time": "2023-07-12T01:39:09.910Z"
   },
   {
    "duration": 19,
    "start_time": "2023-07-12T01:39:10.137Z"
   },
   {
    "duration": 27,
    "start_time": "2023-07-12T01:39:10.158Z"
   },
   {
    "duration": 4,
    "start_time": "2023-07-12T01:40:34.221Z"
   },
   {
    "duration": 1966,
    "start_time": "2023-07-12T01:42:36.361Z"
   },
   {
    "duration": 1612,
    "start_time": "2023-07-12T01:42:38.330Z"
   },
   {
    "duration": 869,
    "start_time": "2023-07-12T01:42:39.944Z"
   },
   {
    "duration": 17,
    "start_time": "2023-07-12T01:42:40.815Z"
   },
   {
    "duration": 125,
    "start_time": "2023-07-12T01:42:40.833Z"
   },
   {
    "duration": 217,
    "start_time": "2023-07-12T01:42:40.960Z"
   },
   {
    "duration": 503,
    "start_time": "2023-07-12T01:42:41.179Z"
   },
   {
    "duration": 603,
    "start_time": "2023-07-12T01:42:41.684Z"
   },
   {
    "duration": 482,
    "start_time": "2023-07-12T01:42:42.289Z"
   },
   {
    "duration": 208,
    "start_time": "2023-07-12T01:42:42.773Z"
   },
   {
    "duration": 16,
    "start_time": "2023-07-12T01:42:42.983Z"
   },
   {
    "duration": 211,
    "start_time": "2023-07-12T01:42:43.000Z"
   },
   {
    "duration": 350,
    "start_time": "2023-07-12T01:42:43.212Z"
   },
   {
    "duration": 27,
    "start_time": "2023-07-12T01:42:43.564Z"
   },
   {
    "duration": 231,
    "start_time": "2023-07-12T01:42:43.592Z"
   },
   {
    "duration": 6236,
    "start_time": "2023-07-12T01:42:43.824Z"
   },
   {
    "duration": 28,
    "start_time": "2023-07-12T01:42:50.062Z"
   },
   {
    "duration": 214,
    "start_time": "2023-07-12T01:42:50.091Z"
   },
   {
    "duration": 356,
    "start_time": "2023-07-12T01:42:50.307Z"
   },
   {
    "duration": 27,
    "start_time": "2023-07-12T01:42:50.665Z"
   },
   {
    "duration": 208,
    "start_time": "2023-07-12T01:42:50.694Z"
   },
   {
    "duration": 54,
    "start_time": "2023-07-12T01:42:50.903Z"
   },
   {
    "duration": 16,
    "start_time": "2023-07-12T01:42:50.959Z"
   },
   {
    "duration": 122,
    "start_time": "2023-07-12T01:42:50.977Z"
   },
   {
    "duration": 37,
    "start_time": "2023-07-12T01:42:51.101Z"
   },
   {
    "duration": 13,
    "start_time": "2023-07-12T01:42:51.139Z"
   },
   {
    "duration": 20,
    "start_time": "2023-07-12T01:42:51.154Z"
   },
   {
    "duration": 18898,
    "start_time": "2023-07-12T01:42:51.179Z"
   },
   {
    "duration": 27,
    "start_time": "2023-07-12T01:43:10.079Z"
   },
   {
    "duration": 225,
    "start_time": "2023-07-12T01:43:10.108Z"
   },
   {
    "duration": 4,
    "start_time": "2023-07-12T01:43:10.335Z"
   },
   {
    "duration": 50,
    "start_time": "2023-07-12T01:43:10.340Z"
   },
   {
    "duration": 10,
    "start_time": "2023-07-12T01:43:10.392Z"
   },
   {
    "duration": 558,
    "start_time": "2023-07-12T01:43:10.404Z"
   },
   {
    "duration": 145,
    "start_time": "2023-07-12T01:43:10.964Z"
   },
   {
    "duration": 1783,
    "start_time": "2023-07-12T01:43:11.110Z"
   },
   {
    "duration": 20,
    "start_time": "2023-07-12T01:43:12.895Z"
   },
   {
    "duration": 61,
    "start_time": "2023-07-12T01:43:12.917Z"
   },
   {
    "duration": 539,
    "start_time": "2023-07-12T01:43:12.980Z"
   },
   {
    "duration": 69,
    "start_time": "2023-07-12T01:43:13.520Z"
   },
   {
    "duration": 18,
    "start_time": "2023-07-12T01:43:13.591Z"
   },
   {
    "duration": 92,
    "start_time": "2023-07-12T01:43:13.611Z"
   },
   {
    "duration": 96,
    "start_time": "2023-07-12T01:43:13.705Z"
   },
   {
    "duration": 10,
    "start_time": "2023-07-12T01:43:13.803Z"
   },
   {
    "duration": 21,
    "start_time": "2023-07-12T01:43:13.814Z"
   },
   {
    "duration": 45,
    "start_time": "2023-07-12T01:43:13.836Z"
   },
   {
    "duration": 9140,
    "start_time": "2023-07-12T01:43:13.883Z"
   },
   {
    "duration": 0,
    "start_time": "2023-07-12T01:43:23.025Z"
   },
   {
    "duration": 0,
    "start_time": "2023-07-12T01:43:23.026Z"
   },
   {
    "duration": 0,
    "start_time": "2023-07-12T01:43:23.027Z"
   },
   {
    "duration": 0,
    "start_time": "2023-07-12T01:43:23.028Z"
   },
   {
    "duration": 0,
    "start_time": "2023-07-12T01:43:23.028Z"
   },
   {
    "duration": 0,
    "start_time": "2023-07-12T01:43:23.030Z"
   },
   {
    "duration": 0,
    "start_time": "2023-07-12T01:43:23.030Z"
   },
   {
    "duration": 0,
    "start_time": "2023-07-12T01:43:23.031Z"
   },
   {
    "duration": 303,
    "start_time": "2023-07-12T01:45:59.953Z"
   },
   {
    "duration": 287,
    "start_time": "2023-07-12T01:46:18.970Z"
   },
   {
    "duration": 288,
    "start_time": "2023-07-12T01:46:52.657Z"
   },
   {
    "duration": 16,
    "start_time": "2023-07-12T01:47:08.149Z"
   },
   {
    "duration": 1957,
    "start_time": "2023-07-12T01:47:15.139Z"
   },
   {
    "duration": 1402,
    "start_time": "2023-07-12T01:47:17.098Z"
   },
   {
    "duration": 804,
    "start_time": "2023-07-12T01:47:18.502Z"
   },
   {
    "duration": 19,
    "start_time": "2023-07-12T01:47:19.307Z"
   },
   {
    "duration": 126,
    "start_time": "2023-07-12T01:47:19.329Z"
   },
   {
    "duration": 210,
    "start_time": "2023-07-12T01:47:19.457Z"
   },
   {
    "duration": 473,
    "start_time": "2023-07-12T01:47:19.668Z"
   },
   {
    "duration": 599,
    "start_time": "2023-07-12T01:47:20.143Z"
   },
   {
    "duration": 471,
    "start_time": "2023-07-12T01:47:20.744Z"
   },
   {
    "duration": 210,
    "start_time": "2023-07-12T01:47:21.216Z"
   },
   {
    "duration": 17,
    "start_time": "2023-07-12T01:47:21.427Z"
   },
   {
    "duration": 214,
    "start_time": "2023-07-12T01:47:21.453Z"
   },
   {
    "duration": 337,
    "start_time": "2023-07-12T01:47:21.669Z"
   },
   {
    "duration": 27,
    "start_time": "2023-07-12T01:47:22.009Z"
   },
   {
    "duration": 211,
    "start_time": "2023-07-12T01:47:22.038Z"
   },
   {
    "duration": 6048,
    "start_time": "2023-07-12T01:47:22.250Z"
   },
   {
    "duration": 29,
    "start_time": "2023-07-12T01:47:28.299Z"
   },
   {
    "duration": 217,
    "start_time": "2023-07-12T01:47:28.329Z"
   },
   {
    "duration": 347,
    "start_time": "2023-07-12T01:47:28.548Z"
   },
   {
    "duration": 27,
    "start_time": "2023-07-12T01:47:28.896Z"
   },
   {
    "duration": 209,
    "start_time": "2023-07-12T01:47:28.925Z"
   },
   {
    "duration": 53,
    "start_time": "2023-07-12T01:47:29.136Z"
   },
   {
    "duration": 15,
    "start_time": "2023-07-12T01:47:29.190Z"
   },
   {
    "duration": 128,
    "start_time": "2023-07-12T01:47:29.206Z"
   },
   {
    "duration": 41,
    "start_time": "2023-07-12T01:47:29.336Z"
   },
   {
    "duration": 3,
    "start_time": "2023-07-12T01:47:29.379Z"
   },
   {
    "duration": 5,
    "start_time": "2023-07-12T01:47:29.384Z"
   },
   {
    "duration": 18230,
    "start_time": "2023-07-12T01:47:29.391Z"
   },
   {
    "duration": 35,
    "start_time": "2023-07-12T01:47:47.623Z"
   },
   {
    "duration": 202,
    "start_time": "2023-07-12T01:47:47.660Z"
   },
   {
    "duration": 4,
    "start_time": "2023-07-12T01:47:47.864Z"
   },
   {
    "duration": 45,
    "start_time": "2023-07-12T01:47:47.869Z"
   },
   {
    "duration": 13,
    "start_time": "2023-07-12T01:47:47.916Z"
   },
   {
    "duration": 586,
    "start_time": "2023-07-12T01:47:47.930Z"
   },
   {
    "duration": 154,
    "start_time": "2023-07-12T01:47:48.517Z"
   },
   {
    "duration": 1731,
    "start_time": "2023-07-12T01:47:48.673Z"
   },
   {
    "duration": 26,
    "start_time": "2023-07-12T01:47:50.409Z"
   },
   {
    "duration": 72,
    "start_time": "2023-07-12T01:47:50.437Z"
   },
   {
    "duration": 522,
    "start_time": "2023-07-12T01:47:50.511Z"
   },
   {
    "duration": 69,
    "start_time": "2023-07-12T01:47:51.035Z"
   },
   {
    "duration": 16,
    "start_time": "2023-07-12T01:47:51.108Z"
   },
   {
    "duration": 98,
    "start_time": "2023-07-12T01:47:51.126Z"
   },
   {
    "duration": 94,
    "start_time": "2023-07-12T01:47:51.226Z"
   },
   {
    "duration": 11,
    "start_time": "2023-07-12T01:47:51.322Z"
   },
   {
    "duration": 27,
    "start_time": "2023-07-12T01:47:51.335Z"
   },
   {
    "duration": 45,
    "start_time": "2023-07-12T01:47:51.364Z"
   },
   {
    "duration": 285,
    "start_time": "2023-07-12T01:47:51.411Z"
   },
   {
    "duration": 112,
    "start_time": "2023-07-12T01:47:51.698Z"
   },
   {
    "duration": 0,
    "start_time": "2023-07-12T01:47:51.812Z"
   },
   {
    "duration": 0,
    "start_time": "2023-07-12T01:47:51.814Z"
   },
   {
    "duration": 0,
    "start_time": "2023-07-12T01:47:51.815Z"
   },
   {
    "duration": 0,
    "start_time": "2023-07-12T01:47:51.817Z"
   },
   {
    "duration": 0,
    "start_time": "2023-07-12T01:47:51.818Z"
   },
   {
    "duration": 0,
    "start_time": "2023-07-12T01:47:51.820Z"
   },
   {
    "duration": 0,
    "start_time": "2023-07-12T01:47:51.821Z"
   },
   {
    "duration": 4,
    "start_time": "2023-07-12T01:48:04.568Z"
   },
   {
    "duration": 2843,
    "start_time": "2023-07-12T01:48:25.096Z"
   },
   {
    "duration": 11,
    "start_time": "2023-07-12T01:48:30.939Z"
   },
   {
    "duration": 15,
    "start_time": "2023-07-12T01:50:02.082Z"
   },
   {
    "duration": 15,
    "start_time": "2023-07-12T01:52:00.705Z"
   },
   {
    "duration": 4,
    "start_time": "2023-07-12T01:53:11.571Z"
   },
   {
    "duration": 91,
    "start_time": "2023-07-12T01:53:38.938Z"
   },
   {
    "duration": 12,
    "start_time": "2023-07-12T01:53:39.432Z"
   },
   {
    "duration": 11,
    "start_time": "2023-07-12T01:53:39.968Z"
   },
   {
    "duration": 33,
    "start_time": "2023-07-12T01:53:40.395Z"
   },
   {
    "duration": 19,
    "start_time": "2023-07-12T01:53:41.422Z"
   },
   {
    "duration": 3,
    "start_time": "2023-07-12T01:53:56.783Z"
   },
   {
    "duration": 16,
    "start_time": "2023-07-12T01:53:57.214Z"
   },
   {
    "duration": 163,
    "start_time": "2023-07-12T01:54:04.184Z"
   },
   {
    "duration": 14,
    "start_time": "2023-07-12T01:54:10.082Z"
   },
   {
    "duration": 106,
    "start_time": "2023-07-12T01:54:29.005Z"
   },
   {
    "duration": 11,
    "start_time": "2023-07-12T01:54:29.172Z"
   },
   {
    "duration": 11,
    "start_time": "2023-07-12T01:54:29.336Z"
   },
   {
    "duration": 26,
    "start_time": "2023-07-12T01:54:29.516Z"
   },
   {
    "duration": 3,
    "start_time": "2023-07-12T01:54:30.308Z"
   },
   {
    "duration": 180,
    "start_time": "2023-07-12T01:54:30.846Z"
   },
   {
    "duration": 19,
    "start_time": "2023-07-12T01:54:31.546Z"
   },
   {
    "duration": 50,
    "start_time": "2023-07-12T01:54:41.953Z"
   },
   {
    "duration": 143,
    "start_time": "2023-07-12T01:55:03.356Z"
   },
   {
    "duration": 48,
    "start_time": "2023-07-12T01:55:07.795Z"
   },
   {
    "duration": 719,
    "start_time": "2023-07-12T01:55:17.796Z"
   },
   {
    "duration": 1988,
    "start_time": "2023-07-12T01:55:38.148Z"
   },
   {
    "duration": 1483,
    "start_time": "2023-07-12T01:55:40.138Z"
   },
   {
    "duration": 814,
    "start_time": "2023-07-12T01:55:41.623Z"
   },
   {
    "duration": 19,
    "start_time": "2023-07-12T01:55:42.439Z"
   },
   {
    "duration": 131,
    "start_time": "2023-07-12T01:55:42.460Z"
   },
   {
    "duration": 215,
    "start_time": "2023-07-12T01:55:42.593Z"
   },
   {
    "duration": 474,
    "start_time": "2023-07-12T01:55:42.809Z"
   },
   {
    "duration": 601,
    "start_time": "2023-07-12T01:55:43.285Z"
   },
   {
    "duration": 500,
    "start_time": "2023-07-12T01:55:43.888Z"
   },
   {
    "duration": 225,
    "start_time": "2023-07-12T01:55:44.390Z"
   },
   {
    "duration": 18,
    "start_time": "2023-07-12T01:55:44.617Z"
   },
   {
    "duration": 229,
    "start_time": "2023-07-12T01:55:44.637Z"
   },
   {
    "duration": 381,
    "start_time": "2023-07-12T01:55:44.868Z"
   },
   {
    "duration": 33,
    "start_time": "2023-07-12T01:55:45.253Z"
   },
   {
    "duration": 236,
    "start_time": "2023-07-12T01:55:45.288Z"
   },
   {
    "duration": 6138,
    "start_time": "2023-07-12T01:55:45.526Z"
   },
   {
    "duration": 29,
    "start_time": "2023-07-12T01:55:51.665Z"
   },
   {
    "duration": 208,
    "start_time": "2023-07-12T01:55:51.695Z"
   },
   {
    "duration": 330,
    "start_time": "2023-07-12T01:55:51.905Z"
   },
   {
    "duration": 34,
    "start_time": "2023-07-12T01:55:52.237Z"
   },
   {
    "duration": 209,
    "start_time": "2023-07-12T01:55:52.273Z"
   },
   {
    "duration": 49,
    "start_time": "2023-07-12T01:55:52.483Z"
   },
   {
    "duration": 26,
    "start_time": "2023-07-12T01:55:52.534Z"
   },
   {
    "duration": 117,
    "start_time": "2023-07-12T01:55:52.561Z"
   },
   {
    "duration": 36,
    "start_time": "2023-07-12T01:55:52.680Z"
   },
   {
    "duration": 3,
    "start_time": "2023-07-12T01:55:52.718Z"
   },
   {
    "duration": 12,
    "start_time": "2023-07-12T01:55:52.722Z"
   },
   {
    "duration": 1937,
    "start_time": "2023-07-12T01:56:19.582Z"
   },
   {
    "duration": 1409,
    "start_time": "2023-07-12T01:56:21.521Z"
   },
   {
    "duration": 781,
    "start_time": "2023-07-12T01:56:22.932Z"
   },
   {
    "duration": 17,
    "start_time": "2023-07-12T01:56:23.714Z"
   },
   {
    "duration": 122,
    "start_time": "2023-07-12T01:56:23.734Z"
   },
   {
    "duration": 206,
    "start_time": "2023-07-12T01:56:23.857Z"
   },
   {
    "duration": 479,
    "start_time": "2023-07-12T01:56:24.064Z"
   },
   {
    "duration": 601,
    "start_time": "2023-07-12T01:56:24.545Z"
   },
   {
    "duration": 469,
    "start_time": "2023-07-12T01:56:25.148Z"
   },
   {
    "duration": 207,
    "start_time": "2023-07-12T01:56:25.618Z"
   },
   {
    "duration": 26,
    "start_time": "2023-07-12T01:56:25.826Z"
   },
   {
    "duration": 222,
    "start_time": "2023-07-12T01:56:25.853Z"
   },
   {
    "duration": 343,
    "start_time": "2023-07-12T01:56:26.077Z"
   },
   {
    "duration": 31,
    "start_time": "2023-07-12T01:56:26.423Z"
   },
   {
    "duration": 200,
    "start_time": "2023-07-12T01:56:26.456Z"
   },
   {
    "duration": 6117,
    "start_time": "2023-07-12T01:56:26.657Z"
   },
   {
    "duration": 27,
    "start_time": "2023-07-12T01:56:32.776Z"
   },
   {
    "duration": 206,
    "start_time": "2023-07-12T01:56:32.805Z"
   },
   {
    "duration": 340,
    "start_time": "2023-07-12T01:56:33.012Z"
   },
   {
    "duration": 28,
    "start_time": "2023-07-12T01:56:33.353Z"
   },
   {
    "duration": 214,
    "start_time": "2023-07-12T01:56:33.383Z"
   },
   {
    "duration": 54,
    "start_time": "2023-07-12T01:56:33.598Z"
   },
   {
    "duration": 15,
    "start_time": "2023-07-12T01:56:33.653Z"
   },
   {
    "duration": 121,
    "start_time": "2023-07-12T01:56:33.669Z"
   },
   {
    "duration": 34,
    "start_time": "2023-07-12T01:56:33.792Z"
   },
   {
    "duration": 3,
    "start_time": "2023-07-12T01:56:33.827Z"
   },
   {
    "duration": 19,
    "start_time": "2023-07-12T01:56:33.832Z"
   },
   {
    "duration": 18491,
    "start_time": "2023-07-12T01:56:33.853Z"
   },
   {
    "duration": 29,
    "start_time": "2023-07-12T01:56:52.346Z"
   },
   {
    "duration": 207,
    "start_time": "2023-07-12T01:56:52.376Z"
   },
   {
    "duration": 4,
    "start_time": "2023-07-12T01:56:52.584Z"
   },
   {
    "duration": 44,
    "start_time": "2023-07-12T01:56:52.590Z"
   },
   {
    "duration": 18,
    "start_time": "2023-07-12T01:56:52.635Z"
   },
   {
    "duration": 572,
    "start_time": "2023-07-12T01:56:52.655Z"
   },
   {
    "duration": 155,
    "start_time": "2023-07-12T01:56:53.228Z"
   },
   {
    "duration": 1781,
    "start_time": "2023-07-12T01:56:53.384Z"
   },
   {
    "duration": 22,
    "start_time": "2023-07-12T01:56:55.167Z"
   },
   {
    "duration": 73,
    "start_time": "2023-07-12T01:56:55.190Z"
   },
   {
    "duration": 585,
    "start_time": "2023-07-12T01:56:55.266Z"
   },
   {
    "duration": 64,
    "start_time": "2023-07-12T01:56:55.852Z"
   },
   {
    "duration": 34,
    "start_time": "2023-07-12T01:56:55.919Z"
   },
   {
    "duration": 87,
    "start_time": "2023-07-12T01:56:55.954Z"
   },
   {
    "duration": 86,
    "start_time": "2023-07-12T01:56:56.051Z"
   },
   {
    "duration": 21,
    "start_time": "2023-07-12T01:56:56.139Z"
   },
   {
    "duration": 12,
    "start_time": "2023-07-12T01:56:56.162Z"
   },
   {
    "duration": 35,
    "start_time": "2023-07-12T01:56:56.176Z"
   },
   {
    "duration": 743,
    "start_time": "2023-07-12T01:56:56.212Z"
   },
   {
    "duration": 2,
    "start_time": "2023-07-12T01:56:56.957Z"
   },
   {
    "duration": 6,
    "start_time": "2023-07-12T01:56:56.961Z"
   },
   {
    "duration": 634,
    "start_time": "2023-07-12T01:56:56.968Z"
   },
   {
    "duration": 66,
    "start_time": "2023-07-12T01:56:57.604Z"
   },
   {
    "duration": 233,
    "start_time": "2023-07-12T01:56:57.672Z"
   },
   {
    "duration": 17,
    "start_time": "2023-07-12T01:56:57.906Z"
   },
   {
    "duration": 30,
    "start_time": "2023-07-12T01:56:57.925Z"
   },
   {
    "duration": 19,
    "start_time": "2023-07-12T01:58:31.729Z"
   },
   {
    "duration": 77,
    "start_time": "2023-07-12T02:00:35.135Z"
   },
   {
    "duration": 34,
    "start_time": "2023-07-12T02:00:45.217Z"
   },
   {
    "duration": 1925,
    "start_time": "2023-07-12T02:01:02.991Z"
   },
   {
    "duration": 1417,
    "start_time": "2023-07-12T02:01:04.918Z"
   },
   {
    "duration": 791,
    "start_time": "2023-07-12T02:01:06.336Z"
   },
   {
    "duration": 24,
    "start_time": "2023-07-12T02:01:07.129Z"
   },
   {
    "duration": 108,
    "start_time": "2023-07-12T02:01:07.155Z"
   },
   {
    "duration": 207,
    "start_time": "2023-07-12T02:01:07.264Z"
   },
   {
    "duration": 472,
    "start_time": "2023-07-12T02:01:07.472Z"
   },
   {
    "duration": 586,
    "start_time": "2023-07-12T02:01:07.945Z"
   },
   {
    "duration": 456,
    "start_time": "2023-07-12T02:01:08.533Z"
   },
   {
    "duration": 208,
    "start_time": "2023-07-12T02:01:08.991Z"
   },
   {
    "duration": 16,
    "start_time": "2023-07-12T02:01:09.201Z"
   },
   {
    "duration": 217,
    "start_time": "2023-07-12T02:01:09.219Z"
   },
   {
    "duration": 336,
    "start_time": "2023-07-12T02:01:09.438Z"
   },
   {
    "duration": 26,
    "start_time": "2023-07-12T02:01:09.777Z"
   },
   {
    "duration": 206,
    "start_time": "2023-07-12T02:01:09.805Z"
   },
   {
    "duration": 5945,
    "start_time": "2023-07-12T02:01:10.012Z"
   },
   {
    "duration": 29,
    "start_time": "2023-07-12T02:01:15.958Z"
   },
   {
    "duration": 206,
    "start_time": "2023-07-12T02:01:15.989Z"
   },
   {
    "duration": 332,
    "start_time": "2023-07-12T02:01:16.196Z"
   },
   {
    "duration": 29,
    "start_time": "2023-07-12T02:01:16.529Z"
   },
   {
    "duration": 213,
    "start_time": "2023-07-12T02:01:16.560Z"
   },
   {
    "duration": 47,
    "start_time": "2023-07-12T02:01:16.775Z"
   },
   {
    "duration": 30,
    "start_time": "2023-07-12T02:01:16.823Z"
   },
   {
    "duration": 111,
    "start_time": "2023-07-12T02:01:16.854Z"
   },
   {
    "duration": 39,
    "start_time": "2023-07-12T02:01:16.966Z"
   },
   {
    "duration": 3,
    "start_time": "2023-07-12T02:01:17.006Z"
   },
   {
    "duration": 11,
    "start_time": "2023-07-12T02:01:17.010Z"
   },
   {
    "duration": 17889,
    "start_time": "2023-07-12T02:01:17.022Z"
   },
   {
    "duration": 28,
    "start_time": "2023-07-12T02:01:34.913Z"
   },
   {
    "duration": 206,
    "start_time": "2023-07-12T02:01:34.953Z"
   },
   {
    "duration": 4,
    "start_time": "2023-07-12T02:01:35.161Z"
   },
   {
    "duration": 58,
    "start_time": "2023-07-12T02:01:35.166Z"
   },
   {
    "duration": 14,
    "start_time": "2023-07-12T02:01:35.226Z"
   },
   {
    "duration": 575,
    "start_time": "2023-07-12T02:01:35.242Z"
   },
   {
    "duration": 148,
    "start_time": "2023-07-12T02:01:35.818Z"
   },
   {
    "duration": 1727,
    "start_time": "2023-07-12T02:01:35.968Z"
   },
   {
    "duration": 22,
    "start_time": "2023-07-12T02:01:37.696Z"
   },
   {
    "duration": 73,
    "start_time": "2023-07-12T02:01:37.719Z"
   },
   {
    "duration": 543,
    "start_time": "2023-07-12T02:01:37.794Z"
   },
   {
    "duration": 65,
    "start_time": "2023-07-12T02:01:38.339Z"
   },
   {
    "duration": 17,
    "start_time": "2023-07-12T02:01:38.409Z"
   },
   {
    "duration": 104,
    "start_time": "2023-07-12T02:01:38.428Z"
   },
   {
    "duration": 98,
    "start_time": "2023-07-12T02:01:38.534Z"
   },
   {
    "duration": 20,
    "start_time": "2023-07-12T02:01:38.634Z"
   },
   {
    "duration": 15,
    "start_time": "2023-07-12T02:01:38.656Z"
   },
   {
    "duration": 34,
    "start_time": "2023-07-12T02:01:38.673Z"
   },
   {
    "duration": 735,
    "start_time": "2023-07-12T02:01:38.709Z"
   },
   {
    "duration": 6,
    "start_time": "2023-07-12T02:01:39.446Z"
   },
   {
    "duration": 12,
    "start_time": "2023-07-12T02:01:39.453Z"
   },
   {
    "duration": 612,
    "start_time": "2023-07-12T02:01:39.466Z"
   },
   {
    "duration": 73,
    "start_time": "2023-07-12T02:01:40.079Z"
   },
   {
    "duration": 224,
    "start_time": "2023-07-12T02:01:40.154Z"
   },
   {
    "duration": 16,
    "start_time": "2023-07-12T02:01:40.380Z"
   },
   {
    "duration": 21,
    "start_time": "2023-07-12T02:01:40.399Z"
   },
   {
    "duration": 97,
    "start_time": "2023-07-12T02:01:40.422Z"
   },
   {
    "duration": 41,
    "start_time": "2023-07-12T02:01:40.521Z"
   },
   {
    "duration": 190,
    "start_time": "2023-07-12T02:03:58.220Z"
   },
   {
    "duration": 5,
    "start_time": "2023-07-12T02:06:21.301Z"
   },
   {
    "duration": 3,
    "start_time": "2023-07-12T02:06:29.959Z"
   },
   {
    "duration": 121,
    "start_time": "2023-07-12T02:07:31.415Z"
   },
   {
    "duration": 1969,
    "start_time": "2023-07-12T03:53:30.423Z"
   },
   {
    "duration": 1471,
    "start_time": "2023-07-12T03:53:32.395Z"
   },
   {
    "duration": 831,
    "start_time": "2023-07-12T03:53:33.868Z"
   },
   {
    "duration": 18,
    "start_time": "2023-07-12T03:53:34.701Z"
   },
   {
    "duration": 131,
    "start_time": "2023-07-12T03:53:34.720Z"
   },
   {
    "duration": 211,
    "start_time": "2023-07-12T03:53:34.853Z"
   },
   {
    "duration": 517,
    "start_time": "2023-07-12T03:53:35.066Z"
   },
   {
    "duration": 594,
    "start_time": "2023-07-12T03:53:35.584Z"
   },
   {
    "duration": 451,
    "start_time": "2023-07-12T03:53:36.180Z"
   },
   {
    "duration": 207,
    "start_time": "2023-07-12T03:53:36.634Z"
   },
   {
    "duration": 24,
    "start_time": "2023-07-12T03:53:36.842Z"
   },
   {
    "duration": 210,
    "start_time": "2023-07-12T03:53:36.868Z"
   },
   {
    "duration": 344,
    "start_time": "2023-07-12T03:53:37.080Z"
   },
   {
    "duration": 34,
    "start_time": "2023-07-12T03:53:37.426Z"
   },
   {
    "duration": 201,
    "start_time": "2023-07-12T03:53:37.462Z"
   },
   {
    "duration": 6270,
    "start_time": "2023-07-12T03:53:37.665Z"
   },
   {
    "duration": 30,
    "start_time": "2023-07-12T03:53:43.938Z"
   },
   {
    "duration": 215,
    "start_time": "2023-07-12T03:53:43.970Z"
   },
   {
    "duration": 365,
    "start_time": "2023-07-12T03:53:44.187Z"
   },
   {
    "duration": 31,
    "start_time": "2023-07-12T03:53:44.554Z"
   },
   {
    "duration": 243,
    "start_time": "2023-07-12T03:53:44.587Z"
   },
   {
    "duration": 57,
    "start_time": "2023-07-12T03:53:44.833Z"
   },
   {
    "duration": 19,
    "start_time": "2023-07-12T03:53:44.892Z"
   },
   {
    "duration": 139,
    "start_time": "2023-07-12T03:53:44.912Z"
   },
   {
    "duration": 41,
    "start_time": "2023-07-12T03:53:45.053Z"
   },
   {
    "duration": 3,
    "start_time": "2023-07-12T03:53:45.096Z"
   },
   {
    "duration": 6,
    "start_time": "2023-07-12T03:53:45.101Z"
   },
   {
    "duration": 18619,
    "start_time": "2023-07-12T03:53:45.111Z"
   },
   {
    "duration": 29,
    "start_time": "2023-07-12T03:54:03.732Z"
   },
   {
    "duration": 246,
    "start_time": "2023-07-12T03:54:03.763Z"
   },
   {
    "duration": 3,
    "start_time": "2023-07-12T03:54:04.012Z"
   },
   {
    "duration": 156,
    "start_time": "2023-07-12T03:54:04.017Z"
   },
   {
    "duration": 18,
    "start_time": "2023-07-12T03:54:04.175Z"
   },
   {
    "duration": 559,
    "start_time": "2023-07-12T03:54:04.195Z"
   },
   {
    "duration": 164,
    "start_time": "2023-07-12T03:54:04.756Z"
   },
   {
    "duration": 1809,
    "start_time": "2023-07-12T03:54:04.922Z"
   },
   {
    "duration": 28,
    "start_time": "2023-07-12T03:54:06.733Z"
   },
   {
    "duration": 60,
    "start_time": "2023-07-12T03:54:06.762Z"
   },
   {
    "duration": 669,
    "start_time": "2023-07-12T03:54:06.824Z"
   },
   {
    "duration": 72,
    "start_time": "2023-07-12T03:54:07.495Z"
   },
   {
    "duration": 23,
    "start_time": "2023-07-12T03:54:07.569Z"
   },
   {
    "duration": 104,
    "start_time": "2023-07-12T03:54:07.593Z"
   },
   {
    "duration": 102,
    "start_time": "2023-07-12T03:54:07.699Z"
   },
   {
    "duration": 11,
    "start_time": "2023-07-12T03:54:07.803Z"
   },
   {
    "duration": 16,
    "start_time": "2023-07-12T03:54:07.816Z"
   },
   {
    "duration": 49,
    "start_time": "2023-07-12T03:54:07.834Z"
   },
   {
    "duration": 785,
    "start_time": "2023-07-12T03:54:07.884Z"
   },
   {
    "duration": 3,
    "start_time": "2023-07-12T03:54:08.671Z"
   },
   {
    "duration": 7,
    "start_time": "2023-07-12T03:54:08.676Z"
   },
   {
    "duration": 607,
    "start_time": "2023-07-12T03:54:08.685Z"
   },
   {
    "duration": 68,
    "start_time": "2023-07-12T03:54:09.293Z"
   },
   {
    "duration": 228,
    "start_time": "2023-07-12T03:54:09.363Z"
   },
   {
    "duration": 18,
    "start_time": "2023-07-12T03:54:09.593Z"
   },
   {
    "duration": 17,
    "start_time": "2023-07-12T03:54:09.613Z"
   },
   {
    "duration": 94,
    "start_time": "2023-07-12T03:54:09.632Z"
   },
   {
    "duration": 37,
    "start_time": "2023-07-12T03:54:09.727Z"
   },
   {
    "duration": 4,
    "start_time": "2023-07-12T03:54:09.766Z"
   },
   {
    "duration": 13,
    "start_time": "2023-07-12T03:54:09.771Z"
   },
   {
    "duration": 12080229,
    "start_time": "2023-07-12T03:54:09.785Z"
   },
   {
    "duration": 8,
    "start_time": "2023-07-12T07:15:30.018Z"
   },
   {
    "duration": 180,
    "start_time": "2023-07-12T07:18:09.386Z"
   },
   {
    "duration": 7,
    "start_time": "2023-07-12T07:19:07.555Z"
   },
   {
    "duration": 184,
    "start_time": "2023-07-12T07:19:16.661Z"
   },
   {
    "duration": 14,
    "start_time": "2023-07-12T07:19:19.103Z"
   },
   {
    "duration": 7,
    "start_time": "2023-07-12T07:19:22.676Z"
   },
   {
    "duration": 18,
    "start_time": "2023-07-12T07:20:14.213Z"
   },
   {
    "duration": 11,
    "start_time": "2023-07-12T07:20:35.184Z"
   },
   {
    "duration": 10,
    "start_time": "2023-07-12T07:20:39.897Z"
   },
   {
    "duration": 5,
    "start_time": "2023-07-12T07:24:37.485Z"
   },
   {
    "duration": 15,
    "start_time": "2023-07-12T07:25:30.676Z"
   },
   {
    "duration": 8,
    "start_time": "2023-07-12T07:25:34.946Z"
   },
   {
    "duration": 9,
    "start_time": "2023-07-12T07:25:45.572Z"
   },
   {
    "duration": 10,
    "start_time": "2023-07-12T07:28:21.078Z"
   },
   {
    "duration": 10614,
    "start_time": "2023-07-12T07:30:28.583Z"
   },
   {
    "duration": 20,
    "start_time": "2023-07-12T07:32:10.066Z"
   },
   {
    "duration": 27,
    "start_time": "2023-07-12T07:34:45.238Z"
   },
   {
    "duration": 4,
    "start_time": "2023-07-12T07:36:30.383Z"
   },
   {
    "duration": 7,
    "start_time": "2023-07-12T07:36:35.916Z"
   },
   {
    "duration": 1071108,
    "start_time": "2023-07-12T07:37:29.081Z"
   },
   {
    "duration": 9,
    "start_time": "2023-07-12T18:32:03.680Z"
   },
   {
    "duration": 2382,
    "start_time": "2023-07-12T18:33:31.901Z"
   },
   {
    "duration": 1781,
    "start_time": "2023-07-12T18:33:34.286Z"
   },
   {
    "duration": 1188,
    "start_time": "2023-07-12T18:33:36.069Z"
   },
   {
    "duration": 29,
    "start_time": "2023-07-12T18:33:37.259Z"
   },
   {
    "duration": 135,
    "start_time": "2023-07-12T18:33:37.290Z"
   },
   {
    "duration": 287,
    "start_time": "2023-07-12T18:33:37.428Z"
   },
   {
    "duration": 577,
    "start_time": "2023-07-12T18:33:37.717Z"
   },
   {
    "duration": 747,
    "start_time": "2023-07-12T18:33:38.297Z"
   },
   {
    "duration": 575,
    "start_time": "2023-07-12T18:33:39.046Z"
   },
   {
    "duration": 265,
    "start_time": "2023-07-12T18:33:39.624Z"
   },
   {
    "duration": 20,
    "start_time": "2023-07-12T18:33:39.891Z"
   },
   {
    "duration": 280,
    "start_time": "2023-07-12T18:33:39.913Z"
   },
   {
    "duration": 422,
    "start_time": "2023-07-12T18:33:40.195Z"
   },
   {
    "duration": 42,
    "start_time": "2023-07-12T18:33:40.619Z"
   },
   {
    "duration": 264,
    "start_time": "2023-07-12T18:33:40.667Z"
   },
   {
    "duration": 7298,
    "start_time": "2023-07-12T18:33:40.933Z"
   },
   {
    "duration": 54,
    "start_time": "2023-07-12T18:33:48.233Z"
   },
   {
    "duration": 301,
    "start_time": "2023-07-12T18:33:48.290Z"
   },
   {
    "duration": 432,
    "start_time": "2023-07-12T18:33:48.594Z"
   },
   {
    "duration": 40,
    "start_time": "2023-07-12T18:33:49.028Z"
   },
   {
    "duration": 297,
    "start_time": "2023-07-12T18:33:49.070Z"
   },
   {
    "duration": 63,
    "start_time": "2023-07-12T18:33:49.369Z"
   },
   {
    "duration": 34,
    "start_time": "2023-07-12T18:33:49.434Z"
   },
   {
    "duration": 134,
    "start_time": "2023-07-12T18:33:49.475Z"
   },
   {
    "duration": 41,
    "start_time": "2023-07-12T18:33:49.611Z"
   },
   {
    "duration": 5,
    "start_time": "2023-07-12T18:33:49.654Z"
   },
   {
    "duration": 31,
    "start_time": "2023-07-12T18:33:49.660Z"
   },
   {
    "duration": 23489,
    "start_time": "2023-07-12T18:33:49.696Z"
   },
   {
    "duration": 32,
    "start_time": "2023-07-12T18:34:13.190Z"
   },
   {
    "duration": 271,
    "start_time": "2023-07-12T18:34:13.224Z"
   },
   {
    "duration": 4,
    "start_time": "2023-07-12T18:34:13.498Z"
   },
   {
    "duration": 66,
    "start_time": "2023-07-12T18:34:13.503Z"
   },
   {
    "duration": 38,
    "start_time": "2023-07-12T18:34:13.571Z"
   },
   {
    "duration": 678,
    "start_time": "2023-07-12T18:34:13.611Z"
   },
   {
    "duration": 165,
    "start_time": "2023-07-12T18:34:14.291Z"
   },
   {
    "duration": 2334,
    "start_time": "2023-07-12T18:34:14.458Z"
   },
   {
    "duration": 24,
    "start_time": "2023-07-12T18:34:16.794Z"
   },
   {
    "duration": 76,
    "start_time": "2023-07-12T18:34:16.820Z"
   },
   {
    "duration": 810,
    "start_time": "2023-07-12T18:34:16.898Z"
   },
   {
    "duration": 98,
    "start_time": "2023-07-12T18:34:17.709Z"
   },
   {
    "duration": 91,
    "start_time": "2023-07-12T18:34:17.810Z"
   },
   {
    "duration": 120,
    "start_time": "2023-07-12T18:34:17.903Z"
   },
   {
    "duration": 114,
    "start_time": "2023-07-12T18:34:18.025Z"
   },
   {
    "duration": 33,
    "start_time": "2023-07-12T18:34:18.141Z"
   },
   {
    "duration": 23,
    "start_time": "2023-07-12T18:34:18.180Z"
   },
   {
    "duration": 34,
    "start_time": "2023-07-12T18:34:18.204Z"
   },
   {
    "duration": 997,
    "start_time": "2023-07-12T18:34:18.240Z"
   },
   {
    "duration": 3,
    "start_time": "2023-07-12T18:34:19.240Z"
   },
   {
    "duration": 9,
    "start_time": "2023-07-12T18:34:19.245Z"
   },
   {
    "duration": 816,
    "start_time": "2023-07-12T18:34:19.256Z"
   },
   {
    "duration": 60,
    "start_time": "2023-07-12T18:34:20.081Z"
   },
   {
    "duration": 264,
    "start_time": "2023-07-12T18:34:20.143Z"
   },
   {
    "duration": 26,
    "start_time": "2023-07-12T18:34:20.409Z"
   },
   {
    "duration": 91,
    "start_time": "2023-07-12T18:34:20.437Z"
   },
   {
    "duration": 107,
    "start_time": "2023-07-12T18:34:20.531Z"
   },
   {
    "duration": 48,
    "start_time": "2023-07-12T18:34:20.641Z"
   },
   {
    "duration": 24,
    "start_time": "2023-07-12T18:34:20.695Z"
   },
   {
    "duration": 36,
    "start_time": "2023-07-12T18:34:20.721Z"
   },
   {
    "duration": 3639001,
    "start_time": "2023-07-12T18:34:20.762Z"
   },
   {
    "duration": 0,
    "start_time": "2023-07-12T19:34:59.765Z"
   },
   {
    "duration": 0,
    "start_time": "2023-07-12T19:34:59.767Z"
   },
   {
    "duration": 1,
    "start_time": "2023-07-12T19:34:59.767Z"
   },
   {
    "duration": 0,
    "start_time": "2023-07-12T19:34:59.768Z"
   },
   {
    "duration": 0,
    "start_time": "2023-07-12T19:34:59.772Z"
   },
   {
    "duration": 2338,
    "start_time": "2023-07-12T19:35:04.343Z"
   },
   {
    "duration": 1655,
    "start_time": "2023-07-12T19:35:06.683Z"
   },
   {
    "duration": 964,
    "start_time": "2023-07-12T19:35:08.340Z"
   },
   {
    "duration": 19,
    "start_time": "2023-07-12T19:35:09.306Z"
   },
   {
    "duration": 152,
    "start_time": "2023-07-12T19:35:09.326Z"
   },
   {
    "duration": 256,
    "start_time": "2023-07-12T19:35:09.480Z"
   },
   {
    "duration": 554,
    "start_time": "2023-07-12T19:35:09.738Z"
   },
   {
    "duration": 640,
    "start_time": "2023-07-12T19:35:10.294Z"
   },
   {
    "duration": 522,
    "start_time": "2023-07-12T19:35:10.935Z"
   },
   {
    "duration": 248,
    "start_time": "2023-07-12T19:35:11.460Z"
   },
   {
    "duration": 18,
    "start_time": "2023-07-12T19:35:11.710Z"
   },
   {
    "duration": 251,
    "start_time": "2023-07-12T19:35:11.730Z"
   },
   {
    "duration": 407,
    "start_time": "2023-07-12T19:35:11.982Z"
   },
   {
    "duration": 30,
    "start_time": "2023-07-12T19:35:12.390Z"
   },
   {
    "duration": 261,
    "start_time": "2023-07-12T19:35:12.422Z"
   },
   {
    "duration": 7077,
    "start_time": "2023-07-12T19:35:12.685Z"
   },
   {
    "duration": 39,
    "start_time": "2023-07-12T19:35:19.764Z"
   },
   {
    "duration": 268,
    "start_time": "2023-07-12T19:35:19.805Z"
   },
   {
    "duration": 364,
    "start_time": "2023-07-12T19:35:20.079Z"
   },
   {
    "duration": 42,
    "start_time": "2023-07-12T19:35:20.446Z"
   },
   {
    "duration": 227,
    "start_time": "2023-07-12T19:35:20.490Z"
   },
   {
    "duration": 57,
    "start_time": "2023-07-12T19:35:20.719Z"
   },
   {
    "duration": 16,
    "start_time": "2023-07-12T19:35:20.778Z"
   },
   {
    "duration": 133,
    "start_time": "2023-07-12T19:35:20.796Z"
   },
   {
    "duration": 41,
    "start_time": "2023-07-12T19:35:20.930Z"
   },
   {
    "duration": 6,
    "start_time": "2023-07-12T19:35:20.973Z"
   },
   {
    "duration": 13,
    "start_time": "2023-07-12T19:35:20.981Z"
   },
   {
    "duration": 20555,
    "start_time": "2023-07-12T19:35:20.998Z"
   },
   {
    "duration": 30,
    "start_time": "2023-07-12T19:35:41.566Z"
   },
   {
    "duration": 215,
    "start_time": "2023-07-12T19:35:41.597Z"
   },
   {
    "duration": 5,
    "start_time": "2023-07-12T19:35:41.814Z"
   },
   {
    "duration": 51,
    "start_time": "2023-07-12T19:35:41.820Z"
   },
   {
    "duration": 10,
    "start_time": "2023-07-12T19:35:41.873Z"
   },
   {
    "duration": 600,
    "start_time": "2023-07-12T19:35:41.884Z"
   },
   {
    "duration": 152,
    "start_time": "2023-07-12T19:35:42.486Z"
   },
   {
    "duration": 1944,
    "start_time": "2023-07-12T19:35:42.640Z"
   },
   {
    "duration": 23,
    "start_time": "2023-07-12T19:35:44.586Z"
   },
   {
    "duration": 77,
    "start_time": "2023-07-12T19:35:44.611Z"
   },
   {
    "duration": 736,
    "start_time": "2023-07-12T19:35:44.690Z"
   },
   {
    "duration": 92,
    "start_time": "2023-07-12T19:35:45.428Z"
   },
   {
    "duration": 49,
    "start_time": "2023-07-12T19:35:45.522Z"
   },
   {
    "duration": 107,
    "start_time": "2023-07-12T19:35:45.573Z"
   },
   {
    "duration": 105,
    "start_time": "2023-07-12T19:35:45.683Z"
   },
   {
    "duration": 11,
    "start_time": "2023-07-12T19:35:45.790Z"
   },
   {
    "duration": 13,
    "start_time": "2023-07-12T19:35:45.803Z"
   },
   {
    "duration": 52,
    "start_time": "2023-07-12T19:35:45.818Z"
   },
   {
    "duration": 806,
    "start_time": "2023-07-12T19:35:45.872Z"
   },
   {
    "duration": 2,
    "start_time": "2023-07-12T19:35:46.681Z"
   },
   {
    "duration": 6,
    "start_time": "2023-07-12T19:35:46.685Z"
   },
   {
    "duration": 655,
    "start_time": "2023-07-12T19:35:46.692Z"
   },
   {
    "duration": 61,
    "start_time": "2023-07-12T19:35:47.352Z"
   },
   {
    "duration": 229,
    "start_time": "2023-07-12T19:35:47.415Z"
   },
   {
    "duration": 26,
    "start_time": "2023-07-12T19:35:47.646Z"
   },
   {
    "duration": 17,
    "start_time": "2023-07-12T19:35:47.674Z"
   },
   {
    "duration": 99,
    "start_time": "2023-07-12T19:35:47.693Z"
   },
   {
    "duration": 33,
    "start_time": "2023-07-12T19:35:47.793Z"
   },
   {
    "duration": 4,
    "start_time": "2023-07-12T19:35:47.828Z"
   },
   {
    "duration": 8,
    "start_time": "2023-07-12T19:35:47.857Z"
   },
   {
    "duration": 37247,
    "start_time": "2023-07-12T19:35:47.867Z"
   },
   {
    "duration": 0,
    "start_time": "2023-07-12T19:36:25.116Z"
   },
   {
    "duration": 0,
    "start_time": "2023-07-12T19:36:25.117Z"
   },
   {
    "duration": 0,
    "start_time": "2023-07-12T19:36:25.118Z"
   },
   {
    "duration": 0,
    "start_time": "2023-07-12T19:36:25.120Z"
   },
   {
    "duration": 0,
    "start_time": "2023-07-12T19:36:25.121Z"
   },
   {
    "duration": 4,
    "start_time": "2023-07-12T19:36:26.717Z"
   },
   {
    "duration": 8,
    "start_time": "2023-07-12T19:39:59.897Z"
   },
   {
    "duration": 93379,
    "start_time": "2023-07-12T19:43:23.092Z"
   },
   {
    "duration": 4,
    "start_time": "2023-07-12T19:45:01.890Z"
   },
   {
    "duration": 12,
    "start_time": "2023-07-12T19:45:23.223Z"
   },
   {
    "duration": 43260,
    "start_time": "2023-07-12T19:45:32.610Z"
   },
   {
    "duration": 442415,
    "start_time": "2023-07-12T19:46:24.868Z"
   },
   {
    "duration": 5,
    "start_time": "2023-07-12T19:54:05.320Z"
   },
   {
    "duration": 5,
    "start_time": "2023-07-12T19:54:23.484Z"
   },
   {
    "duration": 313818,
    "start_time": "2023-07-12T19:55:36.164Z"
   },
   {
    "duration": 5,
    "start_time": "2023-07-12T20:20:14.681Z"
   },
   {
    "duration": 2291,
    "start_time": "2023-07-12T20:20:56.291Z"
   },
   {
    "duration": 1562,
    "start_time": "2023-07-12T20:20:58.584Z"
   },
   {
    "duration": 932,
    "start_time": "2023-07-12T20:21:00.150Z"
   },
   {
    "duration": 19,
    "start_time": "2023-07-12T20:21:01.085Z"
   },
   {
    "duration": 160,
    "start_time": "2023-07-12T20:21:01.106Z"
   },
   {
    "duration": 245,
    "start_time": "2023-07-12T20:21:01.269Z"
   },
   {
    "duration": 547,
    "start_time": "2023-07-12T20:21:01.516Z"
   },
   {
    "duration": 650,
    "start_time": "2023-07-12T20:21:02.068Z"
   },
   {
    "duration": 510,
    "start_time": "2023-07-12T20:21:02.720Z"
   },
   {
    "duration": 243,
    "start_time": "2023-07-12T20:21:03.233Z"
   },
   {
    "duration": 17,
    "start_time": "2023-07-12T20:21:03.477Z"
   },
   {
    "duration": 232,
    "start_time": "2023-07-12T20:21:03.496Z"
   },
   {
    "duration": 377,
    "start_time": "2023-07-12T20:21:03.729Z"
   },
   {
    "duration": 28,
    "start_time": "2023-07-12T20:21:04.107Z"
   },
   {
    "duration": 233,
    "start_time": "2023-07-12T20:21:04.137Z"
   },
   {
    "duration": 6755,
    "start_time": "2023-07-12T20:21:04.372Z"
   },
   {
    "duration": 46,
    "start_time": "2023-07-12T20:21:11.129Z"
   },
   {
    "duration": 231,
    "start_time": "2023-07-12T20:21:11.176Z"
   },
   {
    "duration": 365,
    "start_time": "2023-07-12T20:21:11.408Z"
   },
   {
    "duration": 27,
    "start_time": "2023-07-12T20:21:11.775Z"
   },
   {
    "duration": 232,
    "start_time": "2023-07-12T20:21:11.804Z"
   },
   {
    "duration": 63,
    "start_time": "2023-07-12T20:21:12.038Z"
   },
   {
    "duration": 66,
    "start_time": "2023-07-12T20:21:12.103Z"
   },
   {
    "duration": 117,
    "start_time": "2023-07-12T20:21:12.171Z"
   },
   {
    "duration": 37,
    "start_time": "2023-07-12T20:21:12.290Z"
   },
   {
    "duration": 3,
    "start_time": "2023-07-12T20:21:12.329Z"
   },
   {
    "duration": 46,
    "start_time": "2023-07-12T20:21:12.334Z"
   },
   {
    "duration": 21024,
    "start_time": "2023-07-12T20:21:12.385Z"
   },
   {
    "duration": 29,
    "start_time": "2023-07-12T20:21:33.411Z"
   },
   {
    "duration": 223,
    "start_time": "2023-07-12T20:21:33.453Z"
   },
   {
    "duration": 4,
    "start_time": "2023-07-12T20:21:33.678Z"
   },
   {
    "duration": 51,
    "start_time": "2023-07-12T20:21:33.684Z"
   },
   {
    "duration": 32,
    "start_time": "2023-07-12T20:21:33.737Z"
   },
   {
    "duration": 624,
    "start_time": "2023-07-12T20:21:33.774Z"
   },
   {
    "duration": 173,
    "start_time": "2023-07-12T20:21:34.401Z"
   },
   {
    "duration": 1958,
    "start_time": "2023-07-12T20:21:34.576Z"
   },
   {
    "duration": 36,
    "start_time": "2023-07-12T20:21:36.536Z"
   },
   {
    "duration": 53,
    "start_time": "2023-07-12T20:21:36.574Z"
   },
   {
    "duration": 699,
    "start_time": "2023-07-12T20:21:36.629Z"
   },
   {
    "duration": 94,
    "start_time": "2023-07-12T20:21:37.330Z"
   },
   {
    "duration": 38,
    "start_time": "2023-07-12T20:21:37.426Z"
   },
   {
    "duration": 101,
    "start_time": "2023-07-12T20:21:37.466Z"
   },
   {
    "duration": 104,
    "start_time": "2023-07-12T20:21:37.570Z"
   },
   {
    "duration": 11,
    "start_time": "2023-07-12T20:21:37.675Z"
   },
   {
    "duration": 15,
    "start_time": "2023-07-12T20:21:37.688Z"
   },
   {
    "duration": 50,
    "start_time": "2023-07-12T20:21:37.704Z"
   },
   {
    "duration": 864,
    "start_time": "2023-07-12T20:21:37.756Z"
   },
   {
    "duration": 3,
    "start_time": "2023-07-12T20:21:38.622Z"
   },
   {
    "duration": 7,
    "start_time": "2023-07-12T20:21:38.627Z"
   },
   {
    "duration": 662,
    "start_time": "2023-07-12T20:21:38.636Z"
   },
   {
    "duration": 53,
    "start_time": "2023-07-12T20:21:39.300Z"
   },
   {
    "duration": 239,
    "start_time": "2023-07-12T20:21:39.354Z"
   },
   {
    "duration": 22,
    "start_time": "2023-07-12T20:21:39.595Z"
   },
   {
    "duration": 47,
    "start_time": "2023-07-12T20:21:39.619Z"
   },
   {
    "duration": 110,
    "start_time": "2023-07-12T20:21:39.669Z"
   },
   {
    "duration": 33,
    "start_time": "2023-07-12T20:21:39.780Z"
   },
   {
    "duration": 4,
    "start_time": "2023-07-12T20:21:39.814Z"
   },
   {
    "duration": 13,
    "start_time": "2023-07-12T20:21:39.820Z"
   },
   {
    "duration": 2561,
    "start_time": "2023-07-12T20:38:48.806Z"
   },
   {
    "duration": 1862,
    "start_time": "2023-07-12T20:38:51.370Z"
   },
   {
    "duration": 1044,
    "start_time": "2023-07-12T20:38:53.233Z"
   },
   {
    "duration": 21,
    "start_time": "2023-07-12T20:38:54.282Z"
   },
   {
    "duration": 156,
    "start_time": "2023-07-12T20:38:54.305Z"
   },
   {
    "duration": 274,
    "start_time": "2023-07-12T20:38:54.473Z"
   },
   {
    "duration": 592,
    "start_time": "2023-07-12T20:38:54.752Z"
   },
   {
    "duration": 702,
    "start_time": "2023-07-12T20:38:55.346Z"
   },
   {
    "duration": 590,
    "start_time": "2023-07-12T20:38:56.050Z"
   },
   {
    "duration": 276,
    "start_time": "2023-07-12T20:38:56.644Z"
   },
   {
    "duration": 19,
    "start_time": "2023-07-12T20:38:56.922Z"
   },
   {
    "duration": 257,
    "start_time": "2023-07-12T20:38:56.943Z"
   },
   {
    "duration": 436,
    "start_time": "2023-07-12T20:38:57.201Z"
   },
   {
    "duration": 51,
    "start_time": "2023-07-12T20:38:57.639Z"
   },
   {
    "duration": 292,
    "start_time": "2023-07-12T20:38:57.692Z"
   },
   {
    "duration": 8014,
    "start_time": "2023-07-12T20:38:57.986Z"
   },
   {
    "duration": 30,
    "start_time": "2023-07-12T20:39:06.002Z"
   },
   {
    "duration": 290,
    "start_time": "2023-07-12T20:39:06.034Z"
   },
   {
    "duration": 395,
    "start_time": "2023-07-12T20:39:06.326Z"
   },
   {
    "duration": 52,
    "start_time": "2023-07-12T20:39:06.723Z"
   },
   {
    "duration": 256,
    "start_time": "2023-07-12T20:39:06.782Z"
   },
   {
    "duration": 58,
    "start_time": "2023-07-12T20:39:07.040Z"
   },
   {
    "duration": 16,
    "start_time": "2023-07-12T20:39:07.100Z"
   },
   {
    "duration": 158,
    "start_time": "2023-07-12T20:39:07.118Z"
   },
   {
    "duration": 48,
    "start_time": "2023-07-12T20:39:07.278Z"
   },
   {
    "duration": 3,
    "start_time": "2023-07-12T20:39:07.329Z"
   },
   {
    "duration": 54,
    "start_time": "2023-07-12T20:39:07.335Z"
   },
   {
    "duration": 23740,
    "start_time": "2023-07-12T20:39:07.393Z"
   },
   {
    "duration": 60,
    "start_time": "2023-07-12T20:39:31.135Z"
   },
   {
    "duration": 389,
    "start_time": "2023-07-12T20:39:31.197Z"
   },
   {
    "duration": 10,
    "start_time": "2023-07-12T20:39:31.593Z"
   },
   {
    "duration": 109,
    "start_time": "2023-07-12T20:39:31.605Z"
   },
   {
    "duration": 27,
    "start_time": "2023-07-12T20:39:31.716Z"
   },
   {
    "duration": 768,
    "start_time": "2023-07-12T20:39:31.746Z"
   },
   {
    "duration": 175,
    "start_time": "2023-07-12T20:39:32.516Z"
   },
   {
    "duration": 2135,
    "start_time": "2023-07-12T20:39:32.692Z"
   },
   {
    "duration": 33,
    "start_time": "2023-07-12T20:39:34.829Z"
   },
   {
    "duration": 59,
    "start_time": "2023-07-12T20:39:34.863Z"
   },
   {
    "duration": 758,
    "start_time": "2023-07-12T20:39:34.924Z"
   },
   {
    "duration": 78,
    "start_time": "2023-07-12T20:39:35.684Z"
   },
   {
    "duration": 48,
    "start_time": "2023-07-12T20:39:35.763Z"
   },
   {
    "duration": 111,
    "start_time": "2023-07-12T20:39:35.813Z"
   },
   {
    "duration": 106,
    "start_time": "2023-07-12T20:39:35.927Z"
   },
   {
    "duration": 21,
    "start_time": "2023-07-12T20:39:36.035Z"
   },
   {
    "duration": 36,
    "start_time": "2023-07-12T20:39:36.060Z"
   },
   {
    "duration": 41,
    "start_time": "2023-07-12T20:39:36.099Z"
   },
   {
    "duration": 864,
    "start_time": "2023-07-12T20:39:36.142Z"
   },
   {
    "duration": 3,
    "start_time": "2023-07-12T20:39:37.008Z"
   },
   {
    "duration": 6,
    "start_time": "2023-07-12T20:39:37.013Z"
   },
   {
    "duration": 762,
    "start_time": "2023-07-12T20:39:37.021Z"
   },
   {
    "duration": 41,
    "start_time": "2023-07-12T20:39:37.786Z"
   },
   {
    "duration": 241,
    "start_time": "2023-07-12T20:39:37.829Z"
   },
   {
    "duration": 24,
    "start_time": "2023-07-12T20:39:38.071Z"
   },
   {
    "duration": 20,
    "start_time": "2023-07-12T20:39:38.097Z"
   },
   {
    "duration": 126,
    "start_time": "2023-07-12T20:39:38.119Z"
   },
   {
    "duration": 97,
    "start_time": "2023-07-12T20:39:38.247Z"
   },
   {
    "duration": 137,
    "start_time": "2023-07-12T20:39:38.346Z"
   },
   {
    "duration": 45,
    "start_time": "2023-07-12T20:39:38.485Z"
   },
   {
    "duration": 14,
    "start_time": "2023-07-12T21:35:05.641Z"
   },
   {
    "duration": 41,
    "start_time": "2023-07-12T21:35:05.657Z"
   },
   {
    "duration": 18,
    "start_time": "2023-07-12T21:35:05.700Z"
   },
   {
    "duration": 305002,
    "start_time": "2023-07-12T21:35:05.720Z"
   },
   {
    "duration": 4,
    "start_time": "2023-07-12T21:40:10.724Z"
   },
   {
    "duration": 3014010,
    "start_time": "2023-07-12T21:40:10.733Z"
   },
   {
    "duration": 13,
    "start_time": "2023-07-12T22:35:06.691Z"
   },
   {
    "duration": 4,
    "start_time": "2023-07-12T22:35:11.442Z"
   },
   {
    "duration": 4,
    "start_time": "2023-07-12T22:36:15.294Z"
   },
   {
    "duration": 4,
    "start_time": "2023-07-12T22:36:15.880Z"
   },
   {
    "duration": 5,
    "start_time": "2023-07-12T22:37:08.403Z"
   },
   {
    "duration": 5,
    "start_time": "2023-07-12T22:37:09.791Z"
   },
   {
    "duration": 7,
    "start_time": "2023-07-12T22:38:14.954Z"
   },
   {
    "duration": 4,
    "start_time": "2023-07-12T22:38:16.122Z"
   },
   {
    "duration": 158,
    "start_time": "2023-07-12T22:38:31.710Z"
   },
   {
    "duration": 16,
    "start_time": "2023-07-12T22:38:42.552Z"
   },
   {
    "duration": 210,
    "start_time": "2023-07-12T22:38:56.933Z"
   },
   {
    "duration": 208,
    "start_time": "2023-07-12T22:39:13.124Z"
   },
   {
    "duration": 4,
    "start_time": "2023-07-12T22:39:34.925Z"
   },
   {
    "duration": 2088218,
    "start_time": "2023-07-12T22:48:24.453Z"
   },
   {
    "duration": 4,
    "start_time": "2023-07-12T23:36:07.012Z"
   },
   {
    "duration": 3,
    "start_time": "2023-07-12T23:37:33.901Z"
   },
   {
    "duration": 43,
    "start_time": "2023-07-12T23:37:51.092Z"
   },
   {
    "duration": 10,
    "start_time": "2023-07-12T23:38:06.698Z"
   },
   {
    "duration": 150597,
    "start_time": "2023-07-12T23:38:11.744Z"
   },
   {
    "duration": 0,
    "start_time": "2023-07-12T23:40:42.342Z"
   },
   {
    "duration": 3,
    "start_time": "2023-07-12T23:40:45.597Z"
   },
   {
    "duration": 4,
    "start_time": "2023-07-12T23:40:51.240Z"
   },
   {
    "duration": 3,
    "start_time": "2023-07-12T23:41:23.816Z"
   },
   {
    "duration": 4,
    "start_time": "2023-07-12T23:41:24.252Z"
   },
   {
    "duration": 2000,
    "start_time": "2023-07-12T23:46:50.966Z"
   },
   {
    "duration": 1539,
    "start_time": "2023-07-12T23:46:52.968Z"
   },
   {
    "duration": 822,
    "start_time": "2023-07-12T23:46:54.509Z"
   },
   {
    "duration": 29,
    "start_time": "2023-07-12T23:46:55.334Z"
   },
   {
    "duration": 151,
    "start_time": "2023-07-12T23:46:55.366Z"
   },
   {
    "duration": 219,
    "start_time": "2023-07-12T23:46:55.519Z"
   },
   {
    "duration": 485,
    "start_time": "2023-07-12T23:46:55.740Z"
   },
   {
    "duration": 603,
    "start_time": "2023-07-12T23:46:56.226Z"
   },
   {
    "duration": 526,
    "start_time": "2023-07-12T23:46:56.831Z"
   },
   {
    "duration": 216,
    "start_time": "2023-07-12T23:46:57.360Z"
   },
   {
    "duration": 19,
    "start_time": "2023-07-12T23:46:57.577Z"
   },
   {
    "duration": 421,
    "start_time": "2023-07-12T23:46:57.598Z"
   },
   {
    "duration": 451,
    "start_time": "2023-07-12T23:46:58.021Z"
   },
   {
    "duration": 31,
    "start_time": "2023-07-12T23:46:58.474Z"
   },
   {
    "duration": 230,
    "start_time": "2023-07-12T23:46:58.507Z"
   },
   {
    "duration": 6329,
    "start_time": "2023-07-12T23:46:58.738Z"
   },
   {
    "duration": 30,
    "start_time": "2023-07-12T23:47:05.069Z"
   },
   {
    "duration": 225,
    "start_time": "2023-07-12T23:47:05.101Z"
   },
   {
    "duration": 357,
    "start_time": "2023-07-12T23:47:05.328Z"
   },
   {
    "duration": 27,
    "start_time": "2023-07-12T23:47:05.687Z"
   },
   {
    "duration": 212,
    "start_time": "2023-07-12T23:47:05.716Z"
   },
   {
    "duration": 56,
    "start_time": "2023-07-12T23:47:05.929Z"
   },
   {
    "duration": 16,
    "start_time": "2023-07-12T23:47:05.987Z"
   },
   {
    "duration": 124,
    "start_time": "2023-07-12T23:47:06.005Z"
   },
   {
    "duration": 42,
    "start_time": "2023-07-12T23:47:06.130Z"
   },
   {
    "duration": 3,
    "start_time": "2023-07-12T23:47:06.174Z"
   },
   {
    "duration": 25,
    "start_time": "2023-07-12T23:47:06.178Z"
   },
   {
    "duration": 19202,
    "start_time": "2023-07-12T23:47:06.206Z"
   },
   {
    "duration": 30,
    "start_time": "2023-07-12T23:47:25.409Z"
   },
   {
    "duration": 205,
    "start_time": "2023-07-12T23:47:25.452Z"
   },
   {
    "duration": 4,
    "start_time": "2023-07-12T23:47:25.658Z"
   },
   {
    "duration": 42,
    "start_time": "2023-07-12T23:47:25.664Z"
   },
   {
    "duration": 15,
    "start_time": "2023-07-12T23:47:25.708Z"
   },
   {
    "duration": 544,
    "start_time": "2023-07-12T23:47:25.724Z"
   },
   {
    "duration": 138,
    "start_time": "2023-07-12T23:47:26.270Z"
   },
   {
    "duration": 1890,
    "start_time": "2023-07-12T23:47:26.409Z"
   },
   {
    "duration": 27,
    "start_time": "2023-07-12T23:47:28.301Z"
   },
   {
    "duration": 73,
    "start_time": "2023-07-12T23:47:28.330Z"
   },
   {
    "duration": 693,
    "start_time": "2023-07-12T23:47:28.406Z"
   },
   {
    "duration": 69,
    "start_time": "2023-07-12T23:47:29.101Z"
   },
   {
    "duration": 49,
    "start_time": "2023-07-12T23:47:29.172Z"
   },
   {
    "duration": 90,
    "start_time": "2023-07-12T23:47:29.223Z"
   },
   {
    "duration": 93,
    "start_time": "2023-07-12T23:47:29.315Z"
   },
   {
    "duration": 12,
    "start_time": "2023-07-12T23:47:29.410Z"
   },
   {
    "duration": 29,
    "start_time": "2023-07-12T23:47:29.424Z"
   },
   {
    "duration": 36,
    "start_time": "2023-07-12T23:47:29.455Z"
   },
   {
    "duration": 742,
    "start_time": "2023-07-12T23:47:29.493Z"
   },
   {
    "duration": 2,
    "start_time": "2023-07-12T23:47:30.237Z"
   },
   {
    "duration": 11,
    "start_time": "2023-07-12T23:47:30.241Z"
   },
   {
    "duration": 652,
    "start_time": "2023-07-12T23:47:30.254Z"
   },
   {
    "duration": 67,
    "start_time": "2023-07-12T23:47:30.908Z"
   },
   {
    "duration": 236,
    "start_time": "2023-07-12T23:47:30.977Z"
   },
   {
    "duration": 18,
    "start_time": "2023-07-12T23:47:31.216Z"
   },
   {
    "duration": 37,
    "start_time": "2023-07-12T23:47:31.236Z"
   },
   {
    "duration": 114,
    "start_time": "2023-07-12T23:47:31.275Z"
   },
   {
    "duration": 32,
    "start_time": "2023-07-12T23:47:31.391Z"
   },
   {
    "duration": 15,
    "start_time": "2023-07-12T23:47:31.424Z"
   },
   {
    "duration": 23,
    "start_time": "2023-07-12T23:47:31.441Z"
   },
   {
    "duration": 3243578,
    "start_time": "2023-07-12T23:47:31.466Z"
   },
   {
    "duration": 6,
    "start_time": "2023-07-13T00:41:35.052Z"
   },
   {
    "duration": 8,
    "start_time": "2023-07-13T00:41:35.060Z"
   },
   {
    "duration": 2111070,
    "start_time": "2023-07-13T00:41:35.070Z"
   },
   {
    "duration": 5,
    "start_time": "2023-07-13T01:16:46.142Z"
   },
   {
    "duration": 16,
    "start_time": "2023-07-13T01:16:46.151Z"
   },
   {
    "duration": 18,
    "start_time": "2023-07-13T01:16:46.169Z"
   },
   {
    "duration": 12,
    "start_time": "2023-07-13T01:16:46.189Z"
   },
   {
    "duration": 13,
    "start_time": "2023-07-13T01:16:46.204Z"
   },
   {
    "duration": 21,
    "start_time": "2023-07-13T01:16:46.219Z"
   },
   {
    "duration": 5,
    "start_time": "2023-07-13T03:14:16.691Z"
   },
   {
    "duration": 3,
    "start_time": "2023-07-13T03:14:19.492Z"
   },
   {
    "duration": 4,
    "start_time": "2023-07-13T03:14:19.998Z"
   },
   {
    "duration": 6,
    "start_time": "2023-07-13T21:32:26.066Z"
   },
   {
    "duration": 4,
    "start_time": "2023-07-13T21:32:27.774Z"
   },
   {
    "duration": 4,
    "start_time": "2023-07-13T21:32:29.331Z"
   },
   {
    "duration": 2331,
    "start_time": "2023-07-13T22:46:21.880Z"
   },
   {
    "duration": 1613,
    "start_time": "2023-07-13T22:46:24.214Z"
   },
   {
    "duration": 989,
    "start_time": "2023-07-13T22:46:25.829Z"
   },
   {
    "duration": 17,
    "start_time": "2023-07-13T22:46:26.820Z"
   },
   {
    "duration": 160,
    "start_time": "2023-07-13T22:46:26.840Z"
   },
   {
    "duration": 242,
    "start_time": "2023-07-13T22:46:27.002Z"
   },
   {
    "duration": 561,
    "start_time": "2023-07-13T22:46:27.253Z"
   },
   {
    "duration": 691,
    "start_time": "2023-07-13T22:46:27.816Z"
   },
   {
    "duration": 530,
    "start_time": "2023-07-13T22:46:28.509Z"
   },
   {
    "duration": 260,
    "start_time": "2023-07-13T22:46:29.040Z"
   },
   {
    "duration": 17,
    "start_time": "2023-07-13T22:46:29.302Z"
   },
   {
    "duration": 259,
    "start_time": "2023-07-13T22:46:29.321Z"
   },
   {
    "duration": 411,
    "start_time": "2023-07-13T22:46:29.582Z"
   },
   {
    "duration": 30,
    "start_time": "2023-07-13T22:46:29.997Z"
   },
   {
    "duration": 243,
    "start_time": "2023-07-13T22:46:30.028Z"
   },
   {
    "duration": 6960,
    "start_time": "2023-07-13T22:46:30.273Z"
   },
   {
    "duration": 39,
    "start_time": "2023-07-13T22:46:37.234Z"
   },
   {
    "duration": 235,
    "start_time": "2023-07-13T22:46:37.274Z"
   },
   {
    "duration": 359,
    "start_time": "2023-07-13T22:46:37.511Z"
   },
   {
    "duration": 27,
    "start_time": "2023-07-13T22:46:37.872Z"
   },
   {
    "duration": 225,
    "start_time": "2023-07-13T22:46:37.901Z"
   },
   {
    "duration": 58,
    "start_time": "2023-07-13T22:46:38.128Z"
   },
   {
    "duration": 16,
    "start_time": "2023-07-13T22:46:38.188Z"
   },
   {
    "duration": 164,
    "start_time": "2023-07-13T22:46:38.206Z"
   },
   {
    "duration": 44,
    "start_time": "2023-07-13T22:46:38.381Z"
   },
   {
    "duration": 3,
    "start_time": "2023-07-13T22:46:38.427Z"
   },
   {
    "duration": 5,
    "start_time": "2023-07-13T22:46:38.432Z"
   },
   {
    "duration": 21290,
    "start_time": "2023-07-13T22:46:38.439Z"
   },
   {
    "duration": 40,
    "start_time": "2023-07-13T22:46:59.730Z"
   },
   {
    "duration": 231,
    "start_time": "2023-07-13T22:46:59.772Z"
   },
   {
    "duration": 4,
    "start_time": "2023-07-13T22:47:00.004Z"
   },
   {
    "duration": 69,
    "start_time": "2023-07-13T22:47:00.010Z"
   },
   {
    "duration": 22,
    "start_time": "2023-07-13T22:47:00.082Z"
   },
   {
    "duration": 639,
    "start_time": "2023-07-13T22:47:00.105Z"
   },
   {
    "duration": 159,
    "start_time": "2023-07-13T22:47:00.753Z"
   },
   {
    "duration": 1998,
    "start_time": "2023-07-13T22:47:00.913Z"
   },
   {
    "duration": 21,
    "start_time": "2023-07-13T22:47:02.913Z"
   },
   {
    "duration": 73,
    "start_time": "2023-07-13T22:47:02.936Z"
   },
   {
    "duration": 586,
    "start_time": "2023-07-13T22:47:03.010Z"
   },
   {
    "duration": 71,
    "start_time": "2023-07-13T22:47:03.598Z"
   },
   {
    "duration": 41,
    "start_time": "2023-07-13T22:47:03.674Z"
   },
   {
    "duration": 113,
    "start_time": "2023-07-13T22:47:03.716Z"
   },
   {
    "duration": 93,
    "start_time": "2023-07-13T22:47:03.831Z"
   },
   {
    "duration": 10,
    "start_time": "2023-07-13T22:47:03.925Z"
   },
   {
    "duration": 22,
    "start_time": "2023-07-13T22:47:03.936Z"
   },
   {
    "duration": 54,
    "start_time": "2023-07-13T22:47:03.960Z"
   },
   {
    "duration": 883,
    "start_time": "2023-07-13T22:47:04.016Z"
   },
   {
    "duration": 3,
    "start_time": "2023-07-13T22:47:04.901Z"
   },
   {
    "duration": 10,
    "start_time": "2023-07-13T22:47:04.905Z"
   },
   {
    "duration": 663,
    "start_time": "2023-07-13T22:47:04.917Z"
   },
   {
    "duration": 47,
    "start_time": "2023-07-13T22:47:05.582Z"
   },
   {
    "duration": 260,
    "start_time": "2023-07-13T22:47:05.631Z"
   },
   {
    "duration": 18,
    "start_time": "2023-07-13T22:47:05.893Z"
   },
   {
    "duration": 49,
    "start_time": "2023-07-13T22:47:05.913Z"
   },
   {
    "duration": 107,
    "start_time": "2023-07-13T22:47:05.964Z"
   },
   {
    "duration": 33,
    "start_time": "2023-07-13T22:47:06.077Z"
   },
   {
    "duration": 4,
    "start_time": "2023-07-13T22:47:06.112Z"
   },
   {
    "duration": 17,
    "start_time": "2023-07-13T22:47:06.117Z"
   },
   {
    "duration": 2061,
    "start_time": "2023-07-13T22:58:41.763Z"
   },
   {
    "duration": 1993,
    "start_time": "2023-07-13T22:58:43.827Z"
   },
   {
    "duration": 858,
    "start_time": "2023-07-13T22:58:45.822Z"
   },
   {
    "duration": 17,
    "start_time": "2023-07-13T22:58:46.682Z"
   },
   {
    "duration": 122,
    "start_time": "2023-07-13T22:58:46.701Z"
   },
   {
    "duration": 242,
    "start_time": "2023-07-13T22:58:46.825Z"
   },
   {
    "duration": 537,
    "start_time": "2023-07-13T22:58:47.069Z"
   },
   {
    "duration": 694,
    "start_time": "2023-07-13T22:58:47.607Z"
   },
   {
    "duration": 517,
    "start_time": "2023-07-13T22:58:48.303Z"
   },
   {
    "duration": 243,
    "start_time": "2023-07-13T22:58:48.823Z"
   },
   {
    "duration": 18,
    "start_time": "2023-07-13T22:58:49.068Z"
   },
   {
    "duration": 233,
    "start_time": "2023-07-13T22:58:49.088Z"
   },
   {
    "duration": 400,
    "start_time": "2023-07-13T22:58:49.323Z"
   },
   {
    "duration": 44,
    "start_time": "2023-07-13T22:58:49.724Z"
   },
   {
    "duration": 246,
    "start_time": "2023-07-13T22:58:49.769Z"
   },
   {
    "duration": 6791,
    "start_time": "2023-07-13T22:58:50.017Z"
   },
   {
    "duration": 30,
    "start_time": "2023-07-13T22:58:56.809Z"
   },
   {
    "duration": 222,
    "start_time": "2023-07-13T22:58:56.851Z"
   },
   {
    "duration": 335,
    "start_time": "2023-07-13T22:58:57.075Z"
   },
   {
    "duration": 27,
    "start_time": "2023-07-13T22:58:57.411Z"
   },
   {
    "duration": 231,
    "start_time": "2023-07-13T22:58:57.440Z"
   },
   {
    "duration": 50,
    "start_time": "2023-07-13T22:58:57.673Z"
   },
   {
    "duration": 15,
    "start_time": "2023-07-13T22:58:57.724Z"
   },
   {
    "duration": 135,
    "start_time": "2023-07-13T22:58:57.740Z"
   },
   {
    "duration": 36,
    "start_time": "2023-07-13T22:58:57.877Z"
   },
   {
    "duration": 3,
    "start_time": "2023-07-13T22:58:57.916Z"
   },
   {
    "duration": 14,
    "start_time": "2023-07-13T22:58:57.921Z"
   },
   {
    "duration": 19679,
    "start_time": "2023-07-13T22:58:57.953Z"
   },
   {
    "duration": 38,
    "start_time": "2023-07-13T22:59:17.634Z"
   },
   {
    "duration": 214,
    "start_time": "2023-07-13T22:59:17.674Z"
   },
   {
    "duration": 4,
    "start_time": "2023-07-13T22:59:17.890Z"
   },
   {
    "duration": 52,
    "start_time": "2023-07-13T22:59:17.896Z"
   },
   {
    "duration": 24,
    "start_time": "2023-07-13T22:59:17.950Z"
   },
   {
    "duration": 615,
    "start_time": "2023-07-13T22:59:17.976Z"
   },
   {
    "duration": 174,
    "start_time": "2023-07-13T22:59:18.593Z"
   },
   {
    "duration": 1953,
    "start_time": "2023-07-13T22:59:18.770Z"
   },
   {
    "duration": 32,
    "start_time": "2023-07-13T22:59:20.725Z"
   },
   {
    "duration": 63,
    "start_time": "2023-07-13T22:59:20.767Z"
   },
   {
    "duration": 664,
    "start_time": "2023-07-13T22:59:20.832Z"
   },
   {
    "duration": 66,
    "start_time": "2023-07-13T22:59:21.498Z"
   },
   {
    "duration": 27,
    "start_time": "2023-07-13T22:59:21.566Z"
   },
   {
    "duration": 97,
    "start_time": "2023-07-13T22:59:21.595Z"
   },
   {
    "duration": 89,
    "start_time": "2023-07-13T22:59:21.694Z"
   },
   {
    "duration": 9,
    "start_time": "2023-07-13T22:59:21.785Z"
   },
   {
    "duration": 24,
    "start_time": "2023-07-13T22:59:21.796Z"
   },
   {
    "duration": 41,
    "start_time": "2023-07-13T22:59:21.822Z"
   },
   {
    "duration": 739,
    "start_time": "2023-07-13T22:59:21.865Z"
   },
   {
    "duration": 3,
    "start_time": "2023-07-13T22:59:22.606Z"
   },
   {
    "duration": 9,
    "start_time": "2023-07-13T22:59:22.610Z"
   },
   {
    "duration": 614,
    "start_time": "2023-07-13T22:59:22.620Z"
   },
   {
    "duration": 69,
    "start_time": "2023-07-13T22:59:23.236Z"
   },
   {
    "duration": 226,
    "start_time": "2023-07-13T22:59:23.307Z"
   },
   {
    "duration": 33,
    "start_time": "2023-07-13T22:59:23.534Z"
   },
   {
    "duration": 21,
    "start_time": "2023-07-13T22:59:23.569Z"
   },
   {
    "duration": 86,
    "start_time": "2023-07-13T22:59:23.591Z"
   },
   {
    "duration": 30,
    "start_time": "2023-07-13T22:59:23.678Z"
   },
   {
    "duration": 4,
    "start_time": "2023-07-13T22:59:23.710Z"
   },
   {
    "duration": 8,
    "start_time": "2023-07-13T22:59:23.715Z"
   },
   {
    "duration": 3806905,
    "start_time": "2023-07-13T22:59:23.724Z"
   },
   {
    "duration": 7,
    "start_time": "2023-07-14T00:02:50.631Z"
   },
   {
    "duration": 15,
    "start_time": "2023-07-14T00:02:50.640Z"
   },
   {
    "duration": 2308549,
    "start_time": "2023-07-14T00:02:50.657Z"
   },
   {
    "duration": 4,
    "start_time": "2023-07-14T00:41:19.208Z"
   },
   {
    "duration": 7,
    "start_time": "2023-07-14T00:41:19.214Z"
   },
   {
    "duration": 6,
    "start_time": "2023-07-14T00:41:19.223Z"
   },
   {
    "duration": 21,
    "start_time": "2023-07-14T00:41:19.231Z"
   },
   {
    "duration": 3,
    "start_time": "2023-07-14T00:41:19.254Z"
   },
   {
    "duration": 13,
    "start_time": "2023-07-14T00:41:19.260Z"
   },
   {
    "duration": 640902,
    "start_time": "2023-07-14T01:03:25.214Z"
   },
   {
    "duration": 3,
    "start_time": "2023-07-14T01:14:06.119Z"
   },
   {
    "duration": 3,
    "start_time": "2023-07-14T01:14:07.516Z"
   },
   {
    "duration": 12958,
    "start_time": "2023-07-14T01:18:27.891Z"
   }
  ],
  "kernelspec": {
   "display_name": "Python 3 (ipykernel)",
   "language": "python",
   "name": "python3"
  },
  "language_info": {
   "codemirror_mode": {
    "name": "ipython",
    "version": 3
   },
   "file_extension": ".py",
   "mimetype": "text/x-python",
   "name": "python",
   "nbconvert_exporter": "python",
   "pygments_lexer": "ipython3",
   "version": "3.9.13"
  },
  "nbTranslate": {
   "displayLangs": [
    "*"
   ],
   "hotkey": "alt-t",
   "langInMainMenu": true,
   "sourceLang": "ru",
   "targetLang": "en",
   "useGoogleTranslate": true
  },
  "toc": {
   "base_numbering": 1,
   "nav_menu": {
    "height": "600px",
    "width": "245.994px"
   },
   "number_sections": true,
   "sideBar": true,
   "skip_h1_title": true,
   "title_cell": "Table of Contents",
   "title_sidebar": "Contents",
   "toc_cell": false,
   "toc_position": {},
   "toc_section_display": true,
   "toc_window_display": false
  }
 },
 "nbformat": 4,
 "nbformat_minor": 2
}
